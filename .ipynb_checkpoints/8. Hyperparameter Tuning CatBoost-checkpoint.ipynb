{
 "cells": [
  {
   "cell_type": "markdown",
   "metadata": {},
   "source": [
    "---\n",
    "\n",
    "### `Hyperparameter Tuning CatBoost`\n",
    "\n",
    "---\n",
    "\n",
    "\n",
    "In this notebook, we will tune parameters of CatBoost which is another gradient boosting based technique especially for dealing with categorical variables. It has similar parameters as XGBoost:\n",
    "\n",
    "- **`N_ESTIMATORS`** : Number of Trees. It is recommended to check that there is no obvious underfitting or overfitting before tuning any other parameters. This can be done by setting the number of iterations to a large value, using the overfitting detector parameters. But, Here we will use the same approach that we used in XGBoost Tuning. We will check performance over all the validation sets to check the overfitting.\n",
    "- **`MAX_DEPTH`** : Maximum Tree Depth of the base learners.\n",
    "- **`LEARNING RATE`** : This setting is used for reducing the gradient step. It affects the overall time of training: the smaller the value, the more iterations are required for training. Choose the value based on the performance expectations.\n",
    "- **`L2_REG`** : We will try different values of the regularizer to find the best possible.\n",
    "\n",
    "---\n"
   ]
  },
  {
   "cell_type": "code",
   "execution_count": 1,
   "metadata": {},
   "outputs": [],
   "source": [
    "# importing required libraries\n",
    "import pandas as pd\n",
    "import numpy as np\n",
    "import matplotlib.pyplot as plt\n",
    "%matplotlib inline\n",
    "\n",
    "from catboost import CatBoostRegressor\n",
    "from sklearn.metrics import mean_squared_log_error as msle\n",
    "from datetime import timedelta"
   ]
  },
  {
   "cell_type": "markdown",
   "metadata": {
    "collapsed": true
   },
   "source": [
    "---\n",
    "\n",
    "- We know that we have done some preprocessing on the datasets like converted categorical variable into numerical one. CatBoost handles categorical variables automatically. According to the official documentation of CatBoost https://catboost.ai/docs/concepts/parameter-tuning.html `Do not use One Hot Encoding while Preprocessing`.\n",
    "- So, first of all we are going to read the original dataset.\n",
    "\n",
    "---\n",
    "\n",
    "### Reading the Dataset\n",
    "---"
   ]
  },
  {
   "cell_type": "code",
   "execution_count": 2,
   "metadata": {},
   "outputs": [],
   "source": [
    "# read the train data\n",
    "train_data = pd.read_csv('Data/train.csv')\n",
    "\n",
    "# read the product data\n",
    "product_data = pd.read_csv('Data/product_data.csv')\n",
    "\n",
    "# read the store data\n",
    "store_data = pd.read_csv('Data/store_data.csv')"
   ]
  },
  {
   "cell_type": "code",
   "execution_count": 3,
   "metadata": {},
   "outputs": [
    {
     "data": {
      "text/html": [
       "<div>\n",
       "<style scoped>\n",
       "    .dataframe tbody tr th:only-of-type {\n",
       "        vertical-align: middle;\n",
       "    }\n",
       "\n",
       "    .dataframe tbody tr th {\n",
       "        vertical-align: top;\n",
       "    }\n",
       "\n",
       "    .dataframe thead th {\n",
       "        text-align: right;\n",
       "    }\n",
       "</style>\n",
       "<table border=\"1\" class=\"dataframe\">\n",
       "  <thead>\n",
       "    <tr style=\"text-align: right;\">\n",
       "      <th></th>\n",
       "      <th>WEEK_END_DATE</th>\n",
       "      <th>STORE_NUM</th>\n",
       "      <th>UPC</th>\n",
       "      <th>BASE_PRICE</th>\n",
       "      <th>FEATURE</th>\n",
       "      <th>DISPLAY</th>\n",
       "      <th>UNITS</th>\n",
       "    </tr>\n",
       "  </thead>\n",
       "  <tbody>\n",
       "    <tr>\n",
       "      <th>0</th>\n",
       "      <td>14-Jan-09</td>\n",
       "      <td>367</td>\n",
       "      <td>1111009477</td>\n",
       "      <td>1.57</td>\n",
       "      <td>0</td>\n",
       "      <td>0</td>\n",
       "      <td>13</td>\n",
       "    </tr>\n",
       "    <tr>\n",
       "      <th>1</th>\n",
       "      <td>14-Jan-09</td>\n",
       "      <td>367</td>\n",
       "      <td>1111009497</td>\n",
       "      <td>1.39</td>\n",
       "      <td>0</td>\n",
       "      <td>0</td>\n",
       "      <td>20</td>\n",
       "    </tr>\n",
       "  </tbody>\n",
       "</table>\n",
       "</div>"
      ],
      "text/plain": [
       "  WEEK_END_DATE  STORE_NUM         UPC  BASE_PRICE  FEATURE  DISPLAY  UNITS\n",
       "0     14-Jan-09        367  1111009477        1.57        0        0     13\n",
       "1     14-Jan-09        367  1111009497        1.39        0        0     20"
      ]
     },
     "execution_count": 3,
     "metadata": {},
     "output_type": "execute_result"
    }
   ],
   "source": [
    "# view the train data\n",
    "train_data.head(2)"
   ]
  },
  {
   "cell_type": "markdown",
   "metadata": {},
   "source": [
    "- Convert the WEEK_END_DATE to datetime format."
   ]
  },
  {
   "cell_type": "code",
   "execution_count": 4,
   "metadata": {},
   "outputs": [],
   "source": [
    "train_data['WEEK_END_DATE'] = pd.to_datetime(train_data.WEEK_END_DATE)"
   ]
  },
  {
   "cell_type": "code",
   "execution_count": 5,
   "metadata": {},
   "outputs": [
    {
     "data": {
      "text/html": [
       "<div>\n",
       "<style scoped>\n",
       "    .dataframe tbody tr th:only-of-type {\n",
       "        vertical-align: middle;\n",
       "    }\n",
       "\n",
       "    .dataframe tbody tr th {\n",
       "        vertical-align: top;\n",
       "    }\n",
       "\n",
       "    .dataframe thead th {\n",
       "        text-align: right;\n",
       "    }\n",
       "</style>\n",
       "<table border=\"1\" class=\"dataframe\">\n",
       "  <thead>\n",
       "    <tr style=\"text-align: right;\">\n",
       "      <th></th>\n",
       "      <th>UPC</th>\n",
       "      <th>DESCRIPTION</th>\n",
       "      <th>MANUFACTURER</th>\n",
       "      <th>CATEGORY</th>\n",
       "      <th>SUB_CATEGORY</th>\n",
       "      <th>PRODUCT_SIZE</th>\n",
       "    </tr>\n",
       "  </thead>\n",
       "  <tbody>\n",
       "    <tr>\n",
       "      <th>0</th>\n",
       "      <td>1111009477</td>\n",
       "      <td>PL MINI TWIST PRETZELS</td>\n",
       "      <td>PRIVATE LABEL</td>\n",
       "      <td>BAG SNACKS</td>\n",
       "      <td>PRETZELS</td>\n",
       "      <td>15 OZ</td>\n",
       "    </tr>\n",
       "    <tr>\n",
       "      <th>1</th>\n",
       "      <td>1111009497</td>\n",
       "      <td>PL PRETZEL STICKS</td>\n",
       "      <td>PRIVATE LABEL</td>\n",
       "      <td>BAG SNACKS</td>\n",
       "      <td>PRETZELS</td>\n",
       "      <td>15 OZ</td>\n",
       "    </tr>\n",
       "  </tbody>\n",
       "</table>\n",
       "</div>"
      ],
      "text/plain": [
       "          UPC             DESCRIPTION   MANUFACTURER    CATEGORY SUB_CATEGORY  \\\n",
       "0  1111009477  PL MINI TWIST PRETZELS  PRIVATE LABEL  BAG SNACKS     PRETZELS   \n",
       "1  1111009497       PL PRETZEL STICKS  PRIVATE LABEL  BAG SNACKS     PRETZELS   \n",
       "\n",
       "  PRODUCT_SIZE  \n",
       "0        15 OZ  \n",
       "1        15 OZ  "
      ]
     },
     "execution_count": 5,
     "metadata": {},
     "output_type": "execute_result"
    }
   ],
   "source": [
    "# view the product data\n",
    "product_data.head(2)"
   ]
  },
  {
   "cell_type": "code",
   "execution_count": 6,
   "metadata": {},
   "outputs": [
    {
     "data": {
      "text/html": [
       "<div>\n",
       "<style scoped>\n",
       "    .dataframe tbody tr th:only-of-type {\n",
       "        vertical-align: middle;\n",
       "    }\n",
       "\n",
       "    .dataframe tbody tr th {\n",
       "        vertical-align: top;\n",
       "    }\n",
       "\n",
       "    .dataframe thead th {\n",
       "        text-align: right;\n",
       "    }\n",
       "</style>\n",
       "<table border=\"1\" class=\"dataframe\">\n",
       "  <thead>\n",
       "    <tr style=\"text-align: right;\">\n",
       "      <th></th>\n",
       "      <th>STORE_ID</th>\n",
       "      <th>STORE_NAME</th>\n",
       "      <th>ADDRESS_CITY_NAME</th>\n",
       "      <th>ADDRESS_STATE_PROV_CODE</th>\n",
       "      <th>MSA_CODE</th>\n",
       "      <th>SEG_VALUE_NAME</th>\n",
       "      <th>PARKING_SPACE_QTY</th>\n",
       "      <th>SALES_AREA_SIZE_NUM</th>\n",
       "      <th>AVG_WEEKLY_BASKETS</th>\n",
       "    </tr>\n",
       "  </thead>\n",
       "  <tbody>\n",
       "    <tr>\n",
       "      <th>0</th>\n",
       "      <td>367</td>\n",
       "      <td>15TH &amp; MADISON</td>\n",
       "      <td>COVINGTON</td>\n",
       "      <td>KY</td>\n",
       "      <td>17140</td>\n",
       "      <td>VALUE</td>\n",
       "      <td>196.0</td>\n",
       "      <td>24721</td>\n",
       "      <td>12707</td>\n",
       "    </tr>\n",
       "    <tr>\n",
       "      <th>1</th>\n",
       "      <td>389</td>\n",
       "      <td>SILVERLAKE</td>\n",
       "      <td>ERLANGER</td>\n",
       "      <td>KY</td>\n",
       "      <td>17140</td>\n",
       "      <td>MAINSTREAM</td>\n",
       "      <td>408.0</td>\n",
       "      <td>46073</td>\n",
       "      <td>24767</td>\n",
       "    </tr>\n",
       "  </tbody>\n",
       "</table>\n",
       "</div>"
      ],
      "text/plain": [
       "   STORE_ID      STORE_NAME ADDRESS_CITY_NAME ADDRESS_STATE_PROV_CODE  \\\n",
       "0       367  15TH & MADISON         COVINGTON                      KY   \n",
       "1       389      SILVERLAKE          ERLANGER                      KY   \n",
       "\n",
       "   MSA_CODE SEG_VALUE_NAME  PARKING_SPACE_QTY  SALES_AREA_SIZE_NUM  \\\n",
       "0     17140          VALUE              196.0                24721   \n",
       "1     17140     MAINSTREAM              408.0                46073   \n",
       "\n",
       "   AVG_WEEKLY_BASKETS  \n",
       "0               12707  \n",
       "1               24767  "
      ]
     },
     "execution_count": 6,
     "metadata": {},
     "output_type": "execute_result"
    }
   ],
   "source": [
    "# view the store data\n",
    "store_data.head(2)"
   ]
  },
  {
   "cell_type": "markdown",
   "metadata": {},
   "source": [
    "---\n",
    "\n",
    "***Merge all the datasets***"
   ]
  },
  {
   "cell_type": "code",
   "execution_count": 7,
   "metadata": {},
   "outputs": [],
   "source": [
    "# merge all the datasets\n",
    "merged_data = train_data.merge(product_data, how= 'left', on= 'UPC')\n",
    "merged_data = merged_data.merge(store_data,  how= 'left', left_on= 'STORE_NUM', right_on= 'STORE_ID')"
   ]
  },
  {
   "cell_type": "code",
   "execution_count": 8,
   "metadata": {},
   "outputs": [
    {
     "data": {
      "text/html": [
       "<div>\n",
       "<style scoped>\n",
       "    .dataframe tbody tr th:only-of-type {\n",
       "        vertical-align: middle;\n",
       "    }\n",
       "\n",
       "    .dataframe tbody tr th {\n",
       "        vertical-align: top;\n",
       "    }\n",
       "\n",
       "    .dataframe thead th {\n",
       "        text-align: right;\n",
       "    }\n",
       "</style>\n",
       "<table border=\"1\" class=\"dataframe\">\n",
       "  <thead>\n",
       "    <tr style=\"text-align: right;\">\n",
       "      <th></th>\n",
       "      <th>WEEK_END_DATE</th>\n",
       "      <th>STORE_NUM</th>\n",
       "      <th>UPC</th>\n",
       "      <th>BASE_PRICE</th>\n",
       "      <th>FEATURE</th>\n",
       "      <th>DISPLAY</th>\n",
       "      <th>UNITS</th>\n",
       "      <th>DESCRIPTION</th>\n",
       "      <th>MANUFACTURER</th>\n",
       "      <th>CATEGORY</th>\n",
       "      <th>...</th>\n",
       "      <th>PRODUCT_SIZE</th>\n",
       "      <th>STORE_ID</th>\n",
       "      <th>STORE_NAME</th>\n",
       "      <th>ADDRESS_CITY_NAME</th>\n",
       "      <th>ADDRESS_STATE_PROV_CODE</th>\n",
       "      <th>MSA_CODE</th>\n",
       "      <th>SEG_VALUE_NAME</th>\n",
       "      <th>PARKING_SPACE_QTY</th>\n",
       "      <th>SALES_AREA_SIZE_NUM</th>\n",
       "      <th>AVG_WEEKLY_BASKETS</th>\n",
       "    </tr>\n",
       "  </thead>\n",
       "  <tbody>\n",
       "    <tr>\n",
       "      <th>0</th>\n",
       "      <td>2009-01-14</td>\n",
       "      <td>367</td>\n",
       "      <td>1111009477</td>\n",
       "      <td>1.57</td>\n",
       "      <td>0</td>\n",
       "      <td>0</td>\n",
       "      <td>13</td>\n",
       "      <td>PL MINI TWIST PRETZELS</td>\n",
       "      <td>PRIVATE LABEL</td>\n",
       "      <td>BAG SNACKS</td>\n",
       "      <td>...</td>\n",
       "      <td>15 OZ</td>\n",
       "      <td>367</td>\n",
       "      <td>15TH &amp; MADISON</td>\n",
       "      <td>COVINGTON</td>\n",
       "      <td>KY</td>\n",
       "      <td>17140</td>\n",
       "      <td>VALUE</td>\n",
       "      <td>196.0</td>\n",
       "      <td>24721</td>\n",
       "      <td>12707</td>\n",
       "    </tr>\n",
       "    <tr>\n",
       "      <th>1</th>\n",
       "      <td>2009-01-14</td>\n",
       "      <td>367</td>\n",
       "      <td>1111009497</td>\n",
       "      <td>1.39</td>\n",
       "      <td>0</td>\n",
       "      <td>0</td>\n",
       "      <td>20</td>\n",
       "      <td>PL PRETZEL STICKS</td>\n",
       "      <td>PRIVATE LABEL</td>\n",
       "      <td>BAG SNACKS</td>\n",
       "      <td>...</td>\n",
       "      <td>15 OZ</td>\n",
       "      <td>367</td>\n",
       "      <td>15TH &amp; MADISON</td>\n",
       "      <td>COVINGTON</td>\n",
       "      <td>KY</td>\n",
       "      <td>17140</td>\n",
       "      <td>VALUE</td>\n",
       "      <td>196.0</td>\n",
       "      <td>24721</td>\n",
       "      <td>12707</td>\n",
       "    </tr>\n",
       "  </tbody>\n",
       "</table>\n",
       "<p>2 rows × 21 columns</p>\n",
       "</div>"
      ],
      "text/plain": [
       "  WEEK_END_DATE  STORE_NUM         UPC  BASE_PRICE  FEATURE  DISPLAY  UNITS  \\\n",
       "0    2009-01-14        367  1111009477        1.57        0        0     13   \n",
       "1    2009-01-14        367  1111009497        1.39        0        0     20   \n",
       "\n",
       "              DESCRIPTION   MANUFACTURER    CATEGORY  ... PRODUCT_SIZE  \\\n",
       "0  PL MINI TWIST PRETZELS  PRIVATE LABEL  BAG SNACKS  ...        15 OZ   \n",
       "1       PL PRETZEL STICKS  PRIVATE LABEL  BAG SNACKS  ...        15 OZ   \n",
       "\n",
       "  STORE_ID      STORE_NAME ADDRESS_CITY_NAME ADDRESS_STATE_PROV_CODE MSA_CODE  \\\n",
       "0      367  15TH & MADISON         COVINGTON                      KY    17140   \n",
       "1      367  15TH & MADISON         COVINGTON                      KY    17140   \n",
       "\n",
       "   SEG_VALUE_NAME PARKING_SPACE_QTY  SALES_AREA_SIZE_NUM  AVG_WEEKLY_BASKETS  \n",
       "0           VALUE             196.0                24721               12707  \n",
       "1           VALUE             196.0                24721               12707  \n",
       "\n",
       "[2 rows x 21 columns]"
      ]
     },
     "execution_count": 8,
     "metadata": {},
     "output_type": "execute_result"
    }
   ],
   "source": [
    "# view the merged data\n",
    "merged_data.head(2)"
   ]
  },
  {
   "cell_type": "code",
   "execution_count": 9,
   "metadata": {},
   "outputs": [
    {
     "data": {
      "text/plain": [
       "(232287, 21)"
      ]
     },
     "execution_count": 9,
     "metadata": {},
     "output_type": "execute_result"
    }
   ],
   "source": [
    "# shape of the merged data\n",
    "merged_data.shape"
   ]
  },
  {
   "cell_type": "code",
   "execution_count": 10,
   "metadata": {},
   "outputs": [
    {
     "data": {
      "text/plain": [
       "WEEK_END_DATE                 2009-01-14 00:00:00\n",
       "STORE_NUM                                     367\n",
       "UPC                                    1111009477\n",
       "BASE_PRICE                                   1.57\n",
       "FEATURE                                         0\n",
       "DISPLAY                                         0\n",
       "UNITS                                          13\n",
       "DESCRIPTION                PL MINI TWIST PRETZELS\n",
       "MANUFACTURER                        PRIVATE LABEL\n",
       "CATEGORY                               BAG SNACKS\n",
       "SUB_CATEGORY                             PRETZELS\n",
       "PRODUCT_SIZE                                15 OZ\n",
       "STORE_ID                                      367\n",
       "STORE_NAME                         15TH & MADISON\n",
       "ADDRESS_CITY_NAME                       COVINGTON\n",
       "ADDRESS_STATE_PROV_CODE                        KY\n",
       "MSA_CODE                                    17140\n",
       "SEG_VALUE_NAME                              VALUE\n",
       "PARKING_SPACE_QTY                           196.0\n",
       "SALES_AREA_SIZE_NUM                         24721\n",
       "AVG_WEEKLY_BASKETS                          12707\n",
       "Name: 0, dtype: object"
      ]
     },
     "execution_count": 10,
     "metadata": {},
     "output_type": "execute_result"
    }
   ],
   "source": [
    "# view the data in first row\n",
    "merged_data.loc[0]"
   ]
  },
  {
   "cell_type": "markdown",
   "metadata": {},
   "source": [
    "---\n",
    "\n",
    "- While preprocessing, there were some missing values in `BASE_PRICE`, so we will not impute it here again and use the `final_data.csv` to get that column.\n",
    "- We have done some transformations on the `PRODUCT_SIZE` also, we will use that from the updated file also.\n",
    "- We have removed some features like `PARKING_SPACE_QTY` as it has high correlation with the `SALES_AREA_SIZE_NUM`.\n",
    "\n",
    "---"
   ]
  },
  {
   "cell_type": "code",
   "execution_count": 11,
   "metadata": {},
   "outputs": [],
   "source": [
    "# drop the columns\n",
    "merged_data = merged_data.drop(columns= ['BASE_PRICE',\n",
    "                                         'DESCRIPTION',\n",
    "                                         'PRODUCT_SIZE',\n",
    "                                         'STORE_ID',\n",
    "                                         'PARKING_SPACE_QTY'])"
   ]
  },
  {
   "cell_type": "code",
   "execution_count": 12,
   "metadata": {},
   "outputs": [
    {
     "data": {
      "text/plain": [
       "Index(['WEEK_END_DATE', 'STORE_NUM', 'UPC', 'FEATURE', 'DISPLAY', 'UNITS',\n",
       "       'MANUFACTURER', 'CATEGORY', 'SUB_CATEGORY', 'STORE_NAME',\n",
       "       'ADDRESS_CITY_NAME', 'ADDRESS_STATE_PROV_CODE', 'MSA_CODE',\n",
       "       'SEG_VALUE_NAME', 'SALES_AREA_SIZE_NUM', 'AVG_WEEKLY_BASKETS'],\n",
       "      dtype='object')"
      ]
     },
     "execution_count": 12,
     "metadata": {},
     "output_type": "execute_result"
    }
   ],
   "source": [
    "# updated columns\n",
    "merged_data.columns"
   ]
  },
  {
   "cell_type": "markdown",
   "metadata": {},
   "source": [
    "---\n",
    "\n",
    "- `We have also created some more features like` :\n",
    "\n",
    "  - ***Time Based Features***\n",
    "  - ***Unique number of Manufacturers, Category and SubCategory in a Store.***\n",
    "  - ***Lag Feature - Number of units sold 52 weeks before.***\n",
    "  - ***Price Difference from the last week.***\n",
    "  - ***Average Number of units sold in the last two months.***\n",
    "\n",
    "- So, we will read these features form the final_data.csv that was generated after doing the feature engineering aling with the some columns like `WEEK_END_DATE`, `STORE_NUM`, `UPC`, `BASE_PRICE`, `PRODUCT_SIZE`.\n",
    "\n",
    "---"
   ]
  },
  {
   "cell_type": "code",
   "execution_count": 13,
   "metadata": {},
   "outputs": [],
   "source": [
    "# read the data with the new features.\n",
    "data_with_new_features = pd.read_csv('Data/final_data.csv',usecols=['WEEK_END_DATE',\n",
    "                                                               'STORE_NUM',\n",
    "                                                               'UPC',\n",
    "                                                               'BASE_PRICE',\n",
    "                                                               'PRODUCT_SIZE',\n",
    "                                                               'year',\n",
    "                                                               'month',\n",
    "                                                               'day',\n",
    "                                                               'day_of_year',\n",
    "                                                               'week',\n",
    "                                                               'quarter',\n",
    "                                                               'U_MANUFACTURER',\n",
    "                                                               'U_CATEGORY',\n",
    "                                                               'U_SUB_CATEGORY',\n",
    "                                                               'UNITS_BEFORE_52WEEK', \n",
    "                                                               'price_difference',\n",
    "                                                               'AVERAGE_UNITS_IN_2_MONTH'])"
   ]
  },
  {
   "cell_type": "code",
   "execution_count": 14,
   "metadata": {},
   "outputs": [],
   "source": [
    "# convert the WEEK_END_DATE to datetime\n",
    "data_with_new_features.WEEK_END_DATE = pd.to_datetime(data_with_new_features.WEEK_END_DATE)"
   ]
  },
  {
   "cell_type": "code",
   "execution_count": 15,
   "metadata": {},
   "outputs": [
    {
     "data": {
      "text/plain": [
       "((232287, 16), (232266, 17))"
      ]
     },
     "execution_count": 15,
     "metadata": {},
     "output_type": "execute_result"
    }
   ],
   "source": [
    "# let's check the shape of the merged data, and data with new features\n",
    "merged_data.shape, data_with_new_features.shape"
   ]
  },
  {
   "cell_type": "markdown",
   "metadata": {},
   "source": [
    "---\n",
    "\n",
    "### `Outlier Removal`\n",
    "\n",
    "- So, you can see that there is a difference between the number of rows in both the datasets. This is because we have removed some outliers from the data while preprocessing.\n",
    "- As we know that the combination of `WEEK_END_DATE`, `STORE_NUM`, `UPC` is unique for each row. So, we will do a left join and merge both the data sets on these keys.\n",
    "\n",
    "---"
   ]
  },
  {
   "cell_type": "code",
   "execution_count": 16,
   "metadata": {},
   "outputs": [],
   "source": [
    "# final data : do a left join\n",
    "final_data = data_with_new_features.merge(merged_data, how = 'left', on= ['WEEK_END_DATE',\n",
    "                                                                          'STORE_NUM',\n",
    "                                                                          'UPC'])"
   ]
  },
  {
   "cell_type": "code",
   "execution_count": 17,
   "metadata": {},
   "outputs": [
    {
     "data": {
      "text/plain": [
       "(232266, 30)"
      ]
     },
     "execution_count": 17,
     "metadata": {},
     "output_type": "execute_result"
    }
   ],
   "source": [
    "# shape of the final data\n",
    "final_data.shape"
   ]
  },
  {
   "cell_type": "code",
   "execution_count": 18,
   "metadata": {},
   "outputs": [
    {
     "data": {
      "text/plain": [
       "WEEK_END_DATE               2009-01-14 00:00:00\n",
       "STORE_NUM                                   367\n",
       "UPC                                  1111009477\n",
       "BASE_PRICE                                 1.57\n",
       "PRODUCT_SIZE                                  2\n",
       "year                                       2009\n",
       "month                                         1\n",
       "day                                          14\n",
       "day_of_year                                  14\n",
       "week                                          3\n",
       "quarter                                       1\n",
       "U_MANUFACTURER                                4\n",
       "U_CATEGORY                                    3\n",
       "U_SUB_CATEGORY                                5\n",
       "UNITS_BEFORE_52WEEK                         0.0\n",
       "price_difference                            0.0\n",
       "AVERAGE_UNITS_IN_2_MONTH                    0.0\n",
       "FEATURE                                       0\n",
       "DISPLAY                                       0\n",
       "UNITS                                        13\n",
       "MANUFACTURER                      PRIVATE LABEL\n",
       "CATEGORY                             BAG SNACKS\n",
       "SUB_CATEGORY                           PRETZELS\n",
       "STORE_NAME                       15TH & MADISON\n",
       "ADDRESS_CITY_NAME                     COVINGTON\n",
       "ADDRESS_STATE_PROV_CODE                      KY\n",
       "MSA_CODE                                  17140\n",
       "SEG_VALUE_NAME                            VALUE\n",
       "SALES_AREA_SIZE_NUM                       24721\n",
       "AVG_WEEKLY_BASKETS                        12707\n",
       "Name: 0, dtype: object"
      ]
     },
     "execution_count": 18,
     "metadata": {},
     "output_type": "execute_result"
    }
   ],
   "source": [
    "# view the data in the first row.\n",
    "final_data.loc[0]"
   ]
  },
  {
   "cell_type": "markdown",
   "metadata": {},
   "source": [
    "---\n",
    "\n",
    "\n",
    "### `Validation Strategy`\n",
    "\n",
    "- We will use the same validation stategy for the catboost and we will use 14 validation sets with training period of 2 months.\n"
   ]
  },
  {
   "cell_type": "code",
   "execution_count": 19,
   "metadata": {},
   "outputs": [],
   "source": [
    "# create an array of unique week dates\n",
    "week = final_data.WEEK_END_DATE.unique()"
   ]
  },
  {
   "cell_type": "code",
   "execution_count": 21,
   "metadata": {},
   "outputs": [],
   "source": [
    "# define the function to get the validation dataframe\n",
    "def validation_df(data, week, no_of_months, no_of_validation):\n",
    "    \n",
    "    model_set = []\n",
    "    set_n = 1\n",
    "    for w in range(len(week)-1,0,-1):\n",
    "        x_data = {}\n",
    "\n",
    "        x_data['train_start'] = week[w-3-4*no_of_months]\n",
    "        x_data['train_end'] = week[w-4]\n",
    "        x_data['validate_week'] = week[w-2]\n",
    "        x_data['test_week'] = week[w]\n",
    "        x_data['no_days_train'] = x_data['train_end'] - x_data['train_start']\n",
    "        x_data['set_no'] = 'set'+str(set_n)\n",
    "        set_n +=1\n",
    "        model_set.append(x_data)\n",
    "        if(len(model_set) == no_of_validation):\n",
    "            break\n",
    "        \n",
    "        \n",
    "    datapoints = []\n",
    "\n",
    "    for s in model_set :\n",
    "        x = {}\n",
    "        train_set = data[(data.WEEK_END_DATE >= s['train_start']) & (data.WEEK_END_DATE <= s['train_end'])]\n",
    "        x['train_shape'] = train_set.shape[0]\n",
    "        x['validation_shape']  = data[data.WEEK_END_DATE == s['validate_week']].shape[0]\n",
    "        x['test_shape'] = data[data.WEEK_END_DATE == s['test_week']].shape[0]\n",
    "        x.update(s)\n",
    "        datapoints.append(x)\n",
    "\n",
    "    df = pd.DataFrame.from_dict(datapoints)\n",
    "    df['no_days_train'] = df['no_days_train'] + timedelta(days=7)\n",
    "    return df    "
   ]
  },
  {
   "cell_type": "code",
   "execution_count": 22,
   "metadata": {},
   "outputs": [
    {
     "data": {
      "text/html": [
       "<div>\n",
       "<style scoped>\n",
       "    .dataframe tbody tr th:only-of-type {\n",
       "        vertical-align: middle;\n",
       "    }\n",
       "\n",
       "    .dataframe tbody tr th {\n",
       "        vertical-align: top;\n",
       "    }\n",
       "\n",
       "    .dataframe thead th {\n",
       "        text-align: right;\n",
       "    }\n",
       "</style>\n",
       "<table border=\"1\" class=\"dataframe\">\n",
       "  <thead>\n",
       "    <tr style=\"text-align: right;\">\n",
       "      <th></th>\n",
       "      <th>train_shape</th>\n",
       "      <th>validation_shape</th>\n",
       "      <th>test_shape</th>\n",
       "      <th>train_start</th>\n",
       "      <th>train_end</th>\n",
       "      <th>validate_week</th>\n",
       "      <th>test_week</th>\n",
       "      <th>no_days_train</th>\n",
       "      <th>set_no</th>\n",
       "    </tr>\n",
       "  </thead>\n",
       "  <tbody>\n",
       "    <tr>\n",
       "      <th>0</th>\n",
       "      <td>13089</td>\n",
       "      <td>1640</td>\n",
       "      <td>1642</td>\n",
       "      <td>2011-07-13</td>\n",
       "      <td>2011-08-31</td>\n",
       "      <td>2011-09-14</td>\n",
       "      <td>2011-09-28</td>\n",
       "      <td>56 days</td>\n",
       "      <td>set1</td>\n",
       "    </tr>\n",
       "    <tr>\n",
       "      <th>1</th>\n",
       "      <td>13102</td>\n",
       "      <td>1632</td>\n",
       "      <td>1638</td>\n",
       "      <td>2011-07-06</td>\n",
       "      <td>2011-08-24</td>\n",
       "      <td>2011-09-07</td>\n",
       "      <td>2011-09-21</td>\n",
       "      <td>56 days</td>\n",
       "      <td>set2</td>\n",
       "    </tr>\n",
       "    <tr>\n",
       "      <th>2</th>\n",
       "      <td>13101</td>\n",
       "      <td>1629</td>\n",
       "      <td>1640</td>\n",
       "      <td>2011-06-29</td>\n",
       "      <td>2011-08-17</td>\n",
       "      <td>2011-08-31</td>\n",
       "      <td>2011-09-14</td>\n",
       "      <td>56 days</td>\n",
       "      <td>set3</td>\n",
       "    </tr>\n",
       "    <tr>\n",
       "      <th>3</th>\n",
       "      <td>13101</td>\n",
       "      <td>1640</td>\n",
       "      <td>1632</td>\n",
       "      <td>2011-06-22</td>\n",
       "      <td>2011-08-10</td>\n",
       "      <td>2011-08-24</td>\n",
       "      <td>2011-09-07</td>\n",
       "      <td>56 days</td>\n",
       "      <td>set4</td>\n",
       "    </tr>\n",
       "    <tr>\n",
       "      <th>4</th>\n",
       "      <td>13109</td>\n",
       "      <td>1638</td>\n",
       "      <td>1629</td>\n",
       "      <td>2011-06-15</td>\n",
       "      <td>2011-08-03</td>\n",
       "      <td>2011-08-17</td>\n",
       "      <td>2011-08-31</td>\n",
       "      <td>56 days</td>\n",
       "      <td>set5</td>\n",
       "    </tr>\n",
       "    <tr>\n",
       "      <th>5</th>\n",
       "      <td>13108</td>\n",
       "      <td>1631</td>\n",
       "      <td>1640</td>\n",
       "      <td>2011-06-08</td>\n",
       "      <td>2011-07-27</td>\n",
       "      <td>2011-08-10</td>\n",
       "      <td>2011-08-24</td>\n",
       "      <td>56 days</td>\n",
       "      <td>set6</td>\n",
       "    </tr>\n",
       "    <tr>\n",
       "      <th>6</th>\n",
       "      <td>13108</td>\n",
       "      <td>1640</td>\n",
       "      <td>1638</td>\n",
       "      <td>2011-06-01</td>\n",
       "      <td>2011-07-20</td>\n",
       "      <td>2011-08-03</td>\n",
       "      <td>2011-08-17</td>\n",
       "      <td>56 days</td>\n",
       "      <td>set7</td>\n",
       "    </tr>\n",
       "    <tr>\n",
       "      <th>7</th>\n",
       "      <td>13112</td>\n",
       "      <td>1637</td>\n",
       "      <td>1631</td>\n",
       "      <td>2011-05-25</td>\n",
       "      <td>2011-07-13</td>\n",
       "      <td>2011-07-27</td>\n",
       "      <td>2011-08-10</td>\n",
       "      <td>56 days</td>\n",
       "      <td>set8</td>\n",
       "    </tr>\n",
       "    <tr>\n",
       "      <th>8</th>\n",
       "      <td>13104</td>\n",
       "      <td>1635</td>\n",
       "      <td>1640</td>\n",
       "      <td>2011-05-18</td>\n",
       "      <td>2011-07-06</td>\n",
       "      <td>2011-07-20</td>\n",
       "      <td>2011-08-03</td>\n",
       "      <td>56 days</td>\n",
       "      <td>set9</td>\n",
       "    </tr>\n",
       "    <tr>\n",
       "      <th>9</th>\n",
       "      <td>13101</td>\n",
       "      <td>1639</td>\n",
       "      <td>1637</td>\n",
       "      <td>2011-05-11</td>\n",
       "      <td>2011-06-29</td>\n",
       "      <td>2011-07-13</td>\n",
       "      <td>2011-07-27</td>\n",
       "      <td>56 days</td>\n",
       "      <td>set10</td>\n",
       "    </tr>\n",
       "    <tr>\n",
       "      <th>10</th>\n",
       "      <td>13106</td>\n",
       "      <td>1642</td>\n",
       "      <td>1635</td>\n",
       "      <td>2011-05-04</td>\n",
       "      <td>2011-06-22</td>\n",
       "      <td>2011-07-06</td>\n",
       "      <td>2011-07-20</td>\n",
       "      <td>56 days</td>\n",
       "      <td>set11</td>\n",
       "    </tr>\n",
       "    <tr>\n",
       "      <th>11</th>\n",
       "      <td>13102</td>\n",
       "      <td>1639</td>\n",
       "      <td>1639</td>\n",
       "      <td>2011-04-27</td>\n",
       "      <td>2011-06-15</td>\n",
       "      <td>2011-06-29</td>\n",
       "      <td>2011-07-13</td>\n",
       "      <td>56 days</td>\n",
       "      <td>set12</td>\n",
       "    </tr>\n",
       "    <tr>\n",
       "      <th>12</th>\n",
       "      <td>13096</td>\n",
       "      <td>1638</td>\n",
       "      <td>1642</td>\n",
       "      <td>2011-04-20</td>\n",
       "      <td>2011-06-08</td>\n",
       "      <td>2011-06-22</td>\n",
       "      <td>2011-07-06</td>\n",
       "      <td>56 days</td>\n",
       "      <td>set13</td>\n",
       "    </tr>\n",
       "    <tr>\n",
       "      <th>13</th>\n",
       "      <td>13093</td>\n",
       "      <td>1639</td>\n",
       "      <td>1639</td>\n",
       "      <td>2011-04-13</td>\n",
       "      <td>2011-06-01</td>\n",
       "      <td>2011-06-15</td>\n",
       "      <td>2011-06-29</td>\n",
       "      <td>56 days</td>\n",
       "      <td>set14</td>\n",
       "    </tr>\n",
       "  </tbody>\n",
       "</table>\n",
       "</div>"
      ],
      "text/plain": [
       "    train_shape  validation_shape  test_shape train_start  train_end  \\\n",
       "0         13089              1640        1642  2011-07-13 2011-08-31   \n",
       "1         13102              1632        1638  2011-07-06 2011-08-24   \n",
       "2         13101              1629        1640  2011-06-29 2011-08-17   \n",
       "3         13101              1640        1632  2011-06-22 2011-08-10   \n",
       "4         13109              1638        1629  2011-06-15 2011-08-03   \n",
       "5         13108              1631        1640  2011-06-08 2011-07-27   \n",
       "6         13108              1640        1638  2011-06-01 2011-07-20   \n",
       "7         13112              1637        1631  2011-05-25 2011-07-13   \n",
       "8         13104              1635        1640  2011-05-18 2011-07-06   \n",
       "9         13101              1639        1637  2011-05-11 2011-06-29   \n",
       "10        13106              1642        1635  2011-05-04 2011-06-22   \n",
       "11        13102              1639        1639  2011-04-27 2011-06-15   \n",
       "12        13096              1638        1642  2011-04-20 2011-06-08   \n",
       "13        13093              1639        1639  2011-04-13 2011-06-01   \n",
       "\n",
       "   validate_week  test_week no_days_train set_no  \n",
       "0     2011-09-14 2011-09-28       56 days   set1  \n",
       "1     2011-09-07 2011-09-21       56 days   set2  \n",
       "2     2011-08-31 2011-09-14       56 days   set3  \n",
       "3     2011-08-24 2011-09-07       56 days   set4  \n",
       "4     2011-08-17 2011-08-31       56 days   set5  \n",
       "5     2011-08-10 2011-08-24       56 days   set6  \n",
       "6     2011-08-03 2011-08-17       56 days   set7  \n",
       "7     2011-07-27 2011-08-10       56 days   set8  \n",
       "8     2011-07-20 2011-08-03       56 days   set9  \n",
       "9     2011-07-13 2011-07-27       56 days  set10  \n",
       "10    2011-07-06 2011-07-20       56 days  set11  \n",
       "11    2011-06-29 2011-07-13       56 days  set12  \n",
       "12    2011-06-22 2011-07-06       56 days  set13  \n",
       "13    2011-06-15 2011-06-29       56 days  set14  "
      ]
     },
     "execution_count": 22,
     "metadata": {},
     "output_type": "execute_result"
    }
   ],
   "source": [
    "# see the validation dataframe\n",
    "validation_df(final_data, week, no_of_months= 2, no_of_validation= 14)"
   ]
  },
  {
   "cell_type": "code",
   "execution_count": 23,
   "metadata": {},
   "outputs": [],
   "source": [
    "# define the function to get the evaluation sets from the validation dataframe\n",
    "\n",
    "\"\"\"\n",
    "\n",
    "get_evaluation_sets will take 2 parameters\n",
    "    - df: validation dataframe\n",
    "    - data: dataset\n",
    "    \n",
    "return:\n",
    "evaluation_set = [ (train_data_1, validation_data_1), \n",
    "                   (train_data_2, validation_data_2),\n",
    "                    .\n",
    "                    .\n",
    "                   (train_data_n, validation_data_n)]\n",
    "\n",
    "\"\"\"\n",
    "\n",
    "def get_evaluation_sets(df, data):\n",
    "    evaluation_set = []\n",
    "    \n",
    "    for row in range(df.shape[0]):\n",
    "        print(df.loc[row]['validate_week'])\n",
    "        train_data = data[(data.WEEK_END_DATE >= df.loc[row]['train_start']) & (data.WEEK_END_DATE <= df.loc[row]['train_end'])]\n",
    "        validation_data = data[data.WEEK_END_DATE == df.loc[row]['validate_week']]\n",
    "        evaluation_set.append((train_data, validation_data))\n",
    "    return evaluation_set"
   ]
  },
  {
   "cell_type": "code",
   "execution_count": 24,
   "metadata": {},
   "outputs": [
    {
     "name": "stdout",
     "output_type": "stream",
     "text": [
      "2011-09-14 00:00:00\n",
      "2011-09-07 00:00:00\n",
      "2011-08-31 00:00:00\n",
      "2011-08-24 00:00:00\n",
      "2011-08-17 00:00:00\n",
      "2011-08-10 00:00:00\n",
      "2011-08-03 00:00:00\n",
      "2011-07-27 00:00:00\n",
      "2011-07-20 00:00:00\n",
      "2011-07-13 00:00:00\n",
      "2011-07-06 00:00:00\n",
      "2011-06-29 00:00:00\n",
      "2011-06-22 00:00:00\n",
      "2011-06-15 00:00:00\n"
     ]
    }
   ],
   "source": [
    "# get the evaluation sets\n",
    "evaluation_sets = get_evaluation_sets(validation_df(final_data,\n",
    "                                                    week,\n",
    "                                                    no_of_months= 2,\n",
    "                                                    no_of_validation= 14),\n",
    "                                      final_data)"
   ]
  },
  {
   "cell_type": "code",
   "execution_count": 27,
   "metadata": {},
   "outputs": [],
   "source": [
    "# define the function to get the rmsle\n",
    "def get_msle(true, predicted) :\n",
    "    return np.sqrt(msle(true, predicted))"
   ]
  },
  {
   "cell_type": "markdown",
   "metadata": {},
   "source": [
    "---\n",
    "\n",
    "### `Training CatBoost Model`\n",
    "- CatBoost is a little different to train as it treats categorical variables separately and we need to specify which of the features are categorical in nature.\n",
    "\n",
    "---"
   ]
  },
  {
   "cell_type": "code",
   "execution_count": 28,
   "metadata": {},
   "outputs": [],
   "source": [
    "# get the first data\n",
    "train, valid = evaluation_sets[0]"
   ]
  },
  {
   "cell_type": "code",
   "execution_count": 29,
   "metadata": {},
   "outputs": [],
   "source": [
    "# separate the independent and target variables from the data\n",
    "train_x = train.drop(columns=['WEEK_END_DATE', 'STORE_NUM', 'UPC', 'UNITS'])\n",
    "train_y = train['UNITS']\n",
    "\n",
    "valid_x = valid.drop(columns= ['WEEK_END_DATE', 'STORE_NUM', 'UPC', 'UNITS'])\n",
    "valid_y = valid['UNITS']"
   ]
  },
  {
   "cell_type": "code",
   "execution_count": 30,
   "metadata": {},
   "outputs": [
    {
     "data": {
      "text/html": [
       "<div>\n",
       "<style scoped>\n",
       "    .dataframe tbody tr th:only-of-type {\n",
       "        vertical-align: middle;\n",
       "    }\n",
       "\n",
       "    .dataframe tbody tr th {\n",
       "        vertical-align: top;\n",
       "    }\n",
       "\n",
       "    .dataframe thead th {\n",
       "        text-align: right;\n",
       "    }\n",
       "</style>\n",
       "<table border=\"1\" class=\"dataframe\">\n",
       "  <thead>\n",
       "    <tr style=\"text-align: right;\">\n",
       "      <th></th>\n",
       "      <th>BASE_PRICE</th>\n",
       "      <th>PRODUCT_SIZE</th>\n",
       "      <th>year</th>\n",
       "      <th>month</th>\n",
       "      <th>day</th>\n",
       "      <th>day_of_year</th>\n",
       "      <th>week</th>\n",
       "      <th>quarter</th>\n",
       "      <th>U_MANUFACTURER</th>\n",
       "      <th>U_CATEGORY</th>\n",
       "      <th>...</th>\n",
       "      <th>MANUFACTURER</th>\n",
       "      <th>CATEGORY</th>\n",
       "      <th>SUB_CATEGORY</th>\n",
       "      <th>STORE_NAME</th>\n",
       "      <th>ADDRESS_CITY_NAME</th>\n",
       "      <th>ADDRESS_STATE_PROV_CODE</th>\n",
       "      <th>MSA_CODE</th>\n",
       "      <th>SEG_VALUE_NAME</th>\n",
       "      <th>SALES_AREA_SIZE_NUM</th>\n",
       "      <th>AVG_WEEKLY_BASKETS</th>\n",
       "    </tr>\n",
       "  </thead>\n",
       "  <tbody>\n",
       "    <tr>\n",
       "      <th>212625</th>\n",
       "      <td>1.52</td>\n",
       "      <td>2</td>\n",
       "      <td>2011</td>\n",
       "      <td>7</td>\n",
       "      <td>13</td>\n",
       "      <td>194</td>\n",
       "      <td>28</td>\n",
       "      <td>3</td>\n",
       "      <td>4</td>\n",
       "      <td>3</td>\n",
       "      <td>...</td>\n",
       "      <td>PRIVATE LABEL</td>\n",
       "      <td>BAG SNACKS</td>\n",
       "      <td>PRETZELS</td>\n",
       "      <td>15TH &amp; MADISON</td>\n",
       "      <td>COVINGTON</td>\n",
       "      <td>KY</td>\n",
       "      <td>17140</td>\n",
       "      <td>VALUE</td>\n",
       "      <td>24721</td>\n",
       "      <td>12707</td>\n",
       "    </tr>\n",
       "    <tr>\n",
       "      <th>212626</th>\n",
       "      <td>1.53</td>\n",
       "      <td>2</td>\n",
       "      <td>2011</td>\n",
       "      <td>7</td>\n",
       "      <td>13</td>\n",
       "      <td>194</td>\n",
       "      <td>28</td>\n",
       "      <td>3</td>\n",
       "      <td>4</td>\n",
       "      <td>3</td>\n",
       "      <td>...</td>\n",
       "      <td>PRIVATE LABEL</td>\n",
       "      <td>BAG SNACKS</td>\n",
       "      <td>PRETZELS</td>\n",
       "      <td>15TH &amp; MADISON</td>\n",
       "      <td>COVINGTON</td>\n",
       "      <td>KY</td>\n",
       "      <td>17140</td>\n",
       "      <td>VALUE</td>\n",
       "      <td>24721</td>\n",
       "      <td>12707</td>\n",
       "    </tr>\n",
       "  </tbody>\n",
       "</table>\n",
       "<p>2 rows × 26 columns</p>\n",
       "</div>"
      ],
      "text/plain": [
       "        BASE_PRICE  PRODUCT_SIZE  year  month  day  day_of_year  week  \\\n",
       "212625        1.52             2  2011      7   13          194    28   \n",
       "212626        1.53             2  2011      7   13          194    28   \n",
       "\n",
       "        quarter  U_MANUFACTURER  U_CATEGORY  ...   MANUFACTURER    CATEGORY  \\\n",
       "212625        3               4           3  ...  PRIVATE LABEL  BAG SNACKS   \n",
       "212626        3               4           3  ...  PRIVATE LABEL  BAG SNACKS   \n",
       "\n",
       "        SUB_CATEGORY      STORE_NAME  ADDRESS_CITY_NAME  \\\n",
       "212625      PRETZELS  15TH & MADISON          COVINGTON   \n",
       "212626      PRETZELS  15TH & MADISON          COVINGTON   \n",
       "\n",
       "        ADDRESS_STATE_PROV_CODE MSA_CODE SEG_VALUE_NAME SALES_AREA_SIZE_NUM  \\\n",
       "212625                       KY    17140          VALUE               24721   \n",
       "212626                       KY    17140          VALUE               24721   \n",
       "\n",
       "       AVG_WEEKLY_BASKETS  \n",
       "212625              12707  \n",
       "212626              12707  \n",
       "\n",
       "[2 rows x 26 columns]"
      ]
     },
     "execution_count": 30,
     "metadata": {},
     "output_type": "execute_result"
    }
   ],
   "source": [
    "# view the independent variables \n",
    "train_x.head(2)"
   ]
  },
  {
   "cell_type": "code",
   "execution_count": 31,
   "metadata": {},
   "outputs": [
    {
     "data": {
      "text/plain": [
       "BASE_PRICE                            1.52\n",
       "PRODUCT_SIZE                             2\n",
       "year                                  2011\n",
       "month                                    7\n",
       "day                                     13\n",
       "day_of_year                            194\n",
       "week                                    28\n",
       "quarter                                  3\n",
       "U_MANUFACTURER                           4\n",
       "U_CATEGORY                               3\n",
       "U_SUB_CATEGORY                           5\n",
       "UNITS_BEFORE_52WEEK                   21.0\n",
       "price_difference                     -0.03\n",
       "AVERAGE_UNITS_IN_2_MONTH         10.666667\n",
       "FEATURE                                  0\n",
       "DISPLAY                                  0\n",
       "MANUFACTURER                 PRIVATE LABEL\n",
       "CATEGORY                        BAG SNACKS\n",
       "SUB_CATEGORY                      PRETZELS\n",
       "STORE_NAME                  15TH & MADISON\n",
       "ADDRESS_CITY_NAME                COVINGTON\n",
       "ADDRESS_STATE_PROV_CODE                 KY\n",
       "MSA_CODE                             17140\n",
       "SEG_VALUE_NAME                       VALUE\n",
       "SALES_AREA_SIZE_NUM                  24721\n",
       "AVG_WEEKLY_BASKETS                   12707\n",
       "Name: 212625, dtype: object"
      ]
     },
     "execution_count": 31,
     "metadata": {},
     "output_type": "execute_result"
    }
   ],
   "source": [
    "# look at the first row.\n",
    "train_x.iloc[0]"
   ]
  },
  {
   "cell_type": "markdown",
   "metadata": {},
   "source": [
    "---\n",
    "\n",
    "- Now, we need to identify the indices of the categorical variables in the data.\n",
    "    \n",
    "    - 1:  PRODUCT_SIZE has 3 categories 1, 2, 3.\n",
    "    - 15: MANUFACTURER\n",
    "    - 16: CATEGORY\n",
    "    - 17: SUB_CATEGORY\n",
    "    - 18: STORE_NAME\n",
    "    - 19: ADDRESS_CITY_NAME\n",
    "    - 20: ADDRESS_STATE_PROV_CODE\n",
    "    - 21: MSA_CODE\n",
    "    - 22: SEG_VALUE_NAME\n",
    "\n",
    "---"
   ]
  },
  {
   "cell_type": "code",
   "execution_count": 32,
   "metadata": {},
   "outputs": [],
   "source": [
    "# create a list of categorical feature indices\n",
    "categorical_feature_indices = [1, 16, 17, 18, 19, 20, 21, 22, 23]"
   ]
  },
  {
   "cell_type": "code",
   "execution_count": 33,
   "metadata": {},
   "outputs": [],
   "source": [
    "# create the object of the model\n",
    "model_cb = CatBoostRegressor(n_estimators=2000,\n",
    "                             objective='RMSE',\n",
    "                             od_type='Iter',\n",
    "                             eval_metric='MSLE',\n",
    "                             cat_features= categorical_feature_indices,\n",
    "                             random_seed=0)"
   ]
  },
  {
   "cell_type": "code",
   "execution_count": 34,
   "metadata": {},
   "outputs": [
    {
     "name": "stdout",
     "output_type": "stream",
     "text": [
      "Learning rate set to 0.04996\n",
      "0:\tlearn: 0.9539454\ttest: 0.8446694\tbest: 0.8446694 (0)\ttotal: 249ms\tremaining: 8m 17s\n",
      "1:\tlearn: 0.9090343\ttest: 0.8091891\tbest: 0.8091891 (1)\ttotal: 290ms\tremaining: 4m 49s\n",
      "2:\tlearn: 0.8726740\ttest: 0.7792498\tbest: 0.7792498 (2)\ttotal: 326ms\tremaining: 3m 36s\n",
      "3:\tlearn: 0.8344984\ttest: 0.7459984\tbest: 0.7459984 (3)\ttotal: 364ms\tremaining: 3m 1s\n",
      "4:\tlearn: 0.8016084\ttest: 0.7160407\tbest: 0.7160407 (4)\ttotal: 399ms\tremaining: 2m 39s\n",
      "5:\tlearn: 0.7712535\ttest: 0.6881355\tbest: 0.6881355 (5)\ttotal: 435ms\tremaining: 2m 24s\n",
      "6:\tlearn: 0.7419660\ttest: 0.6616674\tbest: 0.6616674 (6)\ttotal: 477ms\tremaining: 2m 15s\n",
      "7:\tlearn: 0.7164214\ttest: 0.6383500\tbest: 0.6383500 (7)\ttotal: 518ms\tremaining: 2m 9s\n",
      "8:\tlearn: 0.6938842\ttest: 0.6175154\tbest: 0.6175154 (8)\ttotal: 553ms\tremaining: 2m 2s\n",
      "9:\tlearn: 0.6694304\ttest: 0.5951110\tbest: 0.5951110 (9)\ttotal: 589ms\tremaining: 1m 57s\n",
      "10:\tlearn: 0.6471404\ttest: 0.5734890\tbest: 0.5734890 (10)\ttotal: 626ms\tremaining: 1m 53s\n",
      "11:\tlearn: 0.6257699\ttest: 0.5531632\tbest: 0.5531632 (11)\ttotal: 661ms\tremaining: 1m 49s\n",
      "12:\tlearn: 0.6073585\ttest: 0.5351814\tbest: 0.5351814 (12)\ttotal: 707ms\tremaining: 1m 48s\n",
      "13:\tlearn: 0.5896450\ttest: 0.5180033\tbest: 0.5180033 (13)\ttotal: 744ms\tremaining: 1m 45s\n",
      "14:\tlearn: 0.5723947\ttest: 0.5009740\tbest: 0.5009740 (14)\ttotal: 779ms\tremaining: 1m 43s\n",
      "15:\tlearn: 0.5592723\ttest: 0.4884477\tbest: 0.4884477 (15)\ttotal: 816ms\tremaining: 1m 41s\n",
      "16:\tlearn: 0.5455931\ttest: 0.4754981\tbest: 0.4754981 (16)\ttotal: 851ms\tremaining: 1m 39s\n",
      "17:\tlearn: 0.5291492\ttest: 0.4601508\tbest: 0.4601508 (17)\ttotal: 887ms\tremaining: 1m 37s\n",
      "18:\tlearn: 0.5160593\ttest: 0.4478800\tbest: 0.4478800 (18)\ttotal: 934ms\tremaining: 1m 37s\n",
      "19:\tlearn: 0.5033940\ttest: 0.4356570\tbest: 0.4356570 (19)\ttotal: 969ms\tremaining: 1m 35s\n",
      "20:\tlearn: 0.4908835\ttest: 0.4238869\tbest: 0.4238869 (20)\ttotal: 1s\tremaining: 1m 34s\n",
      "21:\tlearn: 0.4773087\ttest: 0.4105467\tbest: 0.4105467 (21)\ttotal: 1.04s\tremaining: 1m 33s\n",
      "22:\tlearn: 0.4638133\ttest: 0.3976625\tbest: 0.3976625 (22)\ttotal: 1.08s\tremaining: 1m 32s\n",
      "23:\tlearn: 0.4508019\ttest: 0.3851733\tbest: 0.3851733 (23)\ttotal: 1.11s\tremaining: 1m 31s\n",
      "24:\tlearn: 0.4382794\ttest: 0.3731234\tbest: 0.3731234 (24)\ttotal: 1.15s\tremaining: 1m 31s\n",
      "25:\tlearn: 0.4266891\ttest: 0.3610916\tbest: 0.3610916 (25)\ttotal: 1.19s\tremaining: 1m 30s\n",
      "26:\tlearn: 0.4181432\ttest: 0.3528809\tbest: 0.3528809 (26)\ttotal: 1.22s\tremaining: 1m 29s\n",
      "27:\tlearn: 0.4094670\ttest: 0.3443805\tbest: 0.3443805 (27)\ttotal: 1.26s\tremaining: 1m 28s\n",
      "28:\tlearn: 0.4032245\ttest: 0.3385450\tbest: 0.3385450 (28)\ttotal: 1.29s\tremaining: 1m 27s\n",
      "29:\tlearn: 0.3947206\ttest: 0.3310631\tbest: 0.3310631 (29)\ttotal: 1.33s\tremaining: 1m 27s\n",
      "30:\tlearn: 0.3856822\ttest: 0.3228870\tbest: 0.3228870 (30)\ttotal: 1.36s\tremaining: 1m 26s\n",
      "31:\tlearn: 0.3787582\ttest: 0.3162619\tbest: 0.3162619 (31)\ttotal: 1.41s\tremaining: 1m 26s\n",
      "32:\tlearn: 0.3709800\ttest: 0.3094776\tbest: 0.3094776 (32)\ttotal: 1.44s\tremaining: 1m 25s\n",
      "33:\tlearn: 0.3634742\ttest: 0.3026667\tbest: 0.3026667 (33)\ttotal: 1.48s\tremaining: 1m 25s\n",
      "34:\tlearn: 0.3559666\ttest: 0.2961039\tbest: 0.2961039 (34)\ttotal: 1.52s\tremaining: 1m 25s\n",
      "35:\tlearn: 0.3500540\ttest: 0.2910024\tbest: 0.2910024 (35)\ttotal: 1.55s\tremaining: 1m 24s\n",
      "36:\tlearn: 0.3450225\ttest: 0.2869266\tbest: 0.2869266 (36)\ttotal: 1.59s\tremaining: 1m 24s\n",
      "37:\tlearn: 0.3382737\ttest: 0.2808371\tbest: 0.2808371 (37)\ttotal: 1.63s\tremaining: 1m 24s\n",
      "38:\tlearn: 0.3333004\ttest: 0.2767164\tbest: 0.2767164 (38)\ttotal: 1.67s\tremaining: 1m 23s\n",
      "39:\tlearn: 0.3269912\ttest: 0.2709963\tbest: 0.2709963 (39)\ttotal: 1.7s\tremaining: 1m 23s\n",
      "40:\tlearn: 0.3214465\ttest: 0.2665754\tbest: 0.2665754 (40)\ttotal: 1.74s\tremaining: 1m 23s\n",
      "41:\tlearn: 0.3171719\ttest: 0.2627112\tbest: 0.2627112 (41)\ttotal: 1.78s\tremaining: 1m 22s\n",
      "42:\tlearn: 0.3114792\ttest: 0.2584992\tbest: 0.2584992 (42)\ttotal: 1.82s\tremaining: 1m 22s\n",
      "43:\tlearn: 0.3057403\ttest: 0.2533562\tbest: 0.2533562 (43)\ttotal: 1.86s\tremaining: 1m 22s\n",
      "44:\tlearn: 0.3004268\ttest: 0.2481166\tbest: 0.2481166 (44)\ttotal: 1.89s\tremaining: 1m 22s\n",
      "45:\tlearn: 0.2963111\ttest: 0.2447072\tbest: 0.2447072 (45)\ttotal: 1.93s\tremaining: 1m 21s\n",
      "46:\tlearn: 0.2918334\ttest: 0.2403774\tbest: 0.2403774 (46)\ttotal: 1.96s\tremaining: 1m 21s\n",
      "47:\tlearn: 0.2887751\ttest: 0.2383378\tbest: 0.2383378 (47)\ttotal: 2s\tremaining: 1m 21s\n",
      "48:\tlearn: 0.2838908\ttest: 0.2343879\tbest: 0.2343879 (48)\ttotal: 2.03s\tremaining: 1m 20s\n",
      "49:\tlearn: 0.2808774\ttest: 0.2316706\tbest: 0.2316706 (49)\ttotal: 2.07s\tremaining: 1m 20s\n",
      "50:\tlearn: 0.2782049\ttest: 0.2296030\tbest: 0.2296030 (50)\ttotal: 2.11s\tremaining: 1m 20s\n",
      "51:\tlearn: 0.2736148\ttest: 0.2249836\tbest: 0.2249836 (51)\ttotal: 2.14s\tremaining: 1m 20s\n",
      "52:\tlearn: 0.2697506\ttest: 0.2212469\tbest: 0.2212469 (52)\ttotal: 2.17s\tremaining: 1m 19s\n",
      "53:\tlearn: 0.2652266\ttest: 0.2172819\tbest: 0.2172819 (53)\ttotal: 2.21s\tremaining: 1m 19s\n",
      "54:\tlearn: 0.2628223\ttest: 0.2154325\tbest: 0.2154325 (54)\ttotal: 2.25s\tremaining: 1m 19s\n",
      "55:\tlearn: 0.2609814\ttest: 0.2148258\tbest: 0.2148258 (55)\ttotal: 2.29s\tremaining: 1m 19s\n",
      "56:\tlearn: 0.2582747\ttest: 0.2127622\tbest: 0.2127622 (56)\ttotal: 2.33s\tremaining: 1m 19s\n",
      "57:\tlearn: 0.2565686\ttest: 0.2115851\tbest: 0.2115851 (57)\ttotal: 2.37s\tremaining: 1m 19s\n",
      "58:\tlearn: 0.2536838\ttest: 0.2092601\tbest: 0.2092601 (58)\ttotal: 2.4s\tremaining: 1m 18s\n",
      "59:\tlearn: 0.2502730\ttest: 0.2063449\tbest: 0.2063449 (59)\ttotal: 2.44s\tremaining: 1m 18s\n",
      "60:\tlearn: 0.2468099\ttest: 0.2040752\tbest: 0.2040752 (60)\ttotal: 2.47s\tremaining: 1m 18s\n",
      "61:\tlearn: 0.2451323\ttest: 0.2029474\tbest: 0.2029474 (61)\ttotal: 2.52s\tremaining: 1m 18s\n",
      "62:\tlearn: 0.2421287\ttest: 0.2006304\tbest: 0.2006304 (62)\ttotal: 2.56s\tremaining: 1m 18s\n",
      "63:\tlearn: 0.2409211\ttest: 0.2000120\tbest: 0.2000120 (63)\ttotal: 2.59s\tremaining: 1m 18s\n",
      "64:\tlearn: 0.2403107\ttest: 0.1998246\tbest: 0.1998246 (64)\ttotal: 2.63s\tremaining: 1m 18s\n",
      "65:\tlearn: 0.2377447\ttest: 0.1975316\tbest: 0.1975316 (65)\ttotal: 2.66s\tremaining: 1m 18s\n",
      "66:\tlearn: 0.2357476\ttest: 0.1964999\tbest: 0.1964999 (66)\ttotal: 2.7s\tremaining: 1m 17s\n",
      "67:\tlearn: 0.2342665\ttest: 0.1958460\tbest: 0.1958460 (67)\ttotal: 2.74s\tremaining: 1m 17s\n",
      "68:\tlearn: 0.2321245\ttest: 0.1949042\tbest: 0.1949042 (68)\ttotal: 2.78s\tremaining: 1m 17s\n",
      "69:\tlearn: 0.2299852\ttest: 0.1929672\tbest: 0.1929672 (69)\ttotal: 2.82s\tremaining: 1m 17s\n",
      "70:\tlearn: 0.2294287\ttest: 0.1927622\tbest: 0.1927622 (70)\ttotal: 2.86s\tremaining: 1m 17s\n",
      "71:\tlearn: 0.2278111\ttest: 0.1916134\tbest: 0.1916134 (71)\ttotal: 2.9s\tremaining: 1m 17s\n",
      "72:\tlearn: 0.2263024\ttest: 0.1904918\tbest: 0.1904918 (72)\ttotal: 2.95s\tremaining: 1m 17s\n",
      "73:\tlearn: 0.2243788\ttest: 0.1886688\tbest: 0.1886688 (73)\ttotal: 2.99s\tremaining: 1m 17s\n",
      "74:\tlearn: 0.2232265\ttest: 0.1878496\tbest: 0.1878496 (74)\ttotal: 3.03s\tremaining: 1m 17s\n",
      "75:\tlearn: 0.2223140\ttest: 0.1874967\tbest: 0.1874967 (75)\ttotal: 3.07s\tremaining: 1m 17s\n",
      "76:\tlearn: 0.2202180\ttest: 0.1859130\tbest: 0.1859130 (76)\ttotal: 3.11s\tremaining: 1m 17s\n",
      "77:\tlearn: 0.2196462\ttest: 0.1857687\tbest: 0.1857687 (77)\ttotal: 3.15s\tremaining: 1m 17s\n",
      "78:\tlearn: 0.2175615\ttest: 0.1847770\tbest: 0.1847770 (78)\ttotal: 3.19s\tremaining: 1m 17s\n",
      "79:\tlearn: 0.2160388\ttest: 0.1836984\tbest: 0.1836984 (79)\ttotal: 3.23s\tremaining: 1m 17s\n",
      "80:\tlearn: 0.2146716\ttest: 0.1826301\tbest: 0.1826301 (80)\ttotal: 3.28s\tremaining: 1m 17s\n",
      "81:\tlearn: 0.2147137\ttest: 0.1826327\tbest: 0.1826301 (80)\ttotal: 3.29s\tremaining: 1m 17s\n",
      "82:\tlearn: 0.2128313\ttest: 0.1815342\tbest: 0.1815342 (82)\ttotal: 3.34s\tremaining: 1m 17s\n",
      "83:\tlearn: 0.2127456\ttest: 0.1815263\tbest: 0.1815263 (83)\ttotal: 3.38s\tremaining: 1m 17s\n",
      "84:\tlearn: 0.2114097\ttest: 0.1802953\tbest: 0.1802953 (84)\ttotal: 3.43s\tremaining: 1m 17s\n",
      "85:\tlearn: 0.2101608\ttest: 0.1794559\tbest: 0.1794559 (85)\ttotal: 3.48s\tremaining: 1m 17s\n",
      "86:\tlearn: 0.2093162\ttest: 0.1792510\tbest: 0.1792510 (86)\ttotal: 3.52s\tremaining: 1m 17s\n",
      "87:\tlearn: 0.2089204\ttest: 0.1792625\tbest: 0.1792510 (86)\ttotal: 3.57s\tremaining: 1m 17s\n",
      "88:\tlearn: 0.2084879\ttest: 0.1792499\tbest: 0.1792499 (88)\ttotal: 3.62s\tremaining: 1m 17s\n",
      "89:\tlearn: 0.2073242\ttest: 0.1782434\tbest: 0.1782434 (89)\ttotal: 3.66s\tremaining: 1m 17s\n",
      "90:\tlearn: 0.2063033\ttest: 0.1787387\tbest: 0.1782434 (89)\ttotal: 3.7s\tremaining: 1m 17s\n",
      "91:\tlearn: 0.2060347\ttest: 0.1787781\tbest: 0.1782434 (89)\ttotal: 3.73s\tremaining: 1m 17s\n",
      "92:\tlearn: 0.2045424\ttest: 0.1781611\tbest: 0.1781611 (92)\ttotal: 3.77s\tremaining: 1m 17s\n",
      "93:\tlearn: 0.2032157\ttest: 0.1775541\tbest: 0.1775541 (93)\ttotal: 3.81s\tremaining: 1m 17s\n",
      "94:\tlearn: 0.2025910\ttest: 0.1771968\tbest: 0.1771968 (94)\ttotal: 3.84s\tremaining: 1m 17s\n"
     ]
    },
    {
     "name": "stdout",
     "output_type": "stream",
     "text": [
      "95:\tlearn: 0.2022851\ttest: 0.1771199\tbest: 0.1771199 (95)\ttotal: 3.89s\tremaining: 1m 17s\n",
      "96:\tlearn: 0.2020818\ttest: 0.1772941\tbest: 0.1771199 (95)\ttotal: 3.94s\tremaining: 1m 17s\n",
      "97:\tlearn: 0.2013659\ttest: 0.1775930\tbest: 0.1771199 (95)\ttotal: 3.97s\tremaining: 1m 17s\n",
      "98:\tlearn: 0.2012528\ttest: 0.1775879\tbest: 0.1771199 (95)\ttotal: 4s\tremaining: 1m 16s\n",
      "99:\tlearn: 0.2012687\ttest: 0.1775766\tbest: 0.1771199 (95)\ttotal: 4.02s\tremaining: 1m 16s\n",
      "100:\tlearn: 0.2012905\ttest: 0.1775731\tbest: 0.1771199 (95)\ttotal: 4.03s\tremaining: 1m 15s\n",
      "101:\tlearn: 0.2013112\ttest: 0.1775698\tbest: 0.1771199 (95)\ttotal: 4.04s\tremaining: 1m 15s\n",
      "102:\tlearn: 0.2007131\ttest: 0.1770831\tbest: 0.1770831 (102)\ttotal: 4.08s\tremaining: 1m 15s\n",
      "103:\tlearn: 0.2007032\ttest: 0.1770847\tbest: 0.1770831 (102)\ttotal: 4.12s\tremaining: 1m 15s\n",
      "104:\tlearn: 0.2002761\ttest: 0.1771637\tbest: 0.1770831 (102)\ttotal: 4.16s\tremaining: 1m 15s\n",
      "105:\tlearn: 0.1989198\ttest: 0.1765876\tbest: 0.1765876 (105)\ttotal: 4.21s\tremaining: 1m 15s\n",
      "106:\tlearn: 0.1983663\ttest: 0.1768776\tbest: 0.1765876 (105)\ttotal: 4.26s\tremaining: 1m 15s\n",
      "107:\tlearn: 0.1983835\ttest: 0.1768786\tbest: 0.1765876 (105)\ttotal: 4.3s\tremaining: 1m 15s\n",
      "108:\tlearn: 0.1978652\ttest: 0.1763985\tbest: 0.1763985 (108)\ttotal: 4.34s\tremaining: 1m 15s\n",
      "109:\tlearn: 0.1972498\ttest: 0.1757788\tbest: 0.1757788 (109)\ttotal: 4.38s\tremaining: 1m 15s\n",
      "110:\tlearn: 0.1972631\ttest: 0.1757757\tbest: 0.1757757 (110)\ttotal: 4.4s\tremaining: 1m 14s\n",
      "111:\tlearn: 0.1961686\ttest: 0.1753376\tbest: 0.1753376 (111)\ttotal: 4.45s\tremaining: 1m 15s\n",
      "112:\tlearn: 0.1957890\ttest: 0.1753259\tbest: 0.1753259 (112)\ttotal: 4.5s\tremaining: 1m 15s\n",
      "113:\tlearn: 0.1945790\ttest: 0.1751382\tbest: 0.1751382 (113)\ttotal: 4.54s\tremaining: 1m 15s\n",
      "114:\tlearn: 0.1943495\ttest: 0.1752342\tbest: 0.1751382 (113)\ttotal: 4.58s\tremaining: 1m 15s\n",
      "115:\tlearn: 0.1940922\ttest: 0.1755587\tbest: 0.1751382 (113)\ttotal: 4.62s\tremaining: 1m 15s\n",
      "116:\tlearn: 0.1938271\ttest: 0.1756095\tbest: 0.1751382 (113)\ttotal: 4.66s\tremaining: 1m 15s\n",
      "117:\tlearn: 0.1936143\ttest: 0.1755764\tbest: 0.1751382 (113)\ttotal: 4.7s\tremaining: 1m 14s\n",
      "118:\tlearn: 0.1933661\ttest: 0.1754668\tbest: 0.1751382 (113)\ttotal: 4.74s\tremaining: 1m 14s\n",
      "119:\tlearn: 0.1931920\ttest: 0.1755513\tbest: 0.1751382 (113)\ttotal: 4.78s\tremaining: 1m 14s\n",
      "120:\tlearn: 0.1923323\ttest: 0.1746163\tbest: 0.1746163 (120)\ttotal: 4.82s\tremaining: 1m 14s\n",
      "121:\tlearn: 0.1911167\ttest: 0.1738371\tbest: 0.1738371 (121)\ttotal: 4.85s\tremaining: 1m 14s\n",
      "122:\tlearn: 0.1909441\ttest: 0.1738033\tbest: 0.1738033 (122)\ttotal: 4.89s\tremaining: 1m 14s\n",
      "123:\tlearn: 0.1905002\ttest: 0.1737931\tbest: 0.1737931 (123)\ttotal: 4.92s\tremaining: 1m 14s\n",
      "124:\tlearn: 0.1903881\ttest: 0.1736416\tbest: 0.1736416 (124)\ttotal: 4.96s\tremaining: 1m 14s\n",
      "125:\tlearn: 0.1904112\ttest: 0.1736450\tbest: 0.1736416 (124)\ttotal: 4.98s\tremaining: 1m 14s\n",
      "126:\tlearn: 0.1898629\ttest: 0.1731633\tbest: 0.1731633 (126)\ttotal: 5.02s\tremaining: 1m 14s\n",
      "127:\tlearn: 0.1894634\ttest: 0.1728278\tbest: 0.1728278 (127)\ttotal: 5.06s\tremaining: 1m 14s\n",
      "128:\tlearn: 0.1894737\ttest: 0.1728227\tbest: 0.1728227 (128)\ttotal: 5.1s\tremaining: 1m 14s\n",
      "129:\tlearn: 0.1892526\ttest: 0.1728411\tbest: 0.1728227 (128)\ttotal: 5.15s\tremaining: 1m 14s\n",
      "130:\tlearn: 0.1890792\ttest: 0.1729143\tbest: 0.1728227 (128)\ttotal: 5.2s\tremaining: 1m 14s\n",
      "131:\tlearn: 0.1890879\ttest: 0.1729109\tbest: 0.1728227 (128)\ttotal: 5.21s\tremaining: 1m 13s\n",
      "132:\tlearn: 0.1889828\ttest: 0.1729951\tbest: 0.1728227 (128)\ttotal: 5.26s\tremaining: 1m 13s\n",
      "133:\tlearn: 0.1883744\ttest: 0.1725597\tbest: 0.1725597 (133)\ttotal: 5.32s\tremaining: 1m 14s\n",
      "134:\tlearn: 0.1880675\ttest: 0.1724704\tbest: 0.1724704 (134)\ttotal: 5.36s\tremaining: 1m 14s\n",
      "135:\tlearn: 0.1880710\ttest: 0.1724840\tbest: 0.1724704 (134)\ttotal: 5.39s\tremaining: 1m 13s\n",
      "136:\tlearn: 0.1879335\ttest: 0.1723744\tbest: 0.1723744 (136)\ttotal: 5.43s\tremaining: 1m 13s\n",
      "137:\tlearn: 0.1879592\ttest: 0.1723616\tbest: 0.1723616 (137)\ttotal: 5.45s\tremaining: 1m 13s\n",
      "138:\tlearn: 0.1869517\ttest: 0.1725386\tbest: 0.1723616 (137)\ttotal: 5.5s\tremaining: 1m 13s\n",
      "139:\tlearn: 0.1868893\ttest: 0.1724832\tbest: 0.1723616 (137)\ttotal: 5.54s\tremaining: 1m 13s\n",
      "140:\tlearn: 0.1868294\ttest: 0.1726192\tbest: 0.1723616 (137)\ttotal: 5.58s\tremaining: 1m 13s\n",
      "141:\tlearn: 0.1864772\ttest: 0.1729173\tbest: 0.1723616 (137)\ttotal: 5.62s\tremaining: 1m 13s\n",
      "142:\tlearn: 0.1864272\ttest: 0.1728749\tbest: 0.1723616 (137)\ttotal: 5.65s\tremaining: 1m 13s\n",
      "143:\tlearn: 0.1861021\ttest: 0.1726136\tbest: 0.1723616 (137)\ttotal: 5.69s\tremaining: 1m 13s\n",
      "144:\tlearn: 0.1859797\ttest: 0.1726200\tbest: 0.1723616 (137)\ttotal: 5.73s\tremaining: 1m 13s\n",
      "145:\tlearn: 0.1845013\ttest: 0.1716349\tbest: 0.1716349 (145)\ttotal: 5.78s\tremaining: 1m 13s\n",
      "146:\tlearn: 0.1842841\ttest: 0.1717345\tbest: 0.1716349 (145)\ttotal: 5.82s\tremaining: 1m 13s\n",
      "147:\tlearn: 0.1835025\ttest: 0.1713771\tbest: 0.1713771 (147)\ttotal: 5.87s\tremaining: 1m 13s\n",
      "148:\tlearn: 0.1835075\ttest: 0.1713748\tbest: 0.1713748 (148)\ttotal: 5.88s\tremaining: 1m 13s\n",
      "149:\tlearn: 0.1835109\ttest: 0.1713711\tbest: 0.1713711 (149)\ttotal: 5.93s\tremaining: 1m 13s\n",
      "150:\tlearn: 0.1835152\ttest: 0.1713686\tbest: 0.1713686 (150)\ttotal: 5.96s\tremaining: 1m 12s\n",
      "151:\tlearn: 0.1833046\ttest: 0.1713319\tbest: 0.1713319 (151)\ttotal: 6.01s\tremaining: 1m 13s\n",
      "152:\tlearn: 0.1826893\ttest: 0.1713119\tbest: 0.1713119 (152)\ttotal: 6.07s\tremaining: 1m 13s\n",
      "153:\tlearn: 0.1822443\ttest: 0.1710087\tbest: 0.1710087 (153)\ttotal: 6.12s\tremaining: 1m 13s\n",
      "154:\tlearn: 0.1822435\ttest: 0.1712224\tbest: 0.1710087 (153)\ttotal: 6.18s\tremaining: 1m 13s\n",
      "155:\tlearn: 0.1817024\ttest: 0.1709191\tbest: 0.1709191 (155)\ttotal: 6.23s\tremaining: 1m 13s\n",
      "156:\tlearn: 0.1816301\ttest: 0.1709306\tbest: 0.1709191 (155)\ttotal: 6.26s\tremaining: 1m 13s\n",
      "157:\tlearn: 0.1807221\ttest: 0.1700790\tbest: 0.1700790 (157)\ttotal: 6.3s\tremaining: 1m 13s\n",
      "158:\tlearn: 0.1806440\ttest: 0.1700744\tbest: 0.1700744 (158)\ttotal: 6.34s\tremaining: 1m 13s\n",
      "159:\tlearn: 0.1806221\ttest: 0.1700828\tbest: 0.1700744 (158)\ttotal: 6.38s\tremaining: 1m 13s\n",
      "160:\tlearn: 0.1804873\ttest: 0.1700236\tbest: 0.1700236 (160)\ttotal: 6.42s\tremaining: 1m 13s\n",
      "161:\tlearn: 0.1804506\ttest: 0.1699885\tbest: 0.1699885 (161)\ttotal: 6.46s\tremaining: 1m 13s\n",
      "162:\tlearn: 0.1804477\ttest: 0.1699843\tbest: 0.1699843 (162)\ttotal: 6.5s\tremaining: 1m 13s\n",
      "163:\tlearn: 0.1801656\ttest: 0.1702302\tbest: 0.1699843 (162)\ttotal: 6.54s\tremaining: 1m 13s\n",
      "164:\tlearn: 0.1798979\ttest: 0.1706415\tbest: 0.1699843 (162)\ttotal: 6.59s\tremaining: 1m 13s\n",
      "165:\tlearn: 0.1795109\ttest: 0.1703816\tbest: 0.1699843 (162)\ttotal: 6.64s\tremaining: 1m 13s\n",
      "166:\tlearn: 0.1795052\ttest: 0.1703804\tbest: 0.1699843 (162)\ttotal: 6.69s\tremaining: 1m 13s\n",
      "167:\tlearn: 0.1788674\ttest: 0.1696641\tbest: 0.1696641 (167)\ttotal: 6.74s\tremaining: 1m 13s\n",
      "168:\tlearn: 0.1788716\ttest: 0.1696617\tbest: 0.1696617 (168)\ttotal: 6.75s\tremaining: 1m 13s\n",
      "169:\tlearn: 0.1788467\ttest: 0.1696586\tbest: 0.1696586 (169)\ttotal: 6.8s\tremaining: 1m 13s\n",
      "170:\tlearn: 0.1787430\ttest: 0.1695922\tbest: 0.1695922 (170)\ttotal: 6.85s\tremaining: 1m 13s\n",
      "171:\tlearn: 0.1779617\ttest: 0.1696704\tbest: 0.1695922 (170)\ttotal: 6.9s\tremaining: 1m 13s\n",
      "172:\tlearn: 0.1778114\ttest: 0.1697608\tbest: 0.1695922 (170)\ttotal: 6.96s\tremaining: 1m 13s\n",
      "173:\tlearn: 0.1775526\ttest: 0.1699136\tbest: 0.1695922 (170)\ttotal: 7s\tremaining: 1m 13s\n",
      "174:\tlearn: 0.1774250\ttest: 0.1698706\tbest: 0.1695922 (170)\ttotal: 7.05s\tremaining: 1m 13s\n",
      "175:\tlearn: 0.1769936\ttest: 0.1694845\tbest: 0.1694845 (175)\ttotal: 7.09s\tremaining: 1m 13s\n",
      "176:\tlearn: 0.1769423\ttest: 0.1693543\tbest: 0.1693543 (176)\ttotal: 7.14s\tremaining: 1m 13s\n",
      "177:\tlearn: 0.1769025\ttest: 0.1693695\tbest: 0.1693543 (176)\ttotal: 7.18s\tremaining: 1m 13s\n",
      "178:\tlearn: 0.1762694\ttest: 0.1694446\tbest: 0.1693543 (176)\ttotal: 7.22s\tremaining: 1m 13s\n",
      "179:\tlearn: 0.1761065\ttest: 0.1692730\tbest: 0.1692730 (179)\ttotal: 7.26s\tremaining: 1m 13s\n",
      "180:\tlearn: 0.1756561\ttest: 0.1690783\tbest: 0.1690783 (180)\ttotal: 7.3s\tremaining: 1m 13s\n",
      "181:\tlearn: 0.1756585\ttest: 0.1690767\tbest: 0.1690767 (181)\ttotal: 7.31s\tremaining: 1m 13s\n",
      "182:\tlearn: 0.1755908\ttest: 0.1691582\tbest: 0.1690767 (181)\ttotal: 7.35s\tremaining: 1m 12s\n",
      "183:\tlearn: 0.1752075\ttest: 0.1690585\tbest: 0.1690585 (183)\ttotal: 7.39s\tremaining: 1m 12s\n",
      "184:\tlearn: 0.1751637\ttest: 0.1690703\tbest: 0.1690585 (183)\ttotal: 7.43s\tremaining: 1m 12s\n",
      "185:\tlearn: 0.1749559\ttest: 0.1688842\tbest: 0.1688842 (185)\ttotal: 7.46s\tremaining: 1m 12s\n",
      "186:\tlearn: 0.1749122\ttest: 0.1688927\tbest: 0.1688842 (185)\ttotal: 7.5s\tremaining: 1m 12s\n"
     ]
    },
    {
     "name": "stdout",
     "output_type": "stream",
     "text": [
      "187:\tlearn: 0.1749151\ttest: 0.1688908\tbest: 0.1688842 (185)\ttotal: 7.51s\tremaining: 1m 12s\n",
      "188:\tlearn: 0.1744981\ttest: 0.1685547\tbest: 0.1685547 (188)\ttotal: 7.56s\tremaining: 1m 12s\n",
      "189:\tlearn: 0.1744962\ttest: 0.1685651\tbest: 0.1685547 (188)\ttotal: 7.59s\tremaining: 1m 12s\n",
      "190:\tlearn: 0.1744984\ttest: 0.1685636\tbest: 0.1685547 (188)\ttotal: 7.61s\tremaining: 1m 12s\n",
      "191:\tlearn: 0.1745006\ttest: 0.1685621\tbest: 0.1685547 (188)\ttotal: 7.62s\tremaining: 1m 11s\n",
      "192:\tlearn: 0.1744199\ttest: 0.1686266\tbest: 0.1685547 (188)\ttotal: 7.65s\tremaining: 1m 11s\n",
      "193:\tlearn: 0.1740311\ttest: 0.1683246\tbest: 0.1683246 (193)\ttotal: 7.68s\tremaining: 1m 11s\n",
      "194:\tlearn: 0.1736281\ttest: 0.1681110\tbest: 0.1681110 (194)\ttotal: 7.72s\tremaining: 1m 11s\n",
      "195:\tlearn: 0.1735017\ttest: 0.1681126\tbest: 0.1681110 (194)\ttotal: 7.76s\tremaining: 1m 11s\n",
      "196:\tlearn: 0.1735044\ttest: 0.1681126\tbest: 0.1681110 (194)\ttotal: 7.79s\tremaining: 1m 11s\n",
      "197:\tlearn: 0.1733336\ttest: 0.1679028\tbest: 0.1679028 (197)\ttotal: 7.83s\tremaining: 1m 11s\n",
      "198:\tlearn: 0.1730860\ttest: 0.1672012\tbest: 0.1672012 (198)\ttotal: 7.87s\tremaining: 1m 11s\n",
      "199:\tlearn: 0.1728630\ttest: 0.1669731\tbest: 0.1669731 (199)\ttotal: 7.9s\tremaining: 1m 11s\n",
      "200:\tlearn: 0.1727523\ttest: 0.1670137\tbest: 0.1669731 (199)\ttotal: 7.94s\tremaining: 1m 11s\n",
      "201:\tlearn: 0.1727526\ttest: 0.1670123\tbest: 0.1669731 (199)\ttotal: 7.96s\tremaining: 1m 10s\n",
      "202:\tlearn: 0.1726464\ttest: 0.1672310\tbest: 0.1669731 (199)\ttotal: 8s\tremaining: 1m 10s\n",
      "203:\tlearn: 0.1725120\ttest: 0.1671971\tbest: 0.1669731 (199)\ttotal: 8.03s\tremaining: 1m 10s\n",
      "204:\tlearn: 0.1724423\ttest: 0.1671066\tbest: 0.1669731 (199)\ttotal: 8.07s\tremaining: 1m 10s\n",
      "205:\tlearn: 0.1722466\ttest: 0.1673852\tbest: 0.1669731 (199)\ttotal: 8.1s\tremaining: 1m 10s\n",
      "206:\tlearn: 0.1721800\ttest: 0.1673457\tbest: 0.1669731 (199)\ttotal: 8.14s\tremaining: 1m 10s\n",
      "207:\tlearn: 0.1721687\ttest: 0.1673548\tbest: 0.1669731 (199)\ttotal: 8.18s\tremaining: 1m 10s\n",
      "208:\tlearn: 0.1721721\ttest: 0.1673524\tbest: 0.1669731 (199)\ttotal: 8.19s\tremaining: 1m 10s\n",
      "209:\tlearn: 0.1720997\ttest: 0.1673508\tbest: 0.1669731 (199)\ttotal: 8.23s\tremaining: 1m 10s\n",
      "210:\tlearn: 0.1717766\ttest: 0.1671100\tbest: 0.1669731 (199)\ttotal: 8.27s\tremaining: 1m 10s\n",
      "211:\tlearn: 0.1717225\ttest: 0.1671314\tbest: 0.1669731 (199)\ttotal: 8.3s\tremaining: 1m 10s\n",
      "212:\tlearn: 0.1716004\ttest: 0.1672486\tbest: 0.1669731 (199)\ttotal: 8.35s\tremaining: 1m 10s\n",
      "213:\tlearn: 0.1711500\ttest: 0.1673035\tbest: 0.1669731 (199)\ttotal: 8.39s\tremaining: 1m 10s\n",
      "214:\tlearn: 0.1711234\ttest: 0.1672964\tbest: 0.1669731 (199)\ttotal: 8.43s\tremaining: 1m 9s\n",
      "215:\tlearn: 0.1710227\ttest: 0.1676107\tbest: 0.1669731 (199)\ttotal: 8.47s\tremaining: 1m 9s\n",
      "216:\tlearn: 0.1710258\ttest: 0.1676084\tbest: 0.1669731 (199)\ttotal: 8.48s\tremaining: 1m 9s\n",
      "217:\tlearn: 0.1707744\ttest: 0.1674008\tbest: 0.1669731 (199)\ttotal: 8.52s\tremaining: 1m 9s\n",
      "218:\tlearn: 0.1707588\ttest: 0.1674302\tbest: 0.1669731 (199)\ttotal: 8.55s\tremaining: 1m 9s\n",
      "219:\tlearn: 0.1704675\ttest: 0.1672482\tbest: 0.1669731 (199)\ttotal: 8.59s\tremaining: 1m 9s\n",
      "Stopped by overfitting detector  (20 iterations wait)\n",
      "\n",
      "bestTest = 0.1669731225\n",
      "bestIteration = 199\n",
      "\n",
      "Shrink model to first 200 iterations.\n"
     ]
    },
    {
     "data": {
      "text/plain": [
       "<catboost.core.CatBoostRegressor at 0x21e3ceef1d0>"
      ]
     },
     "execution_count": 34,
     "metadata": {},
     "output_type": "execute_result"
    }
   ],
   "source": [
    "# fit the model with the training data\n",
    "model_cb.fit(train_x, train_y, eval_set=[(valid_x,valid_y)])"
   ]
  },
  {
   "cell_type": "code",
   "execution_count": 35,
   "metadata": {},
   "outputs": [],
   "source": [
    "# predict the values on train and valid\n",
    "predict_train = model_cb.predict(train_x).clip(min=0)\n",
    "predict_valid = model_cb.predict(valid_x).clip(min=0)"
   ]
  },
  {
   "cell_type": "code",
   "execution_count": 36,
   "metadata": {},
   "outputs": [
    {
     "name": "stdout",
     "output_type": "stream",
     "text": [
      "RMSLE TRAIN:  0.41578046540551666\n",
      "RMSLE VALID:  0.4086234444705439\n"
     ]
    }
   ],
   "source": [
    "# rmsle on train and valid\n",
    "print('RMSLE TRAIN: ', get_msle(train_y, predict_train))\n",
    "print('RMSLE VALID: ', get_msle(valid_y, predict_valid))"
   ]
  },
  {
   "cell_type": "markdown",
   "metadata": {},
   "source": [
    "---\n",
    "\n",
    "## `Hyperparameter Tuning`\n",
    "\n",
    "### `N_ESTIMATORS`\n",
    "\n",
    "- First of all, we will find out the best value of the N_ESTIMATORS and find the mean RMSLE over the 14 sets on both train and test data.\n",
    "\n",
    "\n",
    "---"
   ]
  },
  {
   "cell_type": "code",
   "execution_count": 37,
   "metadata": {},
   "outputs": [],
   "source": [
    "#  define function to get the n_estimators\n",
    "def get_n_estimators(evaluation_set,r_min=100, r_max= 10001):\n",
    "    \n",
    "    results = []\n",
    "    \n",
    "    for n_est in (range(r_min, r_max, 100)):\n",
    "        SCORE_TRAIN = []\n",
    "        SCORE_VALID = []\n",
    "        x = {}\n",
    "        for train, valid in (evaluation_set):\n",
    "            # separate the independent and target variables from the train and valid\n",
    "            train_data_x = train.drop(columns= ['WEEK_END_DATE', 'STORE_NUM', 'UPC', 'UNITS'])\n",
    "            train_data_y = train['UNITS']\n",
    "\n",
    "            valid_data_x = valid.drop(columns= ['WEEK_END_DATE', 'STORE_NUM', 'UPC', 'UNITS'])\n",
    "            valid_data_y = valid['UNITS']\n",
    "            \n",
    "            \n",
    "            # define the catboost model\n",
    "            model = CatBoostRegressor(n_estimators=n_est,\n",
    "                                      random_seed=0,\n",
    "                                      objective='RMSE',\n",
    "                                      verbose=False,\n",
    "                                      eval_metric='MSLE',\n",
    "                                      cat_features=categorical_feature_indices)\n",
    "            # fit the model with the training data\n",
    "            model.fit(train_data_x, train_data_y,plot=False,eval_set=[(valid_data_x, valid_data_y)])\n",
    "            \n",
    "            # predict on train and valid data\n",
    "            predict_train = model.predict(train_data_x).clip(min=0)\n",
    "            predict_valid = model.predict(valid_data_x).clip(min=0)\n",
    "            \n",
    "            # get the rmsle on train and valid\n",
    "            train_rmsle = get_msle(train_data_y, predict_train)\n",
    "            valid_rmsle = get_msle(valid_data_y, predict_valid)\n",
    "            \n",
    "            SCORE_TRAIN.append(train_rmsle)\n",
    "            SCORE_VALID.append(valid_rmsle)\n",
    "            \n",
    "        # calculate the mean rmsle on train and valid data    \n",
    "        mean_rmsle_train = np.mean(SCORE_TRAIN)\n",
    "        mean_rmsle_valid = np.mean(SCORE_VALID)\n",
    "        x['n_estimators'] = n_est\n",
    "        x['train_rmsle'] = mean_rmsle_train\n",
    "        x['valid_rmsle'] = mean_rmsle_valid\n",
    "        results.append(x)\n",
    "        \n",
    "        print('With N_ESTIMATORS:\\t'+ str(n_est) + '\\tMEAN RMSLE TRAIN:\\t' + str(mean_rmsle_train)+ '\\tMEAN RMSLE VALID: '+str(mean_rmsle_valid))\n",
    "        \n",
    "\n",
    "    return pd.DataFrame.from_dict(results)       \n",
    "    "
   ]
  },
  {
   "cell_type": "code",
   "execution_count": 38,
   "metadata": {},
   "outputs": [
    {
     "name": "stdout",
     "output_type": "stream",
     "text": [
      "With N_ESTIMATORS:\t100\tMEAN RMSLE TRAIN:\t0.39820240590209816\tMEAN RMSLE VALID: 0.4741845120628054\n",
      "With N_ESTIMATORS:\t200\tMEAN RMSLE TRAIN:\t0.38800244055537286\tMEAN RMSLE VALID: 0.4611884189404586\n",
      "With N_ESTIMATORS:\t300\tMEAN RMSLE TRAIN:\t0.38034198629879956\tMEAN RMSLE VALID: 0.4542792339981626\n",
      "With N_ESTIMATORS:\t400\tMEAN RMSLE TRAIN:\t0.3751388691717244\tMEAN RMSLE VALID: 0.45514830924112504\n",
      "With N_ESTIMATORS:\t500\tMEAN RMSLE TRAIN:\t0.3780667974150586\tMEAN RMSLE VALID: 0.4533733400789278\n",
      "With N_ESTIMATORS:\t600\tMEAN RMSLE TRAIN:\t0.37623884263353663\tMEAN RMSLE VALID: 0.4522181487042535\n",
      "With N_ESTIMATORS:\t700\tMEAN RMSLE TRAIN:\t0.3704612889843023\tMEAN RMSLE VALID: 0.45213730915522804\n",
      "With N_ESTIMATORS:\t800\tMEAN RMSLE TRAIN:\t0.37380436100973247\tMEAN RMSLE VALID: 0.45305547331807006\n",
      "With N_ESTIMATORS:\t900\tMEAN RMSLE TRAIN:\t0.37426527042290647\tMEAN RMSLE VALID: 0.4521197210484194\n",
      "With N_ESTIMATORS:\t1000\tMEAN RMSLE TRAIN:\t0.3764338469134755\tMEAN RMSLE VALID: 0.45379819899558155\n",
      "With N_ESTIMATORS:\t1100\tMEAN RMSLE TRAIN:\t0.3692231661968938\tMEAN RMSLE VALID: 0.45353755028125947\n",
      "With N_ESTIMATORS:\t1200\tMEAN RMSLE TRAIN:\t0.3726053316851498\tMEAN RMSLE VALID: 0.4500336035942905\n",
      "With N_ESTIMATORS:\t1300\tMEAN RMSLE TRAIN:\t0.36912345365629456\tMEAN RMSLE VALID: 0.45128251769008226\n",
      "With N_ESTIMATORS:\t1400\tMEAN RMSLE TRAIN:\t0.36958877182260597\tMEAN RMSLE VALID: 0.4510910025767499\n",
      "With N_ESTIMATORS:\t1500\tMEAN RMSLE TRAIN:\t0.37356050306544064\tMEAN RMSLE VALID: 0.45131390288406503\n",
      "With N_ESTIMATORS:\t1600\tMEAN RMSLE TRAIN:\t0.36983232071651234\tMEAN RMSLE VALID: 0.4546461808560323\n",
      "With N_ESTIMATORS:\t1700\tMEAN RMSLE TRAIN:\t0.37411908729216325\tMEAN RMSLE VALID: 0.450654231706026\n",
      "With N_ESTIMATORS:\t1800\tMEAN RMSLE TRAIN:\t0.3693848864288774\tMEAN RMSLE VALID: 0.4516890829900002\n"
     ]
    }
   ],
   "source": [
    "# train model for n_estimators value 100 to 1800 with a gap of 100 estimators at each iteration.\n",
    "estimators_result = get_n_estimators(evaluation_sets,r_min=100, r_max=1801)"
   ]
  },
  {
   "cell_type": "code",
   "execution_count": 39,
   "metadata": {},
   "outputs": [
    {
     "name": "stdout",
     "output_type": "stream",
     "text": [
      "With N_ESTIMATORS:\t1900\tMEAN RMSLE TRAIN:\t0.372636572212968\tMEAN RMSLE VALID: 0.44972597985430546\n",
      "With N_ESTIMATORS:\t2000\tMEAN RMSLE TRAIN:\t0.371874900499173\tMEAN RMSLE VALID: 0.4521721374601553\n",
      "With N_ESTIMATORS:\t2100\tMEAN RMSLE TRAIN:\t0.3686308051092505\tMEAN RMSLE VALID: 0.44894331537540333\n",
      "With N_ESTIMATORS:\t2200\tMEAN RMSLE TRAIN:\t0.37063987754692235\tMEAN RMSLE VALID: 0.44931183408456654\n"
     ]
    }
   ],
   "source": [
    "# we can see that rmsle is decreasing on both train and valid so let's increase the value of n_estimators to 2200\n",
    "estimators_result_1 = get_n_estimators(evaluation_sets,r_min=1900, r_max=2201)"
   ]
  },
  {
   "cell_type": "code",
   "execution_count": 40,
   "metadata": {},
   "outputs": [
    {
     "name": "stdout",
     "output_type": "stream",
     "text": [
      "With N_ESTIMATORS:\t3000\tMEAN RMSLE TRAIN:\t0.3708885496653838\tMEAN RMSLE VALID: 0.4519277312600605\n",
      "With N_ESTIMATORS:\t3100\tMEAN RMSLE TRAIN:\t0.36887300747149915\tMEAN RMSLE VALID: 0.44947127612248233\n",
      "With N_ESTIMATORS:\t3200\tMEAN RMSLE TRAIN:\t0.36723878184107883\tMEAN RMSLE VALID: 0.44963819742565125\n"
     ]
    }
   ],
   "source": [
    "# let's check at some higher values \n",
    "estimators_result_2 = get_n_estimators(evaluation_sets,r_min=3000, r_max=3201)"
   ]
  },
  {
   "cell_type": "code",
   "execution_count": 41,
   "metadata": {},
   "outputs": [
    {
     "data": {
      "image/png": "[encoded data removed]",
      "text/plain": [
       "<Figure size 1500x700 with 1 Axes>"
      ]
     },
     "metadata": {},
     "output_type": "display_data"
    }
   ],
   "source": [
    "estimators_result = pd.concat([estimators_result, estimators_result_1, estimators_result_2])\n",
    "plt.figure(figsize=(15,7))\n",
    "plt.plot(estimators_result['n_estimators'], estimators_result['train_rmsle'], marker='o', label= 'train')\n",
    "plt.plot(estimators_result['n_estimators'], estimators_result['valid_rmsle'], marker='o', label= 'valid')\n",
    "plt.legend();"
   ]
  },
  {
   "cell_type": "markdown",
   "metadata": {
    "collapsed": true
   },
   "source": [
    "---\n",
    "\n",
    "- We can see that rmsle on gets stable on `0.4590` after n_estimators 1800. So, we will keep the n_estimators value fixed to 1800 and next we will try to tune the max depth.\n",
    "\n",
    "\n",
    "---\n",
    "\n",
    "### `MAX_DEPTH`\n",
    "\n",
    "- We will check the performance of the model on max_depth 2 to 9\n",
    "\n",
    "---"
   ]
  },
  {
   "cell_type": "code",
   "execution_count": 42,
   "metadata": {},
   "outputs": [],
   "source": [
    "# define max_depth \n",
    "def get_max_depth(evaluation_set, r_min, r_max):\n",
    "    \n",
    "    results = []\n",
    "    \n",
    "    for depth in range(r_min, r_max,1):\n",
    "        SCORE_TRAIN = []\n",
    "        SCORE_VALID = []\n",
    "        x = {}\n",
    "        for train, valid in (evaluation_set):\n",
    "            # separate the independent and target variables \n",
    "            train_data_x = train.drop(columns= ['WEEK_END_DATE', 'STORE_NUM', 'UPC', 'UNITS'])\n",
    "            train_data_y = train['UNITS']\n",
    "\n",
    "            valid_data_x = valid.drop(columns= ['WEEK_END_DATE', 'STORE_NUM', 'UPC', 'UNITS'])\n",
    "            valid_data_y = valid['UNITS']\n",
    "\n",
    "            # define the catboost model\n",
    "            model = CatBoostRegressor(n_estimators=1800,\n",
    "                                      random_seed=0,\n",
    "                                      max_depth=depth,\n",
    "                                      objective='RMSE',\n",
    "                                      verbose=False,\n",
    "                                      eval_metric='MSLE',\n",
    "                                      cat_features=categorical_feature_indices)\n",
    "            # fit the model with the training data\n",
    "            model.fit(train_data_x, train_data_y,plot=False,eval_set=[(valid_data_x, valid_data_y)])\n",
    "            \n",
    "            # predict on train and valid \n",
    "            predict_train = model.predict(train_data_x).clip(min=0)\n",
    "            predict_valid = model.predict(valid_data_x).clip(min=0)\n",
    "            \n",
    "            # get the rmsle on train and valid\n",
    "            train_rmsle = get_msle(train_data_y, predict_train)\n",
    "            valid_rmsle = get_msle(valid_data_y, predict_valid)\n",
    "            \n",
    "            SCORE_TRAIN.append(train_rmsle)\n",
    "            SCORE_VALID.append(valid_rmsle)\n",
    "            \n",
    "        # calculate mean rmsle on train and valid    \n",
    "        mean_rmsle_train = np.mean(SCORE_TRAIN)\n",
    "        mean_rmsle_valid = np.mean(SCORE_VALID)\n",
    "        \n",
    "        x['max_depth'] = depth\n",
    "        x['train_rmsle'] = mean_rmsle_train\n",
    "        x['valid_rmsle'] = mean_rmsle_valid\n",
    "        results.append(x)\n",
    "        \n",
    "        print('With Depth:\\t'+ str(depth) + '\\tMEAN RMSLE TRAIN:\\t' + str(mean_rmsle_train)+ '\\tMEAN RMSLE VALID: '+str(mean_rmsle_valid))\n",
    "        \n",
    "\n",
    "    return results       \n",
    "    "
   ]
  },
  {
   "cell_type": "code",
   "execution_count": 44,
   "metadata": {},
   "outputs": [
    {
     "name": "stdout",
     "output_type": "stream",
     "text": [
      "With Depth:\t2\tMEAN RMSLE TRAIN:\t0.445267842691493\tMEAN RMSLE VALID: 0.48418781109046977\n",
      "With Depth:\t3\tMEAN RMSLE TRAIN:\t0.41247346316986105\tMEAN RMSLE VALID: 0.4660670691611221\n",
      "With Depth:\t4\tMEAN RMSLE TRAIN:\t0.39658295744483013\tMEAN RMSLE VALID: 0.46126605659353265\n",
      "With Depth:\t5\tMEAN RMSLE TRAIN:\t0.38029951632306513\tMEAN RMSLE VALID: 0.4560712527383676\n",
      "With Depth:\t6\tMEAN RMSLE TRAIN:\t0.3693848864288774\tMEAN RMSLE VALID: 0.4516890829900002\n",
      "With Depth:\t7\tMEAN RMSLE TRAIN:\t0.36196437407191834\tMEAN RMSLE VALID: 0.4493649509153227\n",
      "With Depth:\t8\tMEAN RMSLE TRAIN:\t0.34223493442058406\tMEAN RMSLE VALID: 0.4447200222853988\n",
      "With Depth:\t9\tMEAN RMSLE TRAIN:\t0.3328186875506188\tMEAN RMSLE VALID: 0.4446526315293373\n"
     ]
    }
   ],
   "source": [
    "# calculate the max_depth_results\n",
    "max_depth_results= get_max_depth(evaluation_sets,r_min=2,r_max=10)"
   ]
  },
  {
   "cell_type": "code",
   "execution_count": 45,
   "metadata": {},
   "outputs": [
    {
     "data": {
      "image/png": "[encoded data removed]",
      "text/plain": [
       "<Figure size 1500x700 with 1 Axes>"
      ]
     },
     "metadata": {},
     "output_type": "display_data"
    }
   ],
   "source": [
    "max_depth_results = pd.DataFrame.from_dict(max_depth_results)\n",
    "plt.figure(figsize=(15,7))\n",
    "plt.plot(max_depth_results['max_depth'], max_depth_results['train_rmsle'], marker='o', label= 'train')\n",
    "plt.plot(max_depth_results['max_depth'], max_depth_results['valid_rmsle'], marker='o', label= 'valid')\n",
    "plt.legend();"
   ]
  },
  {
   "cell_type": "markdown",
   "metadata": {
    "collapsed": true
   },
   "source": [
    "---\n",
    "\n",
    "We can see that the best rmsle is 0.4576 on validation data with max_depth 8. So, we will fix this value and tune the model further to get the best value of the learning rate.\n",
    "\n",
    "\n",
    "## `LEARNING RATE`\n",
    "- We will try multiple values of the learning rate from 0 to 1 and choose the best one.\n",
    "\n",
    "---"
   ]
  },
  {
   "cell_type": "code",
   "execution_count": 46,
   "metadata": {},
   "outputs": [],
   "source": [
    "# define function to tune the learning rate.\n",
    "def get_learning_rate(evaluation_set):\n",
    "    \n",
    "    results = []\n",
    "    \n",
    "    for lr in [0.001, 0.01, 0.05, 0.075, 0.1, 0.5, 1]:\n",
    "        SCORE_TRAIN = []\n",
    "        SCORE_VALID = []\n",
    "        x = {}\n",
    "        for train, valid in (evaluation_set):\n",
    "            \n",
    "            # separate the independent and target variables\n",
    "            train_data_x = train.drop(columns= ['WEEK_END_DATE', 'STORE_NUM', 'UPC', 'UNITS'])\n",
    "            train_data_y = train['UNITS']\n",
    "\n",
    "            valid_data_x = valid.drop(columns= ['WEEK_END_DATE', 'STORE_NUM', 'UPC', 'UNITS'])\n",
    "            valid_data_y = valid['UNITS']\n",
    "\n",
    "            # define the catboost model\n",
    "            model = CatBoostRegressor(n_estimators=1800,\n",
    "                                      random_seed=0,\n",
    "                                      max_depth=8,\n",
    "                                      learning_rate=lr,\n",
    "                                      objective='RMSE',\n",
    "                                      verbose=False,\n",
    "                                      eval_metric='MSLE',\n",
    "                                      cat_features=categorical_feature_indices)\n",
    "            \n",
    "            # fit the model with the training data\n",
    "            model.fit(train_data_x, train_data_y,plot=False,eval_set=[(valid_data_x, valid_data_y)])\n",
    "            \n",
    "            # predict on the train and validation data\n",
    "            predict_train = model.predict(train_data_x).clip(min=0)\n",
    "            predict_valid = model.predict(valid_data_x).clip(min=0)\n",
    "            \n",
    "            # calculate the rmsle on train and valid\n",
    "            train_rmsle = get_msle(train_data_y, predict_train)\n",
    "            valid_rmsle = get_msle(valid_data_y, predict_valid)\n",
    "            \n",
    "            SCORE_TRAIN.append(train_rmsle)\n",
    "            SCORE_VALID.append(valid_rmsle)\n",
    "            \n",
    "            \n",
    "        # calculate the mean rmsle on train and validation    \n",
    "        mean_rmsle_train = np.mean(SCORE_TRAIN)\n",
    "        mean_rmsle_valid = np.mean(SCORE_VALID)\n",
    "        x['learning_rate'] = lr\n",
    "        x['train_rmsle'] = mean_rmsle_train\n",
    "        x['valid_rmsle'] = mean_rmsle_valid\n",
    "        results.append(x)\n",
    "        \n",
    "        print('With Learning Rate:\\t'+ str(lr) + '\\tMEAN RMSLE TRAIN:\\t' + str(mean_rmsle_train)+ '\\tMEAN RMSLE VALID: '+str(mean_rmsle_valid))\n",
    "        \n",
    "\n",
    "    return results       \n",
    "    "
   ]
  },
  {
   "cell_type": "code",
   "execution_count": 47,
   "metadata": {},
   "outputs": [
    {
     "name": "stdout",
     "output_type": "stream",
     "text": [
      "With Learning Rate:\t0.001\tMEAN RMSLE TRAIN:\t0.5597310005426093\tMEAN RMSLE VALID: 0.5888232246918718\n",
      "With Learning Rate:\t0.01\tMEAN RMSLE TRAIN:\t0.36742498866944523\tMEAN RMSLE VALID: 0.45018058716849707\n",
      "With Learning Rate:\t0.05\tMEAN RMSLE TRAIN:\t0.35045793848674683\tMEAN RMSLE VALID: 0.44626231202586364\n",
      "With Learning Rate:\t0.075\tMEAN RMSLE TRAIN:\t0.35191323644349304\tMEAN RMSLE VALID: 0.4485194432480534\n",
      "With Learning Rate:\t0.1\tMEAN RMSLE TRAIN:\t0.35431905345095377\tMEAN RMSLE VALID: 0.44907422516582407\n",
      "With Learning Rate:\t0.5\tMEAN RMSLE TRAIN:\t0.39077500601160164\tMEAN RMSLE VALID: 0.47616676637684713\n",
      "With Learning Rate:\t1\tMEAN RMSLE TRAIN:\t0.4639201920884942\tMEAN RMSLE VALID: 0.522639719699056\n"
     ]
    }
   ],
   "source": [
    "# learning_rate_results\n",
    "learning_rate_results = get_learning_rate(evaluation_sets)"
   ]
  },
  {
   "cell_type": "code",
   "execution_count": 52,
   "metadata": {},
   "outputs": [
    {
     "data": {
      "image/png": "[encoded data removed]",
      "text/plain": [
       "<Figure size 1500x700 with 1 Axes>"
      ]
     },
     "metadata": {},
     "output_type": "display_data"
    }
   ],
   "source": [
    "learning_rate_results = pd.DataFrame.from_dict(learning_rate_results)\n",
    "plt.figure(figsize=(15,7))\n",
    "plt.plot(learning_rate_results['learning_rate'], learning_rate_results['train_rmsle'], marker='o', label= 'train')\n",
    "plt.plot(learning_rate_results['learning_rate'], learning_rate_results['valid_rmsle'], marker='o', label= 'valid')\n",
    "plt.legend();"
   ]
  },
  {
   "cell_type": "markdown",
   "metadata": {},
   "source": [
    "---\n",
    "\n",
    "- The best performance of the model is `0.4534` with the learning rate 0.075. So we will keep this value fixed and tune the model to get the best value of l2 regularization.\n",
    "\n",
    "## `L2_REG`\n",
    "\n",
    "Any positive value is allowed for the parameter l2_reg so we will try the model performance on the some values between 1 to 100.\n",
    "\n",
    "---"
   ]
  },
  {
   "cell_type": "code",
   "execution_count": 53,
   "metadata": {},
   "outputs": [],
   "source": [
    "def get_l2_reg(evaluation_set):\n",
    "    \n",
    "    results = []\n",
    "    \n",
    "    for l2 in [1, 2, 3, 4, 5, 10, 100]:\n",
    "        SCORE_TRAIN = []\n",
    "        SCORE_VALID = []\n",
    "        x = {}\n",
    "        for train, valid in (evaluation_set):\n",
    "            \n",
    "            # separate the target and independent values\n",
    "            train_data_x = train.drop(columns= ['WEEK_END_DATE', 'STORE_NUM', 'UPC', 'UNITS'])\n",
    "            train_data_y = train['UNITS']\n",
    "\n",
    "            valid_data_x = valid.drop(columns= ['WEEK_END_DATE', 'STORE_NUM', 'UPC', 'UNITS'])\n",
    "            valid_data_y = valid['UNITS']\n",
    "\n",
    "            # define the catboost model\n",
    "            model = CatBoostRegressor(n_estimators=1800,\n",
    "                                      l2_leaf_reg=l2,\n",
    "                                      max_depth=8,\n",
    "                                      learning_rate=0.075,\n",
    "                                      objective='RMSE',\n",
    "                                      verbose=False,\n",
    "                                      eval_metric='MSLE',\n",
    "                                      cat_features=categorical_feature_indices)\n",
    "            # fit the model with the training data\n",
    "            model.fit(train_data_x, train_data_y,plot=False,eval_set=[(valid_data_x, valid_data_y)])\n",
    "            \n",
    "            # predict on train and validation \n",
    "            predict_train = model.predict(train_data_x).clip(min=0)\n",
    "            predict_valid = model.predict(valid_data_x).clip(min=0)\n",
    "            \n",
    "            # calculate the rmsle on train and valid\n",
    "            train_rmsle = get_msle(train_data_y, predict_train)\n",
    "            valid_rmsle = get_msle(valid_data_y, predict_valid)\n",
    "            \n",
    "            SCORE_TRAIN.append(train_rmsle)\n",
    "            SCORE_VALID.append(valid_rmsle)\n",
    "            \n",
    "            \n",
    "        # calculate the mean rmsle on train and valid    \n",
    "        mean_rmsle_train = np.mean(SCORE_TRAIN)\n",
    "        mean_rmsle_valid = np.mean(SCORE_VALID)\n",
    "        x['l2_reg'] = l2\n",
    "        x['rmsle_train'] = mean_rmsle_train\n",
    "        x['rmsle_valid'] = mean_rmsle_valid\n",
    "        results.append(x)\n",
    "        \n",
    "        print('With l2_reg:\\t'+ str(l2) + '\\tMEAN RMSLE TRAIN:\\t' + str(mean_rmsle_train)+ '\\tMEAN RMSLE VALID: '+str(mean_rmsle_valid))\n",
    "        \n",
    "\n",
    "    return results       \n",
    "    "
   ]
  },
  {
   "cell_type": "code",
   "execution_count": 54,
   "metadata": {
    "scrolled": true
   },
   "outputs": [
    {
     "name": "stdout",
     "output_type": "stream",
     "text": [
      "With l2_reg:\t1\tMEAN RMSLE TRAIN:\t0.35171641099922285\tMEAN RMSLE VALID: 0.4484936819019407\n",
      "With l2_reg:\t2\tMEAN RMSLE TRAIN:\t0.3417822279181349\tMEAN RMSLE VALID: 0.4475898455284653\n",
      "With l2_reg:\t3\tMEAN RMSLE TRAIN:\t0.35191323644349304\tMEAN RMSLE VALID: 0.4485194432480534\n",
      "With l2_reg:\t4\tMEAN RMSLE TRAIN:\t0.34796410199437994\tMEAN RMSLE VALID: 0.4454876217218918\n",
      "With l2_reg:\t5\tMEAN RMSLE TRAIN:\t0.3501687941953721\tMEAN RMSLE VALID: 0.44846284993359403\n",
      "With l2_reg:\t10\tMEAN RMSLE TRAIN:\t0.34700278913678745\tMEAN RMSLE VALID: 0.4493388978916429\n",
      "With l2_reg:\t100\tMEAN RMSLE TRAIN:\t0.38847843426719575\tMEAN RMSLE VALID: 0.45658906988520037\n"
     ]
    }
   ],
   "source": [
    "l2_results = get_l2_reg(evaluation_sets)"
   ]
  },
  {
   "cell_type": "code",
   "execution_count": 55,
   "metadata": {},
   "outputs": [
    {
     "data": {
      "image/png": "[encoded data removed]",
      "text/plain": [
       "<Figure size 1500x700 with 1 Axes>"
      ]
     },
     "metadata": {},
     "output_type": "display_data"
    }
   ],
   "source": [
    "l2_results = pd.DataFrame.from_dict(l2_results)\n",
    "plt.figure(figsize=(15,7))\n",
    "plt.plot(l2_results['l2_reg'], l2_results['rmsle_train'], marker='o', label= 'train')\n",
    "plt.plot(l2_results['l2_reg'], l2_results['rmsle_valid'], marker='o', label= 'valid')\n",
    "plt.legend();"
   ]
  },
  {
   "cell_type": "markdown",
   "metadata": {},
   "source": [
    "Here we can see that we are getting the best performance for L2_Reg value 3."
   ]
  },
  {
   "cell_type": "markdown",
   "metadata": {},
   "source": [
    "---\n",
    "\n",
    "### `Final Hyperparameters for CatBoost`\n",
    "\n",
    "The best performance is `0.4534` with the l2_reg value 3. So, now we have the optimal values of the parameters of catboost.\n",
    "\n",
    "- ***N_ESTIMATORS*** : 1800\n",
    "- ***LEARNING RATE*** : 0.075\n",
    "- ***MAX_DEPTH*** : 8\n",
    "- ***L2_REG*** : 3\n",
    "\n",
    "\n",
    "---"
   ]
  },
  {
   "cell_type": "code",
   "execution_count": 56,
   "metadata": {},
   "outputs": [],
   "source": [
    "# save the data used for training the catboost\n",
    "final_data.to_csv('catboost_data.csv',index=False)"
   ]
  }
 ],
 "metadata": {
  "kernelspec": {
   "display_name": "Python 3 (ipykernel)",
   "language": "python",
   "name": "python3"
  },
  "language_info": {
   "codemirror_mode": {
    "name": "ipython",
    "version": 3
   },
   "file_extension": ".py",
   "mimetype": "text/x-python",
   "name": "python",
   "nbconvert_exporter": "python",
   "pygments_lexer": "ipython3",
   "version": "3.11.1"
  }
 },
 "nbformat": 4,
 "nbformat_minor": 2
}
