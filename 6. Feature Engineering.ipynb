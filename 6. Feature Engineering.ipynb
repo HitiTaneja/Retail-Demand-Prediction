{
 "cells": [
  {
   "cell_type": "markdown",
   "metadata": {},
   "source": [
    "---\n",
    "---\n",
    "\n",
    "### `FEATURE ENGINEERING`\n",
    "\n",
    "\n",
    "In this notebook, we will first merge all the datasets that are available to us `train_data`, `product_data` and `store _data` and build a Random Forest model on it. And then, we will engineer some features from the existing datasets and try to improve the performance of the model.\n",
    "\n",
    "\n",
    "\n",
    "---\n",
    "\n",
    "\n"
   ]
  },
  {
   "cell_type": "code",
   "execution_count": 1,
   "metadata": {},
   "outputs": [],
   "source": [
    "# importing required libraries\n",
    "import pandas as pd\n",
    "import numpy as np\n",
    "\n",
    "import matplotlib.pyplot as plt\n",
    "%matplotlib inline\n",
    "\n",
    "import warnings\n",
    "warnings.filterwarnings('ignore')\n",
    "from tqdm import tqdm_notebook\n",
    "from sklearn.ensemble import RandomForestRegressor\n",
    "from sklearn.tree import DecisionTreeRegressor\n",
    "from sklearn.metrics import mean_squared_log_error as msle"
   ]
  },
  {
   "cell_type": "markdown",
   "metadata": {},
   "source": [
    "---\n",
    "### Read the pre-processed Datasets\n",
    "\n",
    "We have already updated the datasets like imputing missing values, convert categorical variables into numerical ones and removed the variables with high cardinality. \n",
    "\n",
    "You can always try and transform the variables according to your business understanding and try to check if that is working well for you or not.\n",
    "\n",
    "\n",
    "---"
   ]
  },
  {
   "cell_type": "code",
   "execution_count": 2,
   "metadata": {},
   "outputs": [],
   "source": [
    "# reading the dataset\n",
    "train_data = pd.read_csv('Data/updated_train_data.csv')\n",
    "product_data = pd.read_csv('Data/updated_product_data.csv')\n",
    "store_data = pd.read_csv('Data/updated_store_data.csv')"
   ]
  },
  {
   "cell_type": "code",
   "execution_count": 3,
   "metadata": {
    "scrolled": false
   },
   "outputs": [
    {
     "data": {
      "text/html": [
       "<div>\n",
       "<style scoped>\n",
       "    .dataframe tbody tr th:only-of-type {\n",
       "        vertical-align: middle;\n",
       "    }\n",
       "\n",
       "    .dataframe tbody tr th {\n",
       "        vertical-align: top;\n",
       "    }\n",
       "\n",
       "    .dataframe thead th {\n",
       "        text-align: right;\n",
       "    }\n",
       "</style>\n",
       "<table border=\"1\" class=\"dataframe\">\n",
       "  <thead>\n",
       "    <tr style=\"text-align: right;\">\n",
       "      <th></th>\n",
       "      <th>WEEK_END_DATE</th>\n",
       "      <th>STORE_NUM</th>\n",
       "      <th>UPC</th>\n",
       "      <th>BASE_PRICE</th>\n",
       "      <th>FEATURE</th>\n",
       "      <th>DISPLAY</th>\n",
       "      <th>UNITS</th>\n",
       "    </tr>\n",
       "  </thead>\n",
       "  <tbody>\n",
       "    <tr>\n",
       "      <th>0</th>\n",
       "      <td>14-Jan-09</td>\n",
       "      <td>367</td>\n",
       "      <td>1111009477</td>\n",
       "      <td>1.57</td>\n",
       "      <td>0</td>\n",
       "      <td>0</td>\n",
       "      <td>13</td>\n",
       "    </tr>\n",
       "    <tr>\n",
       "      <th>1</th>\n",
       "      <td>14-Jan-09</td>\n",
       "      <td>367</td>\n",
       "      <td>1111009497</td>\n",
       "      <td>1.39</td>\n",
       "      <td>0</td>\n",
       "      <td>0</td>\n",
       "      <td>20</td>\n",
       "    </tr>\n",
       "  </tbody>\n",
       "</table>\n",
       "</div>"
      ],
      "text/plain": [
       "  WEEK_END_DATE  STORE_NUM         UPC  BASE_PRICE  FEATURE  DISPLAY  UNITS\n",
       "0     14-Jan-09        367  1111009477        1.57        0        0     13\n",
       "1     14-Jan-09        367  1111009497        1.39        0        0     20"
      ]
     },
     "execution_count": 3,
     "metadata": {},
     "output_type": "execute_result"
    }
   ],
   "source": [
    "train_data.head(2)"
   ]
  },
  {
   "cell_type": "markdown",
   "metadata": {},
   "source": [
    "---\n",
    "\n",
    "***`Train Data:`***\n",
    "\n",
    "- **WEEK_END_DATE**: Will be used to divide the data into train, validate and test.\n",
    "- **STORE_NUM**: Will be used to merge files.\n",
    "- **UPC**: Will be used to merge files\n",
    "- **BASE_PRICE**: It was already present in the numeric form.\n",
    "- **FEATURE**: It was already present in the numeric form.\n",
    "- **DISPLAY**: It was already present in the numeric form.\n",
    "- **UNITS**: Target Variable\n",
    "\n",
    "---"
   ]
  },
  {
   "cell_type": "code",
   "execution_count": 4,
   "metadata": {
    "scrolled": true
   },
   "outputs": [
    {
     "data": {
      "text/html": [
       "<div>\n",
       "<style scoped>\n",
       "    .dataframe tbody tr th:only-of-type {\n",
       "        vertical-align: middle;\n",
       "    }\n",
       "\n",
       "    .dataframe tbody tr th {\n",
       "        vertical-align: top;\n",
       "    }\n",
       "\n",
       "    .dataframe thead th {\n",
       "        text-align: right;\n",
       "    }\n",
       "</style>\n",
       "<table border=\"1\" class=\"dataframe\">\n",
       "  <thead>\n",
       "    <tr style=\"text-align: right;\">\n",
       "      <th></th>\n",
       "      <th>UPC</th>\n",
       "      <th>MANUFACTURER_1</th>\n",
       "      <th>MANUFACTURER_2</th>\n",
       "      <th>MANUFACTURER_3</th>\n",
       "      <th>MANUFACTURER_4</th>\n",
       "      <th>MANUFACTURER_5</th>\n",
       "      <th>MANUFACTURER_6</th>\n",
       "      <th>MANUFACTURER_7</th>\n",
       "      <th>MANUFACTURER_8</th>\n",
       "      <th>MANUFACTURER_9</th>\n",
       "      <th>...</th>\n",
       "      <th>CATEGORY_3</th>\n",
       "      <th>CATEGORY_4</th>\n",
       "      <th>SUB_CATEGORY_1</th>\n",
       "      <th>SUB_CATEGORY_2</th>\n",
       "      <th>SUB_CATEGORY_3</th>\n",
       "      <th>SUB_CATEGORY_4</th>\n",
       "      <th>SUB_CATEGORY_5</th>\n",
       "      <th>SUB_CATEGORY_6</th>\n",
       "      <th>SUB_CATEGORY_7</th>\n",
       "      <th>PRODUCT_SIZE</th>\n",
       "    </tr>\n",
       "  </thead>\n",
       "  <tbody>\n",
       "    <tr>\n",
       "      <th>0</th>\n",
       "      <td>1111009477</td>\n",
       "      <td>1</td>\n",
       "      <td>0</td>\n",
       "      <td>0</td>\n",
       "      <td>0</td>\n",
       "      <td>0</td>\n",
       "      <td>0</td>\n",
       "      <td>0</td>\n",
       "      <td>0</td>\n",
       "      <td>0</td>\n",
       "      <td>...</td>\n",
       "      <td>0</td>\n",
       "      <td>0</td>\n",
       "      <td>1</td>\n",
       "      <td>0</td>\n",
       "      <td>0</td>\n",
       "      <td>0</td>\n",
       "      <td>0</td>\n",
       "      <td>0</td>\n",
       "      <td>0</td>\n",
       "      <td>2</td>\n",
       "    </tr>\n",
       "    <tr>\n",
       "      <th>1</th>\n",
       "      <td>1111009497</td>\n",
       "      <td>1</td>\n",
       "      <td>0</td>\n",
       "      <td>0</td>\n",
       "      <td>0</td>\n",
       "      <td>0</td>\n",
       "      <td>0</td>\n",
       "      <td>0</td>\n",
       "      <td>0</td>\n",
       "      <td>0</td>\n",
       "      <td>...</td>\n",
       "      <td>0</td>\n",
       "      <td>0</td>\n",
       "      <td>1</td>\n",
       "      <td>0</td>\n",
       "      <td>0</td>\n",
       "      <td>0</td>\n",
       "      <td>0</td>\n",
       "      <td>0</td>\n",
       "      <td>0</td>\n",
       "      <td>2</td>\n",
       "    </tr>\n",
       "  </tbody>\n",
       "</table>\n",
       "<p>2 rows × 22 columns</p>\n",
       "</div>"
      ],
      "text/plain": [
       "          UPC  MANUFACTURER_1  MANUFACTURER_2  MANUFACTURER_3  MANUFACTURER_4  \\\n",
       "0  1111009477               1               0               0               0   \n",
       "1  1111009497               1               0               0               0   \n",
       "\n",
       "   MANUFACTURER_5  MANUFACTURER_6  MANUFACTURER_7  MANUFACTURER_8  \\\n",
       "0               0               0               0               0   \n",
       "1               0               0               0               0   \n",
       "\n",
       "   MANUFACTURER_9  ...  CATEGORY_3  CATEGORY_4  SUB_CATEGORY_1  \\\n",
       "0               0  ...           0           0               1   \n",
       "1               0  ...           0           0               1   \n",
       "\n",
       "   SUB_CATEGORY_2  SUB_CATEGORY_3  SUB_CATEGORY_4  SUB_CATEGORY_5  \\\n",
       "0               0               0               0               0   \n",
       "1               0               0               0               0   \n",
       "\n",
       "   SUB_CATEGORY_6  SUB_CATEGORY_7  PRODUCT_SIZE  \n",
       "0               0               0             2  \n",
       "1               0               0             2  \n",
       "\n",
       "[2 rows x 22 columns]"
      ]
     },
     "execution_count": 4,
     "metadata": {},
     "output_type": "execute_result"
    }
   ],
   "source": [
    "product_data.head(2)"
   ]
  },
  {
   "cell_type": "markdown",
   "metadata": {},
   "source": [
    "---\n",
    "\n",
    "***`Product Data`***\n",
    "\n",
    "- **UPC**: Will be used to merge files.\n",
    "- **MANUFACTURER**: We have transformed the variable by One Hot Encoding.\n",
    "- **CATEGORY**: We have transformed the variable by One Hot Encoding.\n",
    "- **SUB_CATEGORY**: We have transformed the variable the variable by One Hot Encoding.\n",
    "- **PRODUCT_SIZE**: It was initially available as different size units for different categories of products, like `PRETZELS` were available in `Ounces (OZ)` and `MOUTHWASH` were in `MILI LITRES (ML)`. So we defined the bining according the product category and transformed this feature. \n",
    "\n",
    "---"
   ]
  },
  {
   "cell_type": "code",
   "execution_count": 5,
   "metadata": {
    "scrolled": true
   },
   "outputs": [
    {
     "data": {
      "text/html": [
       "<div>\n",
       "<style scoped>\n",
       "    .dataframe tbody tr th:only-of-type {\n",
       "        vertical-align: middle;\n",
       "    }\n",
       "\n",
       "    .dataframe tbody tr th {\n",
       "        vertical-align: top;\n",
       "    }\n",
       "\n",
       "    .dataframe thead th {\n",
       "        text-align: right;\n",
       "    }\n",
       "</style>\n",
       "<table border=\"1\" class=\"dataframe\">\n",
       "  <thead>\n",
       "    <tr style=\"text-align: right;\">\n",
       "      <th></th>\n",
       "      <th>STORE_ID</th>\n",
       "      <th>ADDRESS_STATE_PROV_CODE_1</th>\n",
       "      <th>ADDRESS_STATE_PROV_CODE_2</th>\n",
       "      <th>ADDRESS_STATE_PROV_CODE_3</th>\n",
       "      <th>ADDRESS_STATE_PROV_CODE_4</th>\n",
       "      <th>MSA_CODE_1</th>\n",
       "      <th>MSA_CODE_2</th>\n",
       "      <th>MSA_CODE_3</th>\n",
       "      <th>MSA_CODE_4</th>\n",
       "      <th>MSA_CODE_5</th>\n",
       "      <th>MSA_CODE_6</th>\n",
       "      <th>MSA_CODE_7</th>\n",
       "      <th>MSA_CODE_8</th>\n",
       "      <th>MSA_CODE_9</th>\n",
       "      <th>SEG_VALUE_NAME</th>\n",
       "      <th>SALES_AREA_SIZE_NUM</th>\n",
       "      <th>AVG_WEEKLY_BASKETS</th>\n",
       "    </tr>\n",
       "  </thead>\n",
       "  <tbody>\n",
       "    <tr>\n",
       "      <th>0</th>\n",
       "      <td>367</td>\n",
       "      <td>1</td>\n",
       "      <td>0</td>\n",
       "      <td>0</td>\n",
       "      <td>0</td>\n",
       "      <td>1</td>\n",
       "      <td>0</td>\n",
       "      <td>0</td>\n",
       "      <td>0</td>\n",
       "      <td>0</td>\n",
       "      <td>0</td>\n",
       "      <td>0</td>\n",
       "      <td>0</td>\n",
       "      <td>0</td>\n",
       "      <td>1</td>\n",
       "      <td>24721</td>\n",
       "      <td>12707</td>\n",
       "    </tr>\n",
       "    <tr>\n",
       "      <th>1</th>\n",
       "      <td>389</td>\n",
       "      <td>1</td>\n",
       "      <td>0</td>\n",
       "      <td>0</td>\n",
       "      <td>0</td>\n",
       "      <td>1</td>\n",
       "      <td>0</td>\n",
       "      <td>0</td>\n",
       "      <td>0</td>\n",
       "      <td>0</td>\n",
       "      <td>0</td>\n",
       "      <td>0</td>\n",
       "      <td>0</td>\n",
       "      <td>0</td>\n",
       "      <td>2</td>\n",
       "      <td>46073</td>\n",
       "      <td>24767</td>\n",
       "    </tr>\n",
       "  </tbody>\n",
       "</table>\n",
       "</div>"
      ],
      "text/plain": [
       "   STORE_ID  ADDRESS_STATE_PROV_CODE_1  ADDRESS_STATE_PROV_CODE_2  \\\n",
       "0       367                          1                          0   \n",
       "1       389                          1                          0   \n",
       "\n",
       "   ADDRESS_STATE_PROV_CODE_3  ADDRESS_STATE_PROV_CODE_4  MSA_CODE_1  \\\n",
       "0                          0                          0           1   \n",
       "1                          0                          0           1   \n",
       "\n",
       "   MSA_CODE_2  MSA_CODE_3  MSA_CODE_4  MSA_CODE_5  MSA_CODE_6  MSA_CODE_7  \\\n",
       "0           0           0           0           0           0           0   \n",
       "1           0           0           0           0           0           0   \n",
       "\n",
       "   MSA_CODE_8  MSA_CODE_9  SEG_VALUE_NAME  SALES_AREA_SIZE_NUM  \\\n",
       "0           0           0               1                24721   \n",
       "1           0           0               2                46073   \n",
       "\n",
       "   AVG_WEEKLY_BASKETS  \n",
       "0               12707  \n",
       "1               24767  "
      ]
     },
     "execution_count": 5,
     "metadata": {},
     "output_type": "execute_result"
    }
   ],
   "source": [
    "store_data.head(2)"
   ]
  },
  {
   "cell_type": "code",
   "execution_count": 6,
   "metadata": {},
   "outputs": [
    {
     "data": {
      "text/plain": [
       "Index(['STORE_ID', 'ADDRESS_STATE_PROV_CODE_1', 'ADDRESS_STATE_PROV_CODE_2',\n",
       "       'ADDRESS_STATE_PROV_CODE_3', 'ADDRESS_STATE_PROV_CODE_4', 'MSA_CODE_1',\n",
       "       'MSA_CODE_2', 'MSA_CODE_3', 'MSA_CODE_4', 'MSA_CODE_5', 'MSA_CODE_6',\n",
       "       'MSA_CODE_7', 'MSA_CODE_8', 'MSA_CODE_9', 'SEG_VALUE_NAME',\n",
       "       'SALES_AREA_SIZE_NUM', 'AVG_WEEKLY_BASKETS'],\n",
       "      dtype='object')"
      ]
     },
     "execution_count": 6,
     "metadata": {},
     "output_type": "execute_result"
    }
   ],
   "source": [
    "store_data.columns"
   ]
  },
  {
   "cell_type": "markdown",
   "metadata": {},
   "source": [
    "---\n",
    "***`Store Data`***\n",
    "\n",
    "- **STORE_ID**: Will be used to merge files.\n",
    "- **ADDRESS_STATE_PROV_CODE**: We have transformed the variable by One Hot Encoding.\n",
    "- **MSA_CODE**: We have transformed the variable by One Hot Encoding.\n",
    "- **SEG_VALUE_NAME**: We have transformed the variable by One Hot Encoding.\n",
    "- **SALES_AREA_SIZE_NUM**:  No changes done to this variable, already present in the numeric form.\n",
    "- **AVG_WEEKLY_BASKETS**: No changes done to this variable, already present in the numeric form.\n",
    "\n",
    "---"
   ]
  },
  {
   "cell_type": "markdown",
   "metadata": {},
   "source": [
    "---\n",
    "---\n",
    "\n",
    "### `MERGE ALL THE DATASET`\n",
    "\n",
    "---"
   ]
  },
  {
   "cell_type": "code",
   "execution_count": 7,
   "metadata": {},
   "outputs": [],
   "source": [
    "merged_data = train_data.merge(product_data, how= 'left', on= 'UPC')\n",
    "merged_data = merged_data.merge(store_data,how='left', left_on = 'STORE_NUM', right_on='STORE_ID')"
   ]
  },
  {
   "cell_type": "code",
   "execution_count": 8,
   "metadata": {},
   "outputs": [
    {
     "data": {
      "text/html": [
       "<div>\n",
       "<style scoped>\n",
       "    .dataframe tbody tr th:only-of-type {\n",
       "        vertical-align: middle;\n",
       "    }\n",
       "\n",
       "    .dataframe tbody tr th {\n",
       "        vertical-align: top;\n",
       "    }\n",
       "\n",
       "    .dataframe thead th {\n",
       "        text-align: right;\n",
       "    }\n",
       "</style>\n",
       "<table border=\"1\" class=\"dataframe\">\n",
       "  <thead>\n",
       "    <tr style=\"text-align: right;\">\n",
       "      <th></th>\n",
       "      <th>WEEK_END_DATE</th>\n",
       "      <th>STORE_NUM</th>\n",
       "      <th>UPC</th>\n",
       "      <th>BASE_PRICE</th>\n",
       "      <th>FEATURE</th>\n",
       "      <th>DISPLAY</th>\n",
       "      <th>UNITS</th>\n",
       "      <th>MANUFACTURER_1</th>\n",
       "      <th>MANUFACTURER_2</th>\n",
       "      <th>MANUFACTURER_3</th>\n",
       "      <th>...</th>\n",
       "      <th>MSA_CODE_3</th>\n",
       "      <th>MSA_CODE_4</th>\n",
       "      <th>MSA_CODE_5</th>\n",
       "      <th>MSA_CODE_6</th>\n",
       "      <th>MSA_CODE_7</th>\n",
       "      <th>MSA_CODE_8</th>\n",
       "      <th>MSA_CODE_9</th>\n",
       "      <th>SEG_VALUE_NAME</th>\n",
       "      <th>SALES_AREA_SIZE_NUM</th>\n",
       "      <th>AVG_WEEKLY_BASKETS</th>\n",
       "    </tr>\n",
       "  </thead>\n",
       "  <tbody>\n",
       "    <tr>\n",
       "      <th>0</th>\n",
       "      <td>14-Jan-09</td>\n",
       "      <td>367</td>\n",
       "      <td>1111009477</td>\n",
       "      <td>1.57</td>\n",
       "      <td>0</td>\n",
       "      <td>0</td>\n",
       "      <td>13</td>\n",
       "      <td>1</td>\n",
       "      <td>0</td>\n",
       "      <td>0</td>\n",
       "      <td>...</td>\n",
       "      <td>0</td>\n",
       "      <td>0</td>\n",
       "      <td>0</td>\n",
       "      <td>0</td>\n",
       "      <td>0</td>\n",
       "      <td>0</td>\n",
       "      <td>0</td>\n",
       "      <td>1</td>\n",
       "      <td>24721</td>\n",
       "      <td>12707</td>\n",
       "    </tr>\n",
       "    <tr>\n",
       "      <th>1</th>\n",
       "      <td>14-Jan-09</td>\n",
       "      <td>367</td>\n",
       "      <td>1111009497</td>\n",
       "      <td>1.39</td>\n",
       "      <td>0</td>\n",
       "      <td>0</td>\n",
       "      <td>20</td>\n",
       "      <td>1</td>\n",
       "      <td>0</td>\n",
       "      <td>0</td>\n",
       "      <td>...</td>\n",
       "      <td>0</td>\n",
       "      <td>0</td>\n",
       "      <td>0</td>\n",
       "      <td>0</td>\n",
       "      <td>0</td>\n",
       "      <td>0</td>\n",
       "      <td>0</td>\n",
       "      <td>1</td>\n",
       "      <td>24721</td>\n",
       "      <td>12707</td>\n",
       "    </tr>\n",
       "  </tbody>\n",
       "</table>\n",
       "<p>2 rows × 45 columns</p>\n",
       "</div>"
      ],
      "text/plain": [
       "  WEEK_END_DATE  STORE_NUM         UPC  BASE_PRICE  FEATURE  DISPLAY  UNITS  \\\n",
       "0     14-Jan-09        367  1111009477        1.57        0        0     13   \n",
       "1     14-Jan-09        367  1111009497        1.39        0        0     20   \n",
       "\n",
       "   MANUFACTURER_1  MANUFACTURER_2  MANUFACTURER_3  ...  MSA_CODE_3  \\\n",
       "0               1               0               0  ...           0   \n",
       "1               1               0               0  ...           0   \n",
       "\n",
       "   MSA_CODE_4  MSA_CODE_5  MSA_CODE_6  MSA_CODE_7  MSA_CODE_8  MSA_CODE_9  \\\n",
       "0           0           0           0           0           0           0   \n",
       "1           0           0           0           0           0           0   \n",
       "\n",
       "   SEG_VALUE_NAME  SALES_AREA_SIZE_NUM  AVG_WEEKLY_BASKETS  \n",
       "0               1                24721               12707  \n",
       "1               1                24721               12707  \n",
       "\n",
       "[2 rows x 45 columns]"
      ]
     },
     "execution_count": 8,
     "metadata": {},
     "output_type": "execute_result"
    }
   ],
   "source": [
    "merged_data.head(2)"
   ]
  },
  {
   "cell_type": "code",
   "execution_count": 9,
   "metadata": {},
   "outputs": [
    {
     "data": {
      "text/plain": [
       "Index(['WEEK_END_DATE', 'STORE_NUM', 'UPC', 'BASE_PRICE', 'FEATURE', 'DISPLAY',\n",
       "       'UNITS', 'MANUFACTURER_1', 'MANUFACTURER_2', 'MANUFACTURER_3',\n",
       "       'MANUFACTURER_4', 'MANUFACTURER_5', 'MANUFACTURER_6', 'MANUFACTURER_7',\n",
       "       'MANUFACTURER_8', 'MANUFACTURER_9', 'CATEGORY_1', 'CATEGORY_2',\n",
       "       'CATEGORY_3', 'CATEGORY_4', 'SUB_CATEGORY_1', 'SUB_CATEGORY_2',\n",
       "       'SUB_CATEGORY_3', 'SUB_CATEGORY_4', 'SUB_CATEGORY_5', 'SUB_CATEGORY_6',\n",
       "       'SUB_CATEGORY_7', 'PRODUCT_SIZE', 'STORE_ID',\n",
       "       'ADDRESS_STATE_PROV_CODE_1', 'ADDRESS_STATE_PROV_CODE_2',\n",
       "       'ADDRESS_STATE_PROV_CODE_3', 'ADDRESS_STATE_PROV_CODE_4', 'MSA_CODE_1',\n",
       "       'MSA_CODE_2', 'MSA_CODE_3', 'MSA_CODE_4', 'MSA_CODE_5', 'MSA_CODE_6',\n",
       "       'MSA_CODE_7', 'MSA_CODE_8', 'MSA_CODE_9', 'SEG_VALUE_NAME',\n",
       "       'SALES_AREA_SIZE_NUM', 'AVG_WEEKLY_BASKETS'],\n",
       "      dtype='object')"
      ]
     },
     "execution_count": 9,
     "metadata": {},
     "output_type": "execute_result"
    }
   ],
   "source": [
    "merged_data.columns"
   ]
  },
  {
   "cell_type": "markdown",
   "metadata": {},
   "source": [
    "---\n",
    "\n",
    "So, we have now 28 columns in the merged dataset, We will drop `WEEK_END_DATE`, `STORE_NUM` and `UPC` and train the model on rest of the features with `UNITS` as the target variable.\n",
    "\n",
    "Initially, we will train and check the performance using the 24 features. \n",
    "\n",
    "---"
   ]
  },
  {
   "cell_type": "markdown",
   "metadata": {},
   "source": [
    "---\n",
    "\n",
    "- ***The `WEEK_END_DATE` needs to be converted into datetime format.***\n",
    "- ***In the validation strategy notebook, we have defined some functions to create the validation sets dataframe. we are going to use the same function here in this notebook also.***\n"
   ]
  },
  {
   "cell_type": "code",
   "execution_count": 10,
   "metadata": {},
   "outputs": [],
   "source": [
    "# convert to datetime\n",
    "merged_data.WEEK_END_DATE = pd.to_datetime(merged_data.WEEK_END_DATE)\n",
    "\n",
    "# create an array of unique week dates\n",
    "week = merged_data.WEEK_END_DATE.unique()"
   ]
  },
  {
   "cell_type": "code",
   "execution_count": 11,
   "metadata": {},
   "outputs": [],
   "source": [
    "from datetime import timedelta\n",
    "def validation_df(data, week, no_of_months, no_of_validation):\n",
    "    \n",
    "    model_set = []\n",
    "    set_n = 1\n",
    "    for w in range(len(week)-1,0,-1):\n",
    "        x_data = {}\n",
    "\n",
    "        x_data['train_start'] = week[w-3-4*no_of_months]\n",
    "        x_data['train_end'] = week[w-4]\n",
    "        x_data['validate_week'] = week[w-2]\n",
    "        x_data['test_week'] = week[w]\n",
    "        x_data['no_days_train'] = x_data['train_end'] - x_data['train_start']\n",
    "        x_data['set_no'] = 'set'+str(set_n)\n",
    "        set_n +=1\n",
    "        model_set.append(x_data)\n",
    "        if(len(model_set) == no_of_validation):\n",
    "            break\n",
    "        \n",
    "        \n",
    "    datapoints = []\n",
    "\n",
    "    for s in model_set :\n",
    "        x = {}\n",
    "        train_set = data[(data.WEEK_END_DATE >= s['train_start']) & (data.WEEK_END_DATE <= s['train_end'])]\n",
    "        x['train_shape'] = train_set.shape[0]\n",
    "        x['validation_shape']  = data[data.WEEK_END_DATE == s['validate_week']].shape[0]\n",
    "        x['test_shape'] = data[data.WEEK_END_DATE == s['test_week']].shape[0]\n",
    "        x.update(s)\n",
    "        datapoints.append(x)\n",
    "\n",
    "    df = pd.DataFrame.from_dict(datapoints)\n",
    "    df['no_days_train'] = df['no_days_train'] + timedelta(days=7)\n",
    "    return df    "
   ]
  },
  {
   "cell_type": "code",
   "execution_count": 12,
   "metadata": {},
   "outputs": [
    {
     "data": {
      "text/html": [
       "<div>\n",
       "<style scoped>\n",
       "    .dataframe tbody tr th:only-of-type {\n",
       "        vertical-align: middle;\n",
       "    }\n",
       "\n",
       "    .dataframe tbody tr th {\n",
       "        vertical-align: top;\n",
       "    }\n",
       "\n",
       "    .dataframe thead th {\n",
       "        text-align: right;\n",
       "    }\n",
       "</style>\n",
       "<table border=\"1\" class=\"dataframe\">\n",
       "  <thead>\n",
       "    <tr style=\"text-align: right;\">\n",
       "      <th></th>\n",
       "      <th>train_shape</th>\n",
       "      <th>validation_shape</th>\n",
       "      <th>test_shape</th>\n",
       "      <th>train_start</th>\n",
       "      <th>train_end</th>\n",
       "      <th>validate_week</th>\n",
       "      <th>test_week</th>\n",
       "      <th>no_days_train</th>\n",
       "      <th>set_no</th>\n",
       "    </tr>\n",
       "  </thead>\n",
       "  <tbody>\n",
       "    <tr>\n",
       "      <th>0</th>\n",
       "      <td>13089</td>\n",
       "      <td>1640</td>\n",
       "      <td>1642</td>\n",
       "      <td>2011-07-13</td>\n",
       "      <td>2011-08-31</td>\n",
       "      <td>2011-09-14</td>\n",
       "      <td>2011-09-28</td>\n",
       "      <td>56 days</td>\n",
       "      <td>set1</td>\n",
       "    </tr>\n",
       "    <tr>\n",
       "      <th>1</th>\n",
       "      <td>13102</td>\n",
       "      <td>1632</td>\n",
       "      <td>1638</td>\n",
       "      <td>2011-07-06</td>\n",
       "      <td>2011-08-24</td>\n",
       "      <td>2011-09-07</td>\n",
       "      <td>2011-09-21</td>\n",
       "      <td>56 days</td>\n",
       "      <td>set2</td>\n",
       "    </tr>\n",
       "    <tr>\n",
       "      <th>2</th>\n",
       "      <td>13101</td>\n",
       "      <td>1629</td>\n",
       "      <td>1640</td>\n",
       "      <td>2011-06-29</td>\n",
       "      <td>2011-08-17</td>\n",
       "      <td>2011-08-31</td>\n",
       "      <td>2011-09-14</td>\n",
       "      <td>56 days</td>\n",
       "      <td>set3</td>\n",
       "    </tr>\n",
       "    <tr>\n",
       "      <th>3</th>\n",
       "      <td>13101</td>\n",
       "      <td>1640</td>\n",
       "      <td>1632</td>\n",
       "      <td>2011-06-22</td>\n",
       "      <td>2011-08-10</td>\n",
       "      <td>2011-08-24</td>\n",
       "      <td>2011-09-07</td>\n",
       "      <td>56 days</td>\n",
       "      <td>set4</td>\n",
       "    </tr>\n",
       "    <tr>\n",
       "      <th>4</th>\n",
       "      <td>13109</td>\n",
       "      <td>1638</td>\n",
       "      <td>1629</td>\n",
       "      <td>2011-06-15</td>\n",
       "      <td>2011-08-03</td>\n",
       "      <td>2011-08-17</td>\n",
       "      <td>2011-08-31</td>\n",
       "      <td>56 days</td>\n",
       "      <td>set5</td>\n",
       "    </tr>\n",
       "    <tr>\n",
       "      <th>5</th>\n",
       "      <td>13108</td>\n",
       "      <td>1631</td>\n",
       "      <td>1640</td>\n",
       "      <td>2011-06-08</td>\n",
       "      <td>2011-07-27</td>\n",
       "      <td>2011-08-10</td>\n",
       "      <td>2011-08-24</td>\n",
       "      <td>56 days</td>\n",
       "      <td>set6</td>\n",
       "    </tr>\n",
       "    <tr>\n",
       "      <th>6</th>\n",
       "      <td>13108</td>\n",
       "      <td>1640</td>\n",
       "      <td>1638</td>\n",
       "      <td>2011-06-01</td>\n",
       "      <td>2011-07-20</td>\n",
       "      <td>2011-08-03</td>\n",
       "      <td>2011-08-17</td>\n",
       "      <td>56 days</td>\n",
       "      <td>set7</td>\n",
       "    </tr>\n",
       "    <tr>\n",
       "      <th>7</th>\n",
       "      <td>13112</td>\n",
       "      <td>1637</td>\n",
       "      <td>1631</td>\n",
       "      <td>2011-05-25</td>\n",
       "      <td>2011-07-13</td>\n",
       "      <td>2011-07-27</td>\n",
       "      <td>2011-08-10</td>\n",
       "      <td>56 days</td>\n",
       "      <td>set8</td>\n",
       "    </tr>\n",
       "    <tr>\n",
       "      <th>8</th>\n",
       "      <td>13104</td>\n",
       "      <td>1635</td>\n",
       "      <td>1640</td>\n",
       "      <td>2011-05-18</td>\n",
       "      <td>2011-07-06</td>\n",
       "      <td>2011-07-20</td>\n",
       "      <td>2011-08-03</td>\n",
       "      <td>56 days</td>\n",
       "      <td>set9</td>\n",
       "    </tr>\n",
       "    <tr>\n",
       "      <th>9</th>\n",
       "      <td>13101</td>\n",
       "      <td>1639</td>\n",
       "      <td>1637</td>\n",
       "      <td>2011-05-11</td>\n",
       "      <td>2011-06-29</td>\n",
       "      <td>2011-07-13</td>\n",
       "      <td>2011-07-27</td>\n",
       "      <td>56 days</td>\n",
       "      <td>set10</td>\n",
       "    </tr>\n",
       "    <tr>\n",
       "      <th>10</th>\n",
       "      <td>13106</td>\n",
       "      <td>1642</td>\n",
       "      <td>1635</td>\n",
       "      <td>2011-05-04</td>\n",
       "      <td>2011-06-22</td>\n",
       "      <td>2011-07-06</td>\n",
       "      <td>2011-07-20</td>\n",
       "      <td>56 days</td>\n",
       "      <td>set11</td>\n",
       "    </tr>\n",
       "    <tr>\n",
       "      <th>11</th>\n",
       "      <td>13102</td>\n",
       "      <td>1639</td>\n",
       "      <td>1639</td>\n",
       "      <td>2011-04-27</td>\n",
       "      <td>2011-06-15</td>\n",
       "      <td>2011-06-29</td>\n",
       "      <td>2011-07-13</td>\n",
       "      <td>56 days</td>\n",
       "      <td>set12</td>\n",
       "    </tr>\n",
       "    <tr>\n",
       "      <th>12</th>\n",
       "      <td>13096</td>\n",
       "      <td>1638</td>\n",
       "      <td>1642</td>\n",
       "      <td>2011-04-20</td>\n",
       "      <td>2011-06-08</td>\n",
       "      <td>2011-06-22</td>\n",
       "      <td>2011-07-06</td>\n",
       "      <td>56 days</td>\n",
       "      <td>set13</td>\n",
       "    </tr>\n",
       "    <tr>\n",
       "      <th>13</th>\n",
       "      <td>13093</td>\n",
       "      <td>1639</td>\n",
       "      <td>1639</td>\n",
       "      <td>2011-04-13</td>\n",
       "      <td>2011-06-01</td>\n",
       "      <td>2011-06-15</td>\n",
       "      <td>2011-06-29</td>\n",
       "      <td>56 days</td>\n",
       "      <td>set14</td>\n",
       "    </tr>\n",
       "  </tbody>\n",
       "</table>\n",
       "</div>"
      ],
      "text/plain": [
       "    train_shape  validation_shape  test_shape train_start  train_end  \\\n",
       "0         13089              1640        1642  2011-07-13 2011-08-31   \n",
       "1         13102              1632        1638  2011-07-06 2011-08-24   \n",
       "2         13101              1629        1640  2011-06-29 2011-08-17   \n",
       "3         13101              1640        1632  2011-06-22 2011-08-10   \n",
       "4         13109              1638        1629  2011-06-15 2011-08-03   \n",
       "5         13108              1631        1640  2011-06-08 2011-07-27   \n",
       "6         13108              1640        1638  2011-06-01 2011-07-20   \n",
       "7         13112              1637        1631  2011-05-25 2011-07-13   \n",
       "8         13104              1635        1640  2011-05-18 2011-07-06   \n",
       "9         13101              1639        1637  2011-05-11 2011-06-29   \n",
       "10        13106              1642        1635  2011-05-04 2011-06-22   \n",
       "11        13102              1639        1639  2011-04-27 2011-06-15   \n",
       "12        13096              1638        1642  2011-04-20 2011-06-08   \n",
       "13        13093              1639        1639  2011-04-13 2011-06-01   \n",
       "\n",
       "   validate_week  test_week no_days_train set_no  \n",
       "0     2011-09-14 2011-09-28       56 days   set1  \n",
       "1     2011-09-07 2011-09-21       56 days   set2  \n",
       "2     2011-08-31 2011-09-14       56 days   set3  \n",
       "3     2011-08-24 2011-09-07       56 days   set4  \n",
       "4     2011-08-17 2011-08-31       56 days   set5  \n",
       "5     2011-08-10 2011-08-24       56 days   set6  \n",
       "6     2011-08-03 2011-08-17       56 days   set7  \n",
       "7     2011-07-27 2011-08-10       56 days   set8  \n",
       "8     2011-07-20 2011-08-03       56 days   set9  \n",
       "9     2011-07-13 2011-07-27       56 days  set10  \n",
       "10    2011-07-06 2011-07-20       56 days  set11  \n",
       "11    2011-06-29 2011-07-13       56 days  set12  \n",
       "12    2011-06-22 2011-07-06       56 days  set13  \n",
       "13    2011-06-15 2011-06-29       56 days  set14  "
      ]
     },
     "execution_count": 12,
     "metadata": {},
     "output_type": "execute_result"
    }
   ],
   "source": [
    "validation_df(merged_data, week, no_of_months=2, no_of_validation=14)"
   ]
  },
  {
   "cell_type": "code",
   "execution_count": 13,
   "metadata": {},
   "outputs": [],
   "source": [
    "# function to calculate the root mean squared log error\n",
    "def get_msle(true, predicted) :\n",
    "    return np.sqrt(msle(true, predicted))\n",
    "\n",
    "# function to return the columns on which the model is trained\n",
    "def get_colums(data):\n",
    "    print('\\n####### The model is trained on Following Columns: ###########\\n')\n",
    "    print(data.columns)\n",
    "    print('===============================================================')\n",
    "\n",
    "\n",
    "# function to train the model \n",
    "# it will calculate and return the RMSLE on train and validation set    \n",
    "def my_model(train_d, validate_d, model):    \n",
    "    train_x = train_d.drop(columns=['WEEK_END_DATE', 'UNITS'])\n",
    "    train_y = train_d['UNITS']\n",
    "    \n",
    "    valid_x = validate_d.drop(columns=['WEEK_END_DATE', 'UNITS'])\n",
    "    valid_y = validate_d['UNITS']\n",
    "    \n",
    "    model.fit(train_x, train_y)\n",
    "    \n",
    "    predict_train = model.predict(train_x)\n",
    "    predict_train = predict_train.clip(min=0)\n",
    "            \n",
    "    predict_validate = model.predict(valid_x)\n",
    "    predict_validate = predict_validate.clip(min=0)\n",
    "    \n",
    "    return get_msle(train_y, predict_train), get_msle(valid_y, predict_validate), train_x\n",
    "    \n",
    "    \n",
    "    \n",
    "# function will extract the train and validation set using validation set dataframe\n",
    "# The defined model will train on each of the set and the average RMSLE on train and validate set will be returned\n",
    "def train_model(df, data, model):\n",
    "    \n",
    "    model_results_train = []\n",
    "    model_results_valid = []\n",
    "    for row in tqdm_notebook(range(df.shape[0]),leave=False, desc='training_model'):\n",
    "        \n",
    "        row = df.iloc[row]\n",
    "        train_set = data[(data.WEEK_END_DATE >= row['train_start']) & (data.WEEK_END_DATE <= row['train_end'])]\n",
    "        validate_set = data[data.WEEK_END_DATE == row['validate_week']]        \n",
    "        train, valid, data_train = my_model(train_set,validate_set, model)\n",
    "        model_results_train.append(train)\n",
    "        model_results_valid.append(valid)\n",
    "        \n",
    "    return np.mean(model_results_train) , np.mean(model_results_valid), data_train"
   ]
  },
  {
   "cell_type": "markdown",
   "metadata": {},
   "source": [
    "---\n",
    "\n",
    "![](images/architecture1.png)\n",
    "\n",
    "---"
   ]
  },
  {
   "cell_type": "markdown",
   "metadata": {},
   "source": [
    "---\n",
    "---\n",
    "\n",
    "\n",
    "\n",
    "\n",
    "\n",
    "### `OPTIMUM VALUE OF N_ESTIMATORS`\n",
    "\n",
    "\n",
    "- First of all, we will calculate the performance of the model using the default features and we will try to tune the parameters to get the best results.\n",
    "\n",
    "- So, first we will find out the optimal value of n_estimators for the Random Forest Model and we will see the performance of the model on n_estimators value 5, 15, 25..... 245.\n",
    "\n",
    "---"
   ]
  },
  {
   "cell_type": "code",
   "execution_count": 14,
   "metadata": {},
   "outputs": [
    {
     "data": {
      "application/vnd.jupyter.widget-view+json": {
       "model_id": "9084f5c022ed4aa6bd8fceb51acc065b",
       "version_major": 2,
       "version_minor": 0
      },
      "text/plain": [
       "estimator:   0%|          | 0/25 [00:00<?, ?it/s]"
      ]
     },
     "metadata": {},
     "output_type": "display_data"
    },
    {
     "data": {
      "application/vnd.jupyter.widget-view+json": {
       "model_id": "",
       "version_major": 2,
       "version_minor": 0
      },
      "text/plain": [
       "training_model:   0%|          | 0/14 [00:00<?, ?it/s]"
      ]
     },
     "metadata": {},
     "output_type": "display_data"
    },
    {
     "data": {
      "application/vnd.jupyter.widget-view+json": {
       "model_id": "",
       "version_major": 2,
       "version_minor": 0
      },
      "text/plain": [
       "training_model:   0%|          | 0/14 [00:00<?, ?it/s]"
      ]
     },
     "metadata": {},
     "output_type": "display_data"
    },
    {
     "data": {
      "application/vnd.jupyter.widget-view+json": {
       "model_id": "",
       "version_major": 2,
       "version_minor": 0
      },
      "text/plain": [
       "training_model:   0%|          | 0/14 [00:00<?, ?it/s]"
      ]
     },
     "metadata": {},
     "output_type": "display_data"
    },
    {
     "data": {
      "application/vnd.jupyter.widget-view+json": {
       "model_id": "",
       "version_major": 2,
       "version_minor": 0
      },
      "text/plain": [
       "training_model:   0%|          | 0/14 [00:00<?, ?it/s]"
      ]
     },
     "metadata": {},
     "output_type": "display_data"
    },
    {
     "data": {
      "application/vnd.jupyter.widget-view+json": {
       "model_id": "",
       "version_major": 2,
       "version_minor": 0
      },
      "text/plain": [
       "training_model:   0%|          | 0/14 [00:00<?, ?it/s]"
      ]
     },
     "metadata": {},
     "output_type": "display_data"
    },
    {
     "data": {
      "application/vnd.jupyter.widget-view+json": {
       "model_id": "",
       "version_major": 2,
       "version_minor": 0
      },
      "text/plain": [
       "training_model:   0%|          | 0/14 [00:00<?, ?it/s]"
      ]
     },
     "metadata": {},
     "output_type": "display_data"
    },
    {
     "data": {
      "application/vnd.jupyter.widget-view+json": {
       "model_id": "",
       "version_major": 2,
       "version_minor": 0
      },
      "text/plain": [
       "training_model:   0%|          | 0/14 [00:00<?, ?it/s]"
      ]
     },
     "metadata": {},
     "output_type": "display_data"
    },
    {
     "data": {
      "application/vnd.jupyter.widget-view+json": {
       "model_id": "",
       "version_major": 2,
       "version_minor": 0
      },
      "text/plain": [
       "training_model:   0%|          | 0/14 [00:00<?, ?it/s]"
      ]
     },
     "metadata": {},
     "output_type": "display_data"
    },
    {
     "data": {
      "application/vnd.jupyter.widget-view+json": {
       "model_id": "",
       "version_major": 2,
       "version_minor": 0
      },
      "text/plain": [
       "training_model:   0%|          | 0/14 [00:00<?, ?it/s]"
      ]
     },
     "metadata": {},
     "output_type": "display_data"
    },
    {
     "data": {
      "application/vnd.jupyter.widget-view+json": {
       "model_id": "",
       "version_major": 2,
       "version_minor": 0
      },
      "text/plain": [
       "training_model:   0%|          | 0/14 [00:00<?, ?it/s]"
      ]
     },
     "metadata": {},
     "output_type": "display_data"
    },
    {
     "data": {
      "application/vnd.jupyter.widget-view+json": {
       "model_id": "",
       "version_major": 2,
       "version_minor": 0
      },
      "text/plain": [
       "training_model:   0%|          | 0/14 [00:00<?, ?it/s]"
      ]
     },
     "metadata": {},
     "output_type": "display_data"
    },
    {
     "data": {
      "application/vnd.jupyter.widget-view+json": {
       "model_id": "",
       "version_major": 2,
       "version_minor": 0
      },
      "text/plain": [
       "training_model:   0%|          | 0/14 [00:00<?, ?it/s]"
      ]
     },
     "metadata": {},
     "output_type": "display_data"
    },
    {
     "data": {
      "application/vnd.jupyter.widget-view+json": {
       "model_id": "",
       "version_major": 2,
       "version_minor": 0
      },
      "text/plain": [
       "training_model:   0%|          | 0/14 [00:00<?, ?it/s]"
      ]
     },
     "metadata": {},
     "output_type": "display_data"
    },
    {
     "data": {
      "application/vnd.jupyter.widget-view+json": {
       "model_id": "",
       "version_major": 2,
       "version_minor": 0
      },
      "text/plain": [
       "training_model:   0%|          | 0/14 [00:00<?, ?it/s]"
      ]
     },
     "metadata": {},
     "output_type": "display_data"
    },
    {
     "data": {
      "application/vnd.jupyter.widget-view+json": {
       "model_id": "",
       "version_major": 2,
       "version_minor": 0
      },
      "text/plain": [
       "training_model:   0%|          | 0/14 [00:00<?, ?it/s]"
      ]
     },
     "metadata": {},
     "output_type": "display_data"
    },
    {
     "data": {
      "application/vnd.jupyter.widget-view+json": {
       "model_id": "",
       "version_major": 2,
       "version_minor": 0
      },
      "text/plain": [
       "training_model:   0%|          | 0/14 [00:00<?, ?it/s]"
      ]
     },
     "metadata": {},
     "output_type": "display_data"
    },
    {
     "data": {
      "application/vnd.jupyter.widget-view+json": {
       "model_id": "",
       "version_major": 2,
       "version_minor": 0
      },
      "text/plain": [
       "training_model:   0%|          | 0/14 [00:00<?, ?it/s]"
      ]
     },
     "metadata": {},
     "output_type": "display_data"
    },
    {
     "data": {
      "application/vnd.jupyter.widget-view+json": {
       "model_id": "",
       "version_major": 2,
       "version_minor": 0
      },
      "text/plain": [
       "training_model:   0%|          | 0/14 [00:00<?, ?it/s]"
      ]
     },
     "metadata": {},
     "output_type": "display_data"
    },
    {
     "data": {
      "application/vnd.jupyter.widget-view+json": {
       "model_id": "",
       "version_major": 2,
       "version_minor": 0
      },
      "text/plain": [
       "training_model:   0%|          | 0/14 [00:00<?, ?it/s]"
      ]
     },
     "metadata": {},
     "output_type": "display_data"
    },
    {
     "data": {
      "application/vnd.jupyter.widget-view+json": {
       "model_id": "",
       "version_major": 2,
       "version_minor": 0
      },
      "text/plain": [
       "training_model:   0%|          | 0/14 [00:00<?, ?it/s]"
      ]
     },
     "metadata": {},
     "output_type": "display_data"
    },
    {
     "data": {
      "application/vnd.jupyter.widget-view+json": {
       "model_id": "",
       "version_major": 2,
       "version_minor": 0
      },
      "text/plain": [
       "training_model:   0%|          | 0/14 [00:00<?, ?it/s]"
      ]
     },
     "metadata": {},
     "output_type": "display_data"
    },
    {
     "data": {
      "application/vnd.jupyter.widget-view+json": {
       "model_id": "",
       "version_major": 2,
       "version_minor": 0
      },
      "text/plain": [
       "training_model:   0%|          | 0/14 [00:00<?, ?it/s]"
      ]
     },
     "metadata": {},
     "output_type": "display_data"
    },
    {
     "data": {
      "application/vnd.jupyter.widget-view+json": {
       "model_id": "",
       "version_major": 2,
       "version_minor": 0
      },
      "text/plain": [
       "training_model:   0%|          | 0/14 [00:00<?, ?it/s]"
      ]
     },
     "metadata": {},
     "output_type": "display_data"
    },
    {
     "data": {
      "application/vnd.jupyter.widget-view+json": {
       "model_id": "",
       "version_major": 2,
       "version_minor": 0
      },
      "text/plain": [
       "training_model:   0%|          | 0/14 [00:00<?, ?it/s]"
      ]
     },
     "metadata": {},
     "output_type": "display_data"
    },
    {
     "data": {
      "application/vnd.jupyter.widget-view+json": {
       "model_id": "",
       "version_major": 2,
       "version_minor": 0
      },
      "text/plain": [
       "training_model:   0%|          | 0/14 [00:00<?, ?it/s]"
      ]
     },
     "metadata": {},
     "output_type": "display_data"
    },
    {
     "name": "stdout",
     "output_type": "stream",
     "text": [
      "\n",
      "####### The model is trained on Following Columns: ###########\n",
      "\n",
      "Index(['BASE_PRICE', 'FEATURE', 'DISPLAY', 'MANUFACTURER_1', 'MANUFACTURER_2',\n",
      "       'MANUFACTURER_3', 'MANUFACTURER_4', 'MANUFACTURER_5', 'MANUFACTURER_6',\n",
      "       'MANUFACTURER_7', 'MANUFACTURER_8', 'MANUFACTURER_9', 'CATEGORY_1',\n",
      "       'CATEGORY_2', 'CATEGORY_3', 'CATEGORY_4', 'SUB_CATEGORY_1',\n",
      "       'SUB_CATEGORY_2', 'SUB_CATEGORY_3', 'SUB_CATEGORY_4', 'SUB_CATEGORY_5',\n",
      "       'SUB_CATEGORY_6', 'SUB_CATEGORY_7', 'PRODUCT_SIZE', 'STORE_ID',\n",
      "       'ADDRESS_STATE_PROV_CODE_1', 'ADDRESS_STATE_PROV_CODE_2',\n",
      "       'ADDRESS_STATE_PROV_CODE_3', 'ADDRESS_STATE_PROV_CODE_4', 'MSA_CODE_1',\n",
      "       'MSA_CODE_2', 'MSA_CODE_3', 'MSA_CODE_4', 'MSA_CODE_5', 'MSA_CODE_6',\n",
      "       'MSA_CODE_7', 'MSA_CODE_8', 'MSA_CODE_9', 'SEG_VALUE_NAME',\n",
      "       'SALES_AREA_SIZE_NUM', 'AVG_WEEKLY_BASKETS'],\n",
      "      dtype='object')\n",
      "===============================================================\n"
     ]
    }
   ],
   "source": [
    "estimator_results = []\n",
    "data = merged_data.drop(columns=['STORE_NUM', 'UPC'])\n",
    "\n",
    "\n",
    "valid_df = validation_df(merged_data, week, no_of_months=2, no_of_validation= 14)\n",
    "\n",
    "for estimator in tqdm_notebook(range(5,250,10),leave=True, desc= 'estimator'):    \n",
    "    result = {}\n",
    "    model_RFR = RandomForestRegressor(n_estimators= estimator, random_state=0)\n",
    "    rmsle_train, rmsle_valid, data_train = train_model(valid_df, data, model_RFR)\n",
    "    result['estimator'] = estimator\n",
    "    result['rmsle_train'] = rmsle_train\n",
    "    result['rmsle_valid'] = rmsle_valid\n",
    "    estimator_results.append(result)\n",
    "    \n",
    "get_colums(data_train)"
   ]
  },
  {
   "cell_type": "code",
   "execution_count": 15,
   "metadata": {},
   "outputs": [],
   "source": [
    "x = pd.DataFrame.from_dict(estimator_results)"
   ]
  },
  {
   "cell_type": "code",
   "execution_count": 16,
   "metadata": {},
   "outputs": [
    {
     "data": {
      "text/html": [
       "<div>\n",
       "<style scoped>\n",
       "    .dataframe tbody tr th:only-of-type {\n",
       "        vertical-align: middle;\n",
       "    }\n",
       "\n",
       "    .dataframe tbody tr th {\n",
       "        vertical-align: top;\n",
       "    }\n",
       "\n",
       "    .dataframe thead th {\n",
       "        text-align: right;\n",
       "    }\n",
       "</style>\n",
       "<table border=\"1\" class=\"dataframe\">\n",
       "  <thead>\n",
       "    <tr style=\"text-align: right;\">\n",
       "      <th></th>\n",
       "      <th>estimator</th>\n",
       "      <th>rmsle_train</th>\n",
       "      <th>rmsle_valid</th>\n",
       "    </tr>\n",
       "  </thead>\n",
       "  <tbody>\n",
       "    <tr>\n",
       "      <th>0</th>\n",
       "      <td>5</td>\n",
       "      <td>0.347656</td>\n",
       "      <td>0.527100</td>\n",
       "    </tr>\n",
       "    <tr>\n",
       "      <th>1</th>\n",
       "      <td>15</td>\n",
       "      <td>0.339507</td>\n",
       "      <td>0.516021</td>\n",
       "    </tr>\n",
       "    <tr>\n",
       "      <th>2</th>\n",
       "      <td>25</td>\n",
       "      <td>0.337752</td>\n",
       "      <td>0.513001</td>\n",
       "    </tr>\n",
       "    <tr>\n",
       "      <th>3</th>\n",
       "      <td>35</td>\n",
       "      <td>0.336958</td>\n",
       "      <td>0.512338</td>\n",
       "    </tr>\n",
       "    <tr>\n",
       "      <th>4</th>\n",
       "      <td>45</td>\n",
       "      <td>0.336657</td>\n",
       "      <td>0.511339</td>\n",
       "    </tr>\n",
       "    <tr>\n",
       "      <th>5</th>\n",
       "      <td>55</td>\n",
       "      <td>0.336426</td>\n",
       "      <td>0.510943</td>\n",
       "    </tr>\n",
       "    <tr>\n",
       "      <th>6</th>\n",
       "      <td>65</td>\n",
       "      <td>0.336236</td>\n",
       "      <td>0.510624</td>\n",
       "    </tr>\n",
       "    <tr>\n",
       "      <th>7</th>\n",
       "      <td>75</td>\n",
       "      <td>0.336125</td>\n",
       "      <td>0.510385</td>\n",
       "    </tr>\n",
       "    <tr>\n",
       "      <th>8</th>\n",
       "      <td>85</td>\n",
       "      <td>0.336032</td>\n",
       "      <td>0.510475</td>\n",
       "    </tr>\n",
       "    <tr>\n",
       "      <th>9</th>\n",
       "      <td>95</td>\n",
       "      <td>0.335964</td>\n",
       "      <td>0.510411</td>\n",
       "    </tr>\n",
       "    <tr>\n",
       "      <th>10</th>\n",
       "      <td>105</td>\n",
       "      <td>0.335874</td>\n",
       "      <td>0.510494</td>\n",
       "    </tr>\n",
       "    <tr>\n",
       "      <th>11</th>\n",
       "      <td>115</td>\n",
       "      <td>0.335819</td>\n",
       "      <td>0.510464</td>\n",
       "    </tr>\n",
       "    <tr>\n",
       "      <th>12</th>\n",
       "      <td>125</td>\n",
       "      <td>0.335794</td>\n",
       "      <td>0.510598</td>\n",
       "    </tr>\n",
       "    <tr>\n",
       "      <th>13</th>\n",
       "      <td>135</td>\n",
       "      <td>0.335741</td>\n",
       "      <td>0.510364</td>\n",
       "    </tr>\n",
       "    <tr>\n",
       "      <th>14</th>\n",
       "      <td>145</td>\n",
       "      <td>0.335699</td>\n",
       "      <td>0.510337</td>\n",
       "    </tr>\n",
       "    <tr>\n",
       "      <th>15</th>\n",
       "      <td>155</td>\n",
       "      <td>0.335666</td>\n",
       "      <td>0.510441</td>\n",
       "    </tr>\n",
       "    <tr>\n",
       "      <th>16</th>\n",
       "      <td>165</td>\n",
       "      <td>0.335632</td>\n",
       "      <td>0.510550</td>\n",
       "    </tr>\n",
       "    <tr>\n",
       "      <th>17</th>\n",
       "      <td>175</td>\n",
       "      <td>0.335609</td>\n",
       "      <td>0.510535</td>\n",
       "    </tr>\n",
       "    <tr>\n",
       "      <th>18</th>\n",
       "      <td>185</td>\n",
       "      <td>0.335594</td>\n",
       "      <td>0.510403</td>\n",
       "    </tr>\n",
       "    <tr>\n",
       "      <th>19</th>\n",
       "      <td>195</td>\n",
       "      <td>0.335558</td>\n",
       "      <td>0.510412</td>\n",
       "    </tr>\n",
       "    <tr>\n",
       "      <th>20</th>\n",
       "      <td>205</td>\n",
       "      <td>0.335547</td>\n",
       "      <td>0.510291</td>\n",
       "    </tr>\n",
       "    <tr>\n",
       "      <th>21</th>\n",
       "      <td>215</td>\n",
       "      <td>0.335533</td>\n",
       "      <td>0.510211</td>\n",
       "    </tr>\n",
       "    <tr>\n",
       "      <th>22</th>\n",
       "      <td>225</td>\n",
       "      <td>0.335521</td>\n",
       "      <td>0.510076</td>\n",
       "    </tr>\n",
       "    <tr>\n",
       "      <th>23</th>\n",
       "      <td>235</td>\n",
       "      <td>0.335505</td>\n",
       "      <td>0.510066</td>\n",
       "    </tr>\n",
       "    <tr>\n",
       "      <th>24</th>\n",
       "      <td>245</td>\n",
       "      <td>0.335488</td>\n",
       "      <td>0.509987</td>\n",
       "    </tr>\n",
       "  </tbody>\n",
       "</table>\n",
       "</div>"
      ],
      "text/plain": [
       "    estimator  rmsle_train  rmsle_valid\n",
       "0           5     0.347656     0.527100\n",
       "1          15     0.339507     0.516021\n",
       "2          25     0.337752     0.513001\n",
       "3          35     0.336958     0.512338\n",
       "4          45     0.336657     0.511339\n",
       "5          55     0.336426     0.510943\n",
       "6          65     0.336236     0.510624\n",
       "7          75     0.336125     0.510385\n",
       "8          85     0.336032     0.510475\n",
       "9          95     0.335964     0.510411\n",
       "10        105     0.335874     0.510494\n",
       "11        115     0.335819     0.510464\n",
       "12        125     0.335794     0.510598\n",
       "13        135     0.335741     0.510364\n",
       "14        145     0.335699     0.510337\n",
       "15        155     0.335666     0.510441\n",
       "16        165     0.335632     0.510550\n",
       "17        175     0.335609     0.510535\n",
       "18        185     0.335594     0.510403\n",
       "19        195     0.335558     0.510412\n",
       "20        205     0.335547     0.510291\n",
       "21        215     0.335533     0.510211\n",
       "22        225     0.335521     0.510076\n",
       "23        235     0.335505     0.510066\n",
       "24        245     0.335488     0.509987"
      ]
     },
     "execution_count": 16,
     "metadata": {},
     "output_type": "execute_result"
    }
   ],
   "source": [
    "x"
   ]
  },
  {
   "cell_type": "code",
   "execution_count": 17,
   "metadata": {},
   "outputs": [
    {
     "data": {
      "image/png": "[encoded data removed]",
      "text/plain": [
       "<Figure size 1700x700 with 1 Axes>"
      ]
     },
     "metadata": {},
     "output_type": "display_data"
    }
   ],
   "source": [
    "plt.figure(figsize=(17,7))\n",
    "plt.plot(x['estimator'], x['rmsle_valid'], marker='o',label='validation');\n",
    "plt.title('Model: Random Forest Regressor')\n",
    "plt.ylabel('RMSLE')\n",
    "plt.xlabel('no_of_estimators')\n",
    "plt.legend();"
   ]
  },
  {
   "cell_type": "markdown",
   "metadata": {},
   "source": [
    "---\n",
    "### `N_ESTIMATORS = 175`\n",
    "---\n",
    "\n",
    "The `RMSLE` is lowest on `n_estimators` value `175` is around 0.667 and seems to get stable after that. So, we will keep the value of the n_estimators = 175.\n",
    "\n",
    "\n",
    "\n",
    "---\n",
    "\n",
    "### `OPTIMUM VALUE OF MAX_DEPTH` \n",
    "---\n",
    "\n",
    "Now, we will keep the value of `n_estimators` fixed as `175` and try different values of max_depth from 1, 2, ...29.\n",
    "\n",
    "---"
   ]
  },
  {
   "cell_type": "code",
   "execution_count": 18,
   "metadata": {},
   "outputs": [
    {
     "data": {
      "application/vnd.jupyter.widget-view+json": {
       "model_id": "532cc1cffcbe4878883f37b8740a017d",
       "version_major": 2,
       "version_minor": 0
      },
      "text/plain": [
       "max_depth:   0%|          | 0/29 [00:00<?, ?it/s]"
      ]
     },
     "metadata": {},
     "output_type": "display_data"
    },
    {
     "data": {
      "application/vnd.jupyter.widget-view+json": {
       "model_id": "",
       "version_major": 2,
       "version_minor": 0
      },
      "text/plain": [
       "training_model:   0%|          | 0/14 [00:00<?, ?it/s]"
      ]
     },
     "metadata": {},
     "output_type": "display_data"
    },
    {
     "data": {
      "application/vnd.jupyter.widget-view+json": {
       "model_id": "",
       "version_major": 2,
       "version_minor": 0
      },
      "text/plain": [
       "training_model:   0%|          | 0/14 [00:00<?, ?it/s]"
      ]
     },
     "metadata": {},
     "output_type": "display_data"
    },
    {
     "data": {
      "application/vnd.jupyter.widget-view+json": {
       "model_id": "",
       "version_major": 2,
       "version_minor": 0
      },
      "text/plain": [
       "training_model:   0%|          | 0/14 [00:00<?, ?it/s]"
      ]
     },
     "metadata": {},
     "output_type": "display_data"
    },
    {
     "data": {
      "application/vnd.jupyter.widget-view+json": {
       "model_id": "",
       "version_major": 2,
       "version_minor": 0
      },
      "text/plain": [
       "training_model:   0%|          | 0/14 [00:00<?, ?it/s]"
      ]
     },
     "metadata": {},
     "output_type": "display_data"
    },
    {
     "data": {
      "application/vnd.jupyter.widget-view+json": {
       "model_id": "",
       "version_major": 2,
       "version_minor": 0
      },
      "text/plain": [
       "training_model:   0%|          | 0/14 [00:00<?, ?it/s]"
      ]
     },
     "metadata": {},
     "output_type": "display_data"
    },
    {
     "data": {
      "application/vnd.jupyter.widget-view+json": {
       "model_id": "",
       "version_major": 2,
       "version_minor": 0
      },
      "text/plain": [
       "training_model:   0%|          | 0/14 [00:00<?, ?it/s]"
      ]
     },
     "metadata": {},
     "output_type": "display_data"
    },
    {
     "data": {
      "application/vnd.jupyter.widget-view+json": {
       "model_id": "",
       "version_major": 2,
       "version_minor": 0
      },
      "text/plain": [
       "training_model:   0%|          | 0/14 [00:00<?, ?it/s]"
      ]
     },
     "metadata": {},
     "output_type": "display_data"
    },
    {
     "data": {
      "application/vnd.jupyter.widget-view+json": {
       "model_id": "",
       "version_major": 2,
       "version_minor": 0
      },
      "text/plain": [
       "training_model:   0%|          | 0/14 [00:00<?, ?it/s]"
      ]
     },
     "metadata": {},
     "output_type": "display_data"
    },
    {
     "data": {
      "application/vnd.jupyter.widget-view+json": {
       "model_id": "",
       "version_major": 2,
       "version_minor": 0
      },
      "text/plain": [
       "training_model:   0%|          | 0/14 [00:00<?, ?it/s]"
      ]
     },
     "metadata": {},
     "output_type": "display_data"
    },
    {
     "data": {
      "application/vnd.jupyter.widget-view+json": {
       "model_id": "",
       "version_major": 2,
       "version_minor": 0
      },
      "text/plain": [
       "training_model:   0%|          | 0/14 [00:00<?, ?it/s]"
      ]
     },
     "metadata": {},
     "output_type": "display_data"
    },
    {
     "data": {
      "application/vnd.jupyter.widget-view+json": {
       "model_id": "",
       "version_major": 2,
       "version_minor": 0
      },
      "text/plain": [
       "training_model:   0%|          | 0/14 [00:00<?, ?it/s]"
      ]
     },
     "metadata": {},
     "output_type": "display_data"
    },
    {
     "data": {
      "application/vnd.jupyter.widget-view+json": {
       "model_id": "",
       "version_major": 2,
       "version_minor": 0
      },
      "text/plain": [
       "training_model:   0%|          | 0/14 [00:00<?, ?it/s]"
      ]
     },
     "metadata": {},
     "output_type": "display_data"
    },
    {
     "data": {
      "application/vnd.jupyter.widget-view+json": {
       "model_id": "",
       "version_major": 2,
       "version_minor": 0
      },
      "text/plain": [
       "training_model:   0%|          | 0/14 [00:00<?, ?it/s]"
      ]
     },
     "metadata": {},
     "output_type": "display_data"
    },
    {
     "data": {
      "application/vnd.jupyter.widget-view+json": {
       "model_id": "",
       "version_major": 2,
       "version_minor": 0
      },
      "text/plain": [
       "training_model:   0%|          | 0/14 [00:00<?, ?it/s]"
      ]
     },
     "metadata": {},
     "output_type": "display_data"
    },
    {
     "data": {
      "application/vnd.jupyter.widget-view+json": {
       "model_id": "",
       "version_major": 2,
       "version_minor": 0
      },
      "text/plain": [
       "training_model:   0%|          | 0/14 [00:00<?, ?it/s]"
      ]
     },
     "metadata": {},
     "output_type": "display_data"
    },
    {
     "data": {
      "application/vnd.jupyter.widget-view+json": {
       "model_id": "",
       "version_major": 2,
       "version_minor": 0
      },
      "text/plain": [
       "training_model:   0%|          | 0/14 [00:00<?, ?it/s]"
      ]
     },
     "metadata": {},
     "output_type": "display_data"
    },
    {
     "data": {
      "application/vnd.jupyter.widget-view+json": {
       "model_id": "",
       "version_major": 2,
       "version_minor": 0
      },
      "text/plain": [
       "training_model:   0%|          | 0/14 [00:00<?, ?it/s]"
      ]
     },
     "metadata": {},
     "output_type": "display_data"
    },
    {
     "data": {
      "application/vnd.jupyter.widget-view+json": {
       "model_id": "",
       "version_major": 2,
       "version_minor": 0
      },
      "text/plain": [
       "training_model:   0%|          | 0/14 [00:00<?, ?it/s]"
      ]
     },
     "metadata": {},
     "output_type": "display_data"
    },
    {
     "data": {
      "application/vnd.jupyter.widget-view+json": {
       "model_id": "",
       "version_major": 2,
       "version_minor": 0
      },
      "text/plain": [
       "training_model:   0%|          | 0/14 [00:00<?, ?it/s]"
      ]
     },
     "metadata": {},
     "output_type": "display_data"
    },
    {
     "data": {
      "application/vnd.jupyter.widget-view+json": {
       "model_id": "",
       "version_major": 2,
       "version_minor": 0
      },
      "text/plain": [
       "training_model:   0%|          | 0/14 [00:00<?, ?it/s]"
      ]
     },
     "metadata": {},
     "output_type": "display_data"
    },
    {
     "data": {
      "application/vnd.jupyter.widget-view+json": {
       "model_id": "",
       "version_major": 2,
       "version_minor": 0
      },
      "text/plain": [
       "training_model:   0%|          | 0/14 [00:00<?, ?it/s]"
      ]
     },
     "metadata": {},
     "output_type": "display_data"
    },
    {
     "data": {
      "application/vnd.jupyter.widget-view+json": {
       "model_id": "",
       "version_major": 2,
       "version_minor": 0
      },
      "text/plain": [
       "training_model:   0%|          | 0/14 [00:00<?, ?it/s]"
      ]
     },
     "metadata": {},
     "output_type": "display_data"
    },
    {
     "data": {
      "application/vnd.jupyter.widget-view+json": {
       "model_id": "",
       "version_major": 2,
       "version_minor": 0
      },
      "text/plain": [
       "training_model:   0%|          | 0/14 [00:00<?, ?it/s]"
      ]
     },
     "metadata": {},
     "output_type": "display_data"
    },
    {
     "data": {
      "application/vnd.jupyter.widget-view+json": {
       "model_id": "",
       "version_major": 2,
       "version_minor": 0
      },
      "text/plain": [
       "training_model:   0%|          | 0/14 [00:00<?, ?it/s]"
      ]
     },
     "metadata": {},
     "output_type": "display_data"
    },
    {
     "data": {
      "application/vnd.jupyter.widget-view+json": {
       "model_id": "",
       "version_major": 2,
       "version_minor": 0
      },
      "text/plain": [
       "training_model:   0%|          | 0/14 [00:00<?, ?it/s]"
      ]
     },
     "metadata": {},
     "output_type": "display_data"
    },
    {
     "data": {
      "application/vnd.jupyter.widget-view+json": {
       "model_id": "",
       "version_major": 2,
       "version_minor": 0
      },
      "text/plain": [
       "training_model:   0%|          | 0/14 [00:00<?, ?it/s]"
      ]
     },
     "metadata": {},
     "output_type": "display_data"
    },
    {
     "data": {
      "application/vnd.jupyter.widget-view+json": {
       "model_id": "",
       "version_major": 2,
       "version_minor": 0
      },
      "text/plain": [
       "training_model:   0%|          | 0/14 [00:00<?, ?it/s]"
      ]
     },
     "metadata": {},
     "output_type": "display_data"
    },
    {
     "data": {
      "application/vnd.jupyter.widget-view+json": {
       "model_id": "",
       "version_major": 2,
       "version_minor": 0
      },
      "text/plain": [
       "training_model:   0%|          | 0/14 [00:00<?, ?it/s]"
      ]
     },
     "metadata": {},
     "output_type": "display_data"
    },
    {
     "data": {
      "application/vnd.jupyter.widget-view+json": {
       "model_id": "",
       "version_major": 2,
       "version_minor": 0
      },
      "text/plain": [
       "training_model:   0%|          | 0/14 [00:00<?, ?it/s]"
      ]
     },
     "metadata": {},
     "output_type": "display_data"
    },
    {
     "name": "stdout",
     "output_type": "stream",
     "text": [
      "\n",
      "####### The model is trained on Following Columns: ###########\n",
      "\n",
      "Index(['BASE_PRICE', 'FEATURE', 'DISPLAY', 'MANUFACTURER_1', 'MANUFACTURER_2',\n",
      "       'MANUFACTURER_3', 'MANUFACTURER_4', 'MANUFACTURER_5', 'MANUFACTURER_6',\n",
      "       'MANUFACTURER_7', 'MANUFACTURER_8', 'MANUFACTURER_9', 'CATEGORY_1',\n",
      "       'CATEGORY_2', 'CATEGORY_3', 'CATEGORY_4', 'SUB_CATEGORY_1',\n",
      "       'SUB_CATEGORY_2', 'SUB_CATEGORY_3', 'SUB_CATEGORY_4', 'SUB_CATEGORY_5',\n",
      "       'SUB_CATEGORY_6', 'SUB_CATEGORY_7', 'PRODUCT_SIZE', 'STORE_ID',\n",
      "       'ADDRESS_STATE_PROV_CODE_1', 'ADDRESS_STATE_PROV_CODE_2',\n",
      "       'ADDRESS_STATE_PROV_CODE_3', 'ADDRESS_STATE_PROV_CODE_4', 'MSA_CODE_1',\n",
      "       'MSA_CODE_2', 'MSA_CODE_3', 'MSA_CODE_4', 'MSA_CODE_5', 'MSA_CODE_6',\n",
      "       'MSA_CODE_7', 'MSA_CODE_8', 'MSA_CODE_9', 'SEG_VALUE_NAME',\n",
      "       'SALES_AREA_SIZE_NUM', 'AVG_WEEKLY_BASKETS'],\n",
      "      dtype='object')\n",
      "===============================================================\n"
     ]
    }
   ],
   "source": [
    "depth_results = []\n",
    "data = merged_data.drop(columns=['STORE_NUM', 'UPC'])\n",
    "\n",
    "\n",
    "valid_df = validation_df(merged_data, week, no_of_months=2, no_of_validation= 14)\n",
    "for depth in tqdm_notebook(range(1,30,1), leave=True, desc= 'max_depth'):    \n",
    "    result = {}\n",
    "\n",
    "    model_RFR = RandomForestRegressor(max_depth=depth,n_estimators=175)\n",
    "\n",
    "    rmsle_train, rmsle_valid , data_train = train_model(valid_df, data, model_RFR)\n",
    "    result['depth'] = depth\n",
    "    result['rmsle_train'] = rmsle_train\n",
    "    result['rmsle_valid'] = rmsle_valid\n",
    "    depth_results.append(result)\n",
    "    \n",
    "get_colums(data_train)"
   ]
  },
  {
   "cell_type": "code",
   "execution_count": 19,
   "metadata": {},
   "outputs": [],
   "source": [
    "x = pd.DataFrame.from_dict(depth_results)"
   ]
  },
  {
   "cell_type": "code",
   "execution_count": 20,
   "metadata": {},
   "outputs": [
    {
     "data": {
      "text/html": [
       "<div>\n",
       "<style scoped>\n",
       "    .dataframe tbody tr th:only-of-type {\n",
       "        vertical-align: middle;\n",
       "    }\n",
       "\n",
       "    .dataframe tbody tr th {\n",
       "        vertical-align: top;\n",
       "    }\n",
       "\n",
       "    .dataframe thead th {\n",
       "        text-align: right;\n",
       "    }\n",
       "</style>\n",
       "<table border=\"1\" class=\"dataframe\">\n",
       "  <thead>\n",
       "    <tr style=\"text-align: right;\">\n",
       "      <th></th>\n",
       "      <th>depth</th>\n",
       "      <th>rmsle_train</th>\n",
       "      <th>rmsle_valid</th>\n",
       "    </tr>\n",
       "  </thead>\n",
       "  <tbody>\n",
       "    <tr>\n",
       "      <th>0</th>\n",
       "      <td>1</td>\n",
       "      <td>0.934233</td>\n",
       "      <td>0.936862</td>\n",
       "    </tr>\n",
       "    <tr>\n",
       "      <th>1</th>\n",
       "      <td>2</td>\n",
       "      <td>0.825296</td>\n",
       "      <td>0.834370</td>\n",
       "    </tr>\n",
       "    <tr>\n",
       "      <th>2</th>\n",
       "      <td>3</td>\n",
       "      <td>0.738849</td>\n",
       "      <td>0.756516</td>\n",
       "    </tr>\n",
       "    <tr>\n",
       "      <th>3</th>\n",
       "      <td>4</td>\n",
       "      <td>0.674261</td>\n",
       "      <td>0.699236</td>\n",
       "    </tr>\n",
       "    <tr>\n",
       "      <th>4</th>\n",
       "      <td>5</td>\n",
       "      <td>0.632165</td>\n",
       "      <td>0.666141</td>\n",
       "    </tr>\n",
       "    <tr>\n",
       "      <th>5</th>\n",
       "      <td>6</td>\n",
       "      <td>0.584692</td>\n",
       "      <td>0.632031</td>\n",
       "    </tr>\n",
       "    <tr>\n",
       "      <th>6</th>\n",
       "      <td>7</td>\n",
       "      <td>0.542854</td>\n",
       "      <td>0.601206</td>\n",
       "    </tr>\n",
       "    <tr>\n",
       "      <th>7</th>\n",
       "      <td>8</td>\n",
       "      <td>0.508399</td>\n",
       "      <td>0.577874</td>\n",
       "    </tr>\n",
       "    <tr>\n",
       "      <th>8</th>\n",
       "      <td>9</td>\n",
       "      <td>0.476588</td>\n",
       "      <td>0.556432</td>\n",
       "    </tr>\n",
       "    <tr>\n",
       "      <th>9</th>\n",
       "      <td>10</td>\n",
       "      <td>0.447901</td>\n",
       "      <td>0.540348</td>\n",
       "    </tr>\n",
       "    <tr>\n",
       "      <th>10</th>\n",
       "      <td>11</td>\n",
       "      <td>0.423396</td>\n",
       "      <td>0.528323</td>\n",
       "    </tr>\n",
       "    <tr>\n",
       "      <th>11</th>\n",
       "      <td>12</td>\n",
       "      <td>0.402304</td>\n",
       "      <td>0.519841</td>\n",
       "    </tr>\n",
       "    <tr>\n",
       "      <th>12</th>\n",
       "      <td>13</td>\n",
       "      <td>0.384720</td>\n",
       "      <td>0.513773</td>\n",
       "    </tr>\n",
       "    <tr>\n",
       "      <th>13</th>\n",
       "      <td>14</td>\n",
       "      <td>0.370428</td>\n",
       "      <td>0.509373</td>\n",
       "    </tr>\n",
       "    <tr>\n",
       "      <th>14</th>\n",
       "      <td>15</td>\n",
       "      <td>0.359873</td>\n",
       "      <td>0.508934</td>\n",
       "    </tr>\n",
       "    <tr>\n",
       "      <th>15</th>\n",
       "      <td>16</td>\n",
       "      <td>0.352080</td>\n",
       "      <td>0.508582</td>\n",
       "    </tr>\n",
       "    <tr>\n",
       "      <th>16</th>\n",
       "      <td>17</td>\n",
       "      <td>0.346524</td>\n",
       "      <td>0.507881</td>\n",
       "    </tr>\n",
       "    <tr>\n",
       "      <th>17</th>\n",
       "      <td>18</td>\n",
       "      <td>0.342673</td>\n",
       "      <td>0.508604</td>\n",
       "    </tr>\n",
       "    <tr>\n",
       "      <th>18</th>\n",
       "      <td>19</td>\n",
       "      <td>0.340065</td>\n",
       "      <td>0.508856</td>\n",
       "    </tr>\n",
       "    <tr>\n",
       "      <th>19</th>\n",
       "      <td>20</td>\n",
       "      <td>0.338327</td>\n",
       "      <td>0.508914</td>\n",
       "    </tr>\n",
       "    <tr>\n",
       "      <th>20</th>\n",
       "      <td>21</td>\n",
       "      <td>0.337191</td>\n",
       "      <td>0.509916</td>\n",
       "    </tr>\n",
       "    <tr>\n",
       "      <th>21</th>\n",
       "      <td>22</td>\n",
       "      <td>0.336524</td>\n",
       "      <td>0.510588</td>\n",
       "    </tr>\n",
       "    <tr>\n",
       "      <th>22</th>\n",
       "      <td>23</td>\n",
       "      <td>0.336143</td>\n",
       "      <td>0.510050</td>\n",
       "    </tr>\n",
       "    <tr>\n",
       "      <th>23</th>\n",
       "      <td>24</td>\n",
       "      <td>0.335790</td>\n",
       "      <td>0.509643</td>\n",
       "    </tr>\n",
       "    <tr>\n",
       "      <th>24</th>\n",
       "      <td>25</td>\n",
       "      <td>0.335794</td>\n",
       "      <td>0.510241</td>\n",
       "    </tr>\n",
       "    <tr>\n",
       "      <th>25</th>\n",
       "      <td>26</td>\n",
       "      <td>0.335659</td>\n",
       "      <td>0.509855</td>\n",
       "    </tr>\n",
       "    <tr>\n",
       "      <th>26</th>\n",
       "      <td>27</td>\n",
       "      <td>0.335628</td>\n",
       "      <td>0.509707</td>\n",
       "    </tr>\n",
       "    <tr>\n",
       "      <th>27</th>\n",
       "      <td>28</td>\n",
       "      <td>0.335662</td>\n",
       "      <td>0.509421</td>\n",
       "    </tr>\n",
       "    <tr>\n",
       "      <th>28</th>\n",
       "      <td>29</td>\n",
       "      <td>0.335499</td>\n",
       "      <td>0.509514</td>\n",
       "    </tr>\n",
       "  </tbody>\n",
       "</table>\n",
       "</div>"
      ],
      "text/plain": [
       "    depth  rmsle_train  rmsle_valid\n",
       "0       1     0.934233     0.936862\n",
       "1       2     0.825296     0.834370\n",
       "2       3     0.738849     0.756516\n",
       "3       4     0.674261     0.699236\n",
       "4       5     0.632165     0.666141\n",
       "5       6     0.584692     0.632031\n",
       "6       7     0.542854     0.601206\n",
       "7       8     0.508399     0.577874\n",
       "8       9     0.476588     0.556432\n",
       "9      10     0.447901     0.540348\n",
       "10     11     0.423396     0.528323\n",
       "11     12     0.402304     0.519841\n",
       "12     13     0.384720     0.513773\n",
       "13     14     0.370428     0.509373\n",
       "14     15     0.359873     0.508934\n",
       "15     16     0.352080     0.508582\n",
       "16     17     0.346524     0.507881\n",
       "17     18     0.342673     0.508604\n",
       "18     19     0.340065     0.508856\n",
       "19     20     0.338327     0.508914\n",
       "20     21     0.337191     0.509916\n",
       "21     22     0.336524     0.510588\n",
       "22     23     0.336143     0.510050\n",
       "23     24     0.335790     0.509643\n",
       "24     25     0.335794     0.510241\n",
       "25     26     0.335659     0.509855\n",
       "26     27     0.335628     0.509707\n",
       "27     28     0.335662     0.509421\n",
       "28     29     0.335499     0.509514"
      ]
     },
     "execution_count": 20,
     "metadata": {},
     "output_type": "execute_result"
    }
   ],
   "source": [
    "x"
   ]
  },
  {
   "cell_type": "code",
   "execution_count": 21,
   "metadata": {},
   "outputs": [
    {
     "data": {
      "image/png": "[encoded data removed]",
      "text/plain": [
       "<Figure size 1700x700 with 1 Axes>"
      ]
     },
     "metadata": {},
     "output_type": "display_data"
    }
   ],
   "source": [
    "\n",
    "plt.figure(figsize=(17,7))\n",
    "plt.plot(x['depth'], x['rmsle_train'], marker='o',label='train');\n",
    "plt.plot(x['depth'], x['rmsle_valid'], marker='o',label='validation');\n",
    "plt.title('Model: Random Forest Regressor')\n",
    "plt.ylabel('RMSLE')\n",
    "plt.xlabel('max_depth')\n",
    "plt.legend();"
   ]
  },
  {
   "cell_type": "markdown",
   "metadata": {},
   "source": [
    "### `MAX_DEPTH = 10`\n",
    "\n",
    "The RMSLE gets stable on both validation and train set after max_depth 10 and the RMSLE is still around 0.67"
   ]
  },
  {
   "cell_type": "markdown",
   "metadata": {},
   "source": [
    "---\n",
    "---\n",
    "\n",
    "### `ADD TIME BASED FEATURES`\n",
    "\n",
    "- Now, we will add some Time based features to the data like year of the transaction, month, day, day_of_year, week, quarter.\n",
    "\n",
    "- And we will once again check the performace of the model for different max_depth 1 to 29 and will decide whether we have selected the right value of max_depth or not. \n",
    "\n",
    "\n",
    "\n",
    "---"
   ]
  },
  {
   "cell_type": "code",
   "execution_count": 22,
   "metadata": {},
   "outputs": [],
   "source": [
    "# year\n",
    "merged_data['year']  = merged_data['WEEK_END_DATE'].dt.year\n",
    "# month\n",
    "merged_data['month'] = merged_data['WEEK_END_DATE'].dt.month\n",
    "# day\n",
    "merged_data['day'] = merged_data['WEEK_END_DATE'].dt.day\n",
    "# day_of year\n",
    "merged_data['day_of_year'] = merged_data['WEEK_END_DATE'].dt.dayofyear\n",
    "# week \n",
    "merged_data[\"week\"] = merged_data['WEEK_END_DATE'].dt.week\n",
    "# quarter\n",
    "merged_data[\"quarter\"] = merged_data['WEEK_END_DATE'].dt.quarter"
   ]
  },
  {
   "cell_type": "code",
   "execution_count": 23,
   "metadata": {},
   "outputs": [
    {
     "data": {
      "application/vnd.jupyter.widget-view+json": {
       "model_id": "7fb8c242a467409086013bde03177ac6",
       "version_major": 2,
       "version_minor": 0
      },
      "text/plain": [
       "max_depth:   0%|          | 0/15 [00:00<?, ?it/s]"
      ]
     },
     "metadata": {},
     "output_type": "display_data"
    },
    {
     "data": {
      "application/vnd.jupyter.widget-view+json": {
       "model_id": "",
       "version_major": 2,
       "version_minor": 0
      },
      "text/plain": [
       "training_model:   0%|          | 0/14 [00:00<?, ?it/s]"
      ]
     },
     "metadata": {},
     "output_type": "display_data"
    },
    {
     "data": {
      "application/vnd.jupyter.widget-view+json": {
       "model_id": "",
       "version_major": 2,
       "version_minor": 0
      },
      "text/plain": [
       "training_model:   0%|          | 0/14 [00:00<?, ?it/s]"
      ]
     },
     "metadata": {},
     "output_type": "display_data"
    },
    {
     "data": {
      "application/vnd.jupyter.widget-view+json": {
       "model_id": "",
       "version_major": 2,
       "version_minor": 0
      },
      "text/plain": [
       "training_model:   0%|          | 0/14 [00:00<?, ?it/s]"
      ]
     },
     "metadata": {},
     "output_type": "display_data"
    },
    {
     "data": {
      "application/vnd.jupyter.widget-view+json": {
       "model_id": "",
       "version_major": 2,
       "version_minor": 0
      },
      "text/plain": [
       "training_model:   0%|          | 0/14 [00:00<?, ?it/s]"
      ]
     },
     "metadata": {},
     "output_type": "display_data"
    },
    {
     "data": {
      "application/vnd.jupyter.widget-view+json": {
       "model_id": "",
       "version_major": 2,
       "version_minor": 0
      },
      "text/plain": [
       "training_model:   0%|          | 0/14 [00:00<?, ?it/s]"
      ]
     },
     "metadata": {},
     "output_type": "display_data"
    },
    {
     "data": {
      "application/vnd.jupyter.widget-view+json": {
       "model_id": "",
       "version_major": 2,
       "version_minor": 0
      },
      "text/plain": [
       "training_model:   0%|          | 0/14 [00:00<?, ?it/s]"
      ]
     },
     "metadata": {},
     "output_type": "display_data"
    },
    {
     "data": {
      "application/vnd.jupyter.widget-view+json": {
       "model_id": "",
       "version_major": 2,
       "version_minor": 0
      },
      "text/plain": [
       "training_model:   0%|          | 0/14 [00:00<?, ?it/s]"
      ]
     },
     "metadata": {},
     "output_type": "display_data"
    },
    {
     "data": {
      "application/vnd.jupyter.widget-view+json": {
       "model_id": "",
       "version_major": 2,
       "version_minor": 0
      },
      "text/plain": [
       "training_model:   0%|          | 0/14 [00:00<?, ?it/s]"
      ]
     },
     "metadata": {},
     "output_type": "display_data"
    },
    {
     "data": {
      "application/vnd.jupyter.widget-view+json": {
       "model_id": "",
       "version_major": 2,
       "version_minor": 0
      },
      "text/plain": [
       "training_model:   0%|          | 0/14 [00:00<?, ?it/s]"
      ]
     },
     "metadata": {},
     "output_type": "display_data"
    },
    {
     "data": {
      "application/vnd.jupyter.widget-view+json": {
       "model_id": "",
       "version_major": 2,
       "version_minor": 0
      },
      "text/plain": [
       "training_model:   0%|          | 0/14 [00:00<?, ?it/s]"
      ]
     },
     "metadata": {},
     "output_type": "display_data"
    },
    {
     "data": {
      "application/vnd.jupyter.widget-view+json": {
       "model_id": "",
       "version_major": 2,
       "version_minor": 0
      },
      "text/plain": [
       "training_model:   0%|          | 0/14 [00:00<?, ?it/s]"
      ]
     },
     "metadata": {},
     "output_type": "display_data"
    },
    {
     "data": {
      "application/vnd.jupyter.widget-view+json": {
       "model_id": "",
       "version_major": 2,
       "version_minor": 0
      },
      "text/plain": [
       "training_model:   0%|          | 0/14 [00:00<?, ?it/s]"
      ]
     },
     "metadata": {},
     "output_type": "display_data"
    },
    {
     "data": {
      "application/vnd.jupyter.widget-view+json": {
       "model_id": "",
       "version_major": 2,
       "version_minor": 0
      },
      "text/plain": [
       "training_model:   0%|          | 0/14 [00:00<?, ?it/s]"
      ]
     },
     "metadata": {},
     "output_type": "display_data"
    },
    {
     "data": {
      "application/vnd.jupyter.widget-view+json": {
       "model_id": "",
       "version_major": 2,
       "version_minor": 0
      },
      "text/plain": [
       "training_model:   0%|          | 0/14 [00:00<?, ?it/s]"
      ]
     },
     "metadata": {},
     "output_type": "display_data"
    },
    {
     "data": {
      "application/vnd.jupyter.widget-view+json": {
       "model_id": "",
       "version_major": 2,
       "version_minor": 0
      },
      "text/plain": [
       "training_model:   0%|          | 0/14 [00:00<?, ?it/s]"
      ]
     },
     "metadata": {},
     "output_type": "display_data"
    },
    {
     "name": "stdout",
     "output_type": "stream",
     "text": [
      "\n",
      "####### The model is trained on Following Columns: ###########\n",
      "\n",
      "Index(['BASE_PRICE', 'FEATURE', 'DISPLAY', 'MANUFACTURER_1', 'MANUFACTURER_2',\n",
      "       'MANUFACTURER_3', 'MANUFACTURER_4', 'MANUFACTURER_5', 'MANUFACTURER_6',\n",
      "       'MANUFACTURER_7', 'MANUFACTURER_8', 'MANUFACTURER_9', 'CATEGORY_1',\n",
      "       'CATEGORY_2', 'CATEGORY_3', 'CATEGORY_4', 'SUB_CATEGORY_1',\n",
      "       'SUB_CATEGORY_2', 'SUB_CATEGORY_3', 'SUB_CATEGORY_4', 'SUB_CATEGORY_5',\n",
      "       'SUB_CATEGORY_6', 'SUB_CATEGORY_7', 'PRODUCT_SIZE', 'STORE_ID',\n",
      "       'ADDRESS_STATE_PROV_CODE_1', 'ADDRESS_STATE_PROV_CODE_2',\n",
      "       'ADDRESS_STATE_PROV_CODE_3', 'ADDRESS_STATE_PROV_CODE_4', 'MSA_CODE_1',\n",
      "       'MSA_CODE_2', 'MSA_CODE_3', 'MSA_CODE_4', 'MSA_CODE_5', 'MSA_CODE_6',\n",
      "       'MSA_CODE_7', 'MSA_CODE_8', 'MSA_CODE_9', 'SEG_VALUE_NAME',\n",
      "       'SALES_AREA_SIZE_NUM', 'AVG_WEEKLY_BASKETS', 'year', 'month', 'day',\n",
      "       'day_of_year', 'week', 'quarter'],\n",
      "      dtype='object')\n",
      "===============================================================\n"
     ]
    }
   ],
   "source": [
    "depth_results = []\n",
    "data = merged_data.drop(columns=['STORE_NUM', 'UPC'])\n",
    "\n",
    "valid_df = validation_df(merged_data, week, no_of_months=2, no_of_validation= 14)\n",
    "for depth in tqdm_notebook(range(1,16,1), desc='max_depth', leave=True):    \n",
    "    result = {}\n",
    "\n",
    "    model_RFR = RandomForestRegressor(max_depth= depth, n_estimators= 175)\n",
    "\n",
    "    rmsle_train, rmsle_valid, data_train = train_model(valid_df, data, model_RFR)\n",
    "    result['depth'] = depth\n",
    "    result['rmsle_train'] = rmsle_train\n",
    "    result['rmsle_valid'] = rmsle_valid\n",
    "    depth_results.append(result)\n",
    "    \n",
    "get_colums(data_train)"
   ]
  },
  {
   "cell_type": "code",
   "execution_count": 24,
   "metadata": {},
   "outputs": [
    {
     "data": {
      "text/html": [
       "<div>\n",
       "<style scoped>\n",
       "    .dataframe tbody tr th:only-of-type {\n",
       "        vertical-align: middle;\n",
       "    }\n",
       "\n",
       "    .dataframe tbody tr th {\n",
       "        vertical-align: top;\n",
       "    }\n",
       "\n",
       "    .dataframe thead th {\n",
       "        text-align: right;\n",
       "    }\n",
       "</style>\n",
       "<table border=\"1\" class=\"dataframe\">\n",
       "  <thead>\n",
       "    <tr style=\"text-align: right;\">\n",
       "      <th></th>\n",
       "      <th>depth</th>\n",
       "      <th>rmsle_train</th>\n",
       "      <th>rmsle_valid</th>\n",
       "    </tr>\n",
       "  </thead>\n",
       "  <tbody>\n",
       "    <tr>\n",
       "      <th>0</th>\n",
       "      <td>1</td>\n",
       "      <td>0.934365</td>\n",
       "      <td>0.936828</td>\n",
       "    </tr>\n",
       "    <tr>\n",
       "      <th>1</th>\n",
       "      <td>2</td>\n",
       "      <td>0.825114</td>\n",
       "      <td>0.833719</td>\n",
       "    </tr>\n",
       "    <tr>\n",
       "      <th>2</th>\n",
       "      <td>3</td>\n",
       "      <td>0.739253</td>\n",
       "      <td>0.757410</td>\n",
       "    </tr>\n",
       "    <tr>\n",
       "      <th>3</th>\n",
       "      <td>4</td>\n",
       "      <td>0.674336</td>\n",
       "      <td>0.701343</td>\n",
       "    </tr>\n",
       "    <tr>\n",
       "      <th>4</th>\n",
       "      <td>5</td>\n",
       "      <td>0.631040</td>\n",
       "      <td>0.668683</td>\n",
       "    </tr>\n",
       "    <tr>\n",
       "      <th>5</th>\n",
       "      <td>6</td>\n",
       "      <td>0.583969</td>\n",
       "      <td>0.634825</td>\n",
       "    </tr>\n",
       "    <tr>\n",
       "      <th>6</th>\n",
       "      <td>7</td>\n",
       "      <td>0.541078</td>\n",
       "      <td>0.606114</td>\n",
       "    </tr>\n",
       "    <tr>\n",
       "      <th>7</th>\n",
       "      <td>8</td>\n",
       "      <td>0.505459</td>\n",
       "      <td>0.585281</td>\n",
       "    </tr>\n",
       "    <tr>\n",
       "      <th>8</th>\n",
       "      <td>9</td>\n",
       "      <td>0.470551</td>\n",
       "      <td>0.567029</td>\n",
       "    </tr>\n",
       "    <tr>\n",
       "      <th>9</th>\n",
       "      <td>10</td>\n",
       "      <td>0.437456</td>\n",
       "      <td>0.552341</td>\n",
       "    </tr>\n",
       "    <tr>\n",
       "      <th>10</th>\n",
       "      <td>11</td>\n",
       "      <td>0.406869</td>\n",
       "      <td>0.541340</td>\n",
       "    </tr>\n",
       "    <tr>\n",
       "      <th>11</th>\n",
       "      <td>12</td>\n",
       "      <td>0.378000</td>\n",
       "      <td>0.533989</td>\n",
       "    </tr>\n",
       "    <tr>\n",
       "      <th>12</th>\n",
       "      <td>13</td>\n",
       "      <td>0.351182</td>\n",
       "      <td>0.528441</td>\n",
       "    </tr>\n",
       "    <tr>\n",
       "      <th>13</th>\n",
       "      <td>14</td>\n",
       "      <td>0.326708</td>\n",
       "      <td>0.525117</td>\n",
       "    </tr>\n",
       "    <tr>\n",
       "      <th>14</th>\n",
       "      <td>15</td>\n",
       "      <td>0.305646</td>\n",
       "      <td>0.522604</td>\n",
       "    </tr>\n",
       "  </tbody>\n",
       "</table>\n",
       "</div>"
      ],
      "text/plain": [
       "    depth  rmsle_train  rmsle_valid\n",
       "0       1     0.934365     0.936828\n",
       "1       2     0.825114     0.833719\n",
       "2       3     0.739253     0.757410\n",
       "3       4     0.674336     0.701343\n",
       "4       5     0.631040     0.668683\n",
       "5       6     0.583969     0.634825\n",
       "6       7     0.541078     0.606114\n",
       "7       8     0.505459     0.585281\n",
       "8       9     0.470551     0.567029\n",
       "9      10     0.437456     0.552341\n",
       "10     11     0.406869     0.541340\n",
       "11     12     0.378000     0.533989\n",
       "12     13     0.351182     0.528441\n",
       "13     14     0.326708     0.525117\n",
       "14     15     0.305646     0.522604"
      ]
     },
     "execution_count": 24,
     "metadata": {},
     "output_type": "execute_result"
    }
   ],
   "source": [
    "x = pd.DataFrame.from_dict(depth_results)\n",
    "x"
   ]
  },
  {
   "cell_type": "code",
   "execution_count": 25,
   "metadata": {},
   "outputs": [
    {
     "data": {
      "image/png": "[encoded data removed]",
      "text/plain": [
       "<Figure size 1700x700 with 1 Axes>"
      ]
     },
     "metadata": {},
     "output_type": "display_data"
    }
   ],
   "source": [
    "x = pd.DataFrame.from_dict(depth_results)\n",
    "plt.figure(figsize=(17,7))\n",
    "plt.plot(x['depth'], x['rmsle_train'], marker='o',label='train');\n",
    "plt.plot(x['depth'], x['rmsle_valid'], marker='o',label='validation');\n",
    "plt.title('Model: Random Forest Regressor')\n",
    "plt.ylabel('RMSLE')\n",
    "plt.xlabel('max_depth')\n",
    "plt.legend();"
   ]
  },
  {
   "cell_type": "markdown",
   "metadata": {},
   "source": [
    "---\n",
    "---\n",
    "\n",
    "***So, we can still see that the value of RMSLE on both train and validation set is getting stable after the max_depth 10. Now, we will keep on adding the new features to the data and check if it is improving the results or not.*** \n",
    "\n",
    "\n",
    "\n",
    "- `max_depth` : 10\n",
    "- `no_of_estimators` : 175\n"
   ]
  },
  {
   "cell_type": "markdown",
   "metadata": {},
   "source": [
    "---\n",
    "---\n",
    "\n",
    "## `NEW FEATURES`\n",
    "\n",
    "\n",
    "---\n",
    "\n",
    " - `FOR EACH STORE_ID WE WILL FIND`\n",
    " \n",
    "  - **UNIQUE NUMBER OF MANUFACTURERS**\n",
    "       - For, each of the stores we will find out the number of unique number of manufactures as a feature. We are assumuing that more number of manufactures will give more options to the customers and will impact the sales.\n",
    "       - We will have to use the original `train_data` and `product_data` to calculate this as we have encoded this feature during the pre-processing step.\n",
    "  - **UNIQUE NUMBER OF CATEGORY AND SUB_CATEGORIES THEY HAVE**    \n",
    "      - Similarly, we will find out the unique number of categories and sub categories that a particular store has.\n",
    "     \n",
    "     \n",
    "---"
   ]
  },
  {
   "cell_type": "code",
   "execution_count": 27,
   "metadata": {},
   "outputs": [],
   "source": [
    "# read the columns 'STORE_NUM' and 'UPC' from the train data\n",
    "original_train_data = pd.read_csv('Data/train.csv', usecols= ['STORE_NUM','UPC'])"
   ]
  },
  {
   "cell_type": "code",
   "execution_count": 28,
   "metadata": {},
   "outputs": [],
   "source": [
    "# read the original product_data\n",
    "original_product_data = pd.read_csv('Data/product_data.csv')"
   ]
  },
  {
   "cell_type": "code",
   "execution_count": 29,
   "metadata": {},
   "outputs": [
    {
     "data": {
      "text/html": [
       "<div>\n",
       "<style scoped>\n",
       "    .dataframe tbody tr th:only-of-type {\n",
       "        vertical-align: middle;\n",
       "    }\n",
       "\n",
       "    .dataframe tbody tr th {\n",
       "        vertical-align: top;\n",
       "    }\n",
       "\n",
       "    .dataframe thead th {\n",
       "        text-align: right;\n",
       "    }\n",
       "</style>\n",
       "<table border=\"1\" class=\"dataframe\">\n",
       "  <thead>\n",
       "    <tr style=\"text-align: right;\">\n",
       "      <th></th>\n",
       "      <th>UPC</th>\n",
       "      <th>DESCRIPTION</th>\n",
       "      <th>MANUFACTURER</th>\n",
       "      <th>CATEGORY</th>\n",
       "      <th>SUB_CATEGORY</th>\n",
       "      <th>PRODUCT_SIZE</th>\n",
       "    </tr>\n",
       "  </thead>\n",
       "  <tbody>\n",
       "    <tr>\n",
       "      <th>0</th>\n",
       "      <td>1111009477</td>\n",
       "      <td>PL MINI TWIST PRETZELS</td>\n",
       "      <td>PRIVATE LABEL</td>\n",
       "      <td>BAG SNACKS</td>\n",
       "      <td>PRETZELS</td>\n",
       "      <td>15 OZ</td>\n",
       "    </tr>\n",
       "    <tr>\n",
       "      <th>1</th>\n",
       "      <td>1111009497</td>\n",
       "      <td>PL PRETZEL STICKS</td>\n",
       "      <td>PRIVATE LABEL</td>\n",
       "      <td>BAG SNACKS</td>\n",
       "      <td>PRETZELS</td>\n",
       "      <td>15 OZ</td>\n",
       "    </tr>\n",
       "    <tr>\n",
       "      <th>2</th>\n",
       "      <td>1111009507</td>\n",
       "      <td>PL TWIST PRETZELS</td>\n",
       "      <td>PRIVATE LABEL</td>\n",
       "      <td>BAG SNACKS</td>\n",
       "      <td>PRETZELS</td>\n",
       "      <td>15 OZ</td>\n",
       "    </tr>\n",
       "    <tr>\n",
       "      <th>3</th>\n",
       "      <td>1111038078</td>\n",
       "      <td>PL BL MINT ANTSPTC RINSE</td>\n",
       "      <td>PRIVATE LABEL</td>\n",
       "      <td>ORAL HYGIENE PRODUCTS</td>\n",
       "      <td>MOUTHWASHES (ANTISEPTIC)</td>\n",
       "      <td>500 ML</td>\n",
       "    </tr>\n",
       "    <tr>\n",
       "      <th>4</th>\n",
       "      <td>1111038080</td>\n",
       "      <td>PL ANTSPTC SPG MNT MTHWS</td>\n",
       "      <td>PRIVATE LABEL</td>\n",
       "      <td>ORAL HYGIENE PRODUCTS</td>\n",
       "      <td>MOUTHWASHES (ANTISEPTIC)</td>\n",
       "      <td>500 ML</td>\n",
       "    </tr>\n",
       "  </tbody>\n",
       "</table>\n",
       "</div>"
      ],
      "text/plain": [
       "          UPC               DESCRIPTION   MANUFACTURER               CATEGORY  \\\n",
       "0  1111009477    PL MINI TWIST PRETZELS  PRIVATE LABEL             BAG SNACKS   \n",
       "1  1111009497         PL PRETZEL STICKS  PRIVATE LABEL             BAG SNACKS   \n",
       "2  1111009507         PL TWIST PRETZELS  PRIVATE LABEL             BAG SNACKS   \n",
       "3  1111038078  PL BL MINT ANTSPTC RINSE  PRIVATE LABEL  ORAL HYGIENE PRODUCTS   \n",
       "4  1111038080  PL ANTSPTC SPG MNT MTHWS  PRIVATE LABEL  ORAL HYGIENE PRODUCTS   \n",
       "\n",
       "               SUB_CATEGORY PRODUCT_SIZE  \n",
       "0                  PRETZELS        15 OZ  \n",
       "1                  PRETZELS        15 OZ  \n",
       "2                  PRETZELS        15 OZ  \n",
       "3  MOUTHWASHES (ANTISEPTIC)       500 ML  \n",
       "4  MOUTHWASHES (ANTISEPTIC)       500 ML  "
      ]
     },
     "execution_count": 29,
     "metadata": {},
     "output_type": "execute_result"
    }
   ],
   "source": [
    "original_product_data.head(5)"
   ]
  },
  {
   "cell_type": "code",
   "execution_count": 30,
   "metadata": {},
   "outputs": [],
   "source": [
    "# merge the train and product data\n",
    "original_train_data = original_train_data.merge(original_product_data, how='left',on = 'UPC')"
   ]
  },
  {
   "cell_type": "code",
   "execution_count": 31,
   "metadata": {},
   "outputs": [],
   "source": [
    "# Now, we will create another dataframe unique_store_data\n",
    "# We will group the data by STORE_NUM and find unique values of the features 'MANUFACTURER', 'CATEGORY', 'SUB_CATEGORY'\n",
    "\n",
    "unique_store_data = original_train_data.groupby(['STORE_NUM'])['MANUFACTURER', 'CATEGORY', 'SUB_CATEGORY'].nunique().reset_index()"
   ]
  },
  {
   "cell_type": "code",
   "execution_count": 32,
   "metadata": {},
   "outputs": [],
   "source": [
    "# rename the columns of the dataframe 'unique_store_data'\n",
    "unique_store_data.columns = ['STORE_NUM', 'U_MANUFACTURER', 'U_CATEGORY', 'U_SUB_CATEGORY']"
   ]
  },
  {
   "cell_type": "code",
   "execution_count": 33,
   "metadata": {},
   "outputs": [],
   "source": [
    "# now , merge this new dataframe with the dataframe that has all the features.\n",
    "data_with_unique_store = merged_data.merge(unique_store_data, how= 'left', on= 'STORE_NUM')"
   ]
  },
  {
   "cell_type": "code",
   "execution_count": 34,
   "metadata": {},
   "outputs": [
    {
     "data": {
      "text/html": [
       "<div>\n",
       "<style scoped>\n",
       "    .dataframe tbody tr th:only-of-type {\n",
       "        vertical-align: middle;\n",
       "    }\n",
       "\n",
       "    .dataframe tbody tr th {\n",
       "        vertical-align: top;\n",
       "    }\n",
       "\n",
       "    .dataframe thead th {\n",
       "        text-align: right;\n",
       "    }\n",
       "</style>\n",
       "<table border=\"1\" class=\"dataframe\">\n",
       "  <thead>\n",
       "    <tr style=\"text-align: right;\">\n",
       "      <th></th>\n",
       "      <th>WEEK_END_DATE</th>\n",
       "      <th>STORE_NUM</th>\n",
       "      <th>UPC</th>\n",
       "      <th>BASE_PRICE</th>\n",
       "      <th>FEATURE</th>\n",
       "      <th>DISPLAY</th>\n",
       "      <th>UNITS</th>\n",
       "      <th>MANUFACTURER_1</th>\n",
       "      <th>MANUFACTURER_2</th>\n",
       "      <th>MANUFACTURER_3</th>\n",
       "      <th>...</th>\n",
       "      <th>AVG_WEEKLY_BASKETS</th>\n",
       "      <th>year</th>\n",
       "      <th>month</th>\n",
       "      <th>day</th>\n",
       "      <th>day_of_year</th>\n",
       "      <th>week</th>\n",
       "      <th>quarter</th>\n",
       "      <th>U_MANUFACTURER</th>\n",
       "      <th>U_CATEGORY</th>\n",
       "      <th>U_SUB_CATEGORY</th>\n",
       "    </tr>\n",
       "  </thead>\n",
       "  <tbody>\n",
       "    <tr>\n",
       "      <th>0</th>\n",
       "      <td>2009-01-14</td>\n",
       "      <td>367</td>\n",
       "      <td>1111009477</td>\n",
       "      <td>1.57</td>\n",
       "      <td>0</td>\n",
       "      <td>0</td>\n",
       "      <td>13</td>\n",
       "      <td>1</td>\n",
       "      <td>0</td>\n",
       "      <td>0</td>\n",
       "      <td>...</td>\n",
       "      <td>12707</td>\n",
       "      <td>2009</td>\n",
       "      <td>1</td>\n",
       "      <td>14</td>\n",
       "      <td>14</td>\n",
       "      <td>3</td>\n",
       "      <td>1</td>\n",
       "      <td>4</td>\n",
       "      <td>3</td>\n",
       "      <td>5</td>\n",
       "    </tr>\n",
       "    <tr>\n",
       "      <th>1</th>\n",
       "      <td>2009-01-14</td>\n",
       "      <td>367</td>\n",
       "      <td>1111009497</td>\n",
       "      <td>1.39</td>\n",
       "      <td>0</td>\n",
       "      <td>0</td>\n",
       "      <td>20</td>\n",
       "      <td>1</td>\n",
       "      <td>0</td>\n",
       "      <td>0</td>\n",
       "      <td>...</td>\n",
       "      <td>12707</td>\n",
       "      <td>2009</td>\n",
       "      <td>1</td>\n",
       "      <td>14</td>\n",
       "      <td>14</td>\n",
       "      <td>3</td>\n",
       "      <td>1</td>\n",
       "      <td>4</td>\n",
       "      <td>3</td>\n",
       "      <td>5</td>\n",
       "    </tr>\n",
       "    <tr>\n",
       "      <th>2</th>\n",
       "      <td>2009-01-14</td>\n",
       "      <td>367</td>\n",
       "      <td>1111085319</td>\n",
       "      <td>1.88</td>\n",
       "      <td>0</td>\n",
       "      <td>0</td>\n",
       "      <td>14</td>\n",
       "      <td>1</td>\n",
       "      <td>0</td>\n",
       "      <td>0</td>\n",
       "      <td>...</td>\n",
       "      <td>12707</td>\n",
       "      <td>2009</td>\n",
       "      <td>1</td>\n",
       "      <td>14</td>\n",
       "      <td>14</td>\n",
       "      <td>3</td>\n",
       "      <td>1</td>\n",
       "      <td>4</td>\n",
       "      <td>3</td>\n",
       "      <td>5</td>\n",
       "    </tr>\n",
       "    <tr>\n",
       "      <th>3</th>\n",
       "      <td>2009-01-14</td>\n",
       "      <td>367</td>\n",
       "      <td>1111085345</td>\n",
       "      <td>1.88</td>\n",
       "      <td>0</td>\n",
       "      <td>0</td>\n",
       "      <td>29</td>\n",
       "      <td>1</td>\n",
       "      <td>0</td>\n",
       "      <td>0</td>\n",
       "      <td>...</td>\n",
       "      <td>12707</td>\n",
       "      <td>2009</td>\n",
       "      <td>1</td>\n",
       "      <td>14</td>\n",
       "      <td>14</td>\n",
       "      <td>3</td>\n",
       "      <td>1</td>\n",
       "      <td>4</td>\n",
       "      <td>3</td>\n",
       "      <td>5</td>\n",
       "    </tr>\n",
       "    <tr>\n",
       "      <th>4</th>\n",
       "      <td>2009-01-14</td>\n",
       "      <td>367</td>\n",
       "      <td>1111085350</td>\n",
       "      <td>1.98</td>\n",
       "      <td>0</td>\n",
       "      <td>0</td>\n",
       "      <td>35</td>\n",
       "      <td>1</td>\n",
       "      <td>0</td>\n",
       "      <td>0</td>\n",
       "      <td>...</td>\n",
       "      <td>12707</td>\n",
       "      <td>2009</td>\n",
       "      <td>1</td>\n",
       "      <td>14</td>\n",
       "      <td>14</td>\n",
       "      <td>3</td>\n",
       "      <td>1</td>\n",
       "      <td>4</td>\n",
       "      <td>3</td>\n",
       "      <td>5</td>\n",
       "    </tr>\n",
       "  </tbody>\n",
       "</table>\n",
       "<p>5 rows × 54 columns</p>\n",
       "</div>"
      ],
      "text/plain": [
       "  WEEK_END_DATE  STORE_NUM         UPC  BASE_PRICE  FEATURE  DISPLAY  UNITS  \\\n",
       "0    2009-01-14        367  1111009477        1.57        0        0     13   \n",
       "1    2009-01-14        367  1111009497        1.39        0        0     20   \n",
       "2    2009-01-14        367  1111085319        1.88        0        0     14   \n",
       "3    2009-01-14        367  1111085345        1.88        0        0     29   \n",
       "4    2009-01-14        367  1111085350        1.98        0        0     35   \n",
       "\n",
       "   MANUFACTURER_1  MANUFACTURER_2  MANUFACTURER_3  ...  AVG_WEEKLY_BASKETS  \\\n",
       "0               1               0               0  ...               12707   \n",
       "1               1               0               0  ...               12707   \n",
       "2               1               0               0  ...               12707   \n",
       "3               1               0               0  ...               12707   \n",
       "4               1               0               0  ...               12707   \n",
       "\n",
       "   year  month  day  day_of_year  week  quarter  U_MANUFACTURER  U_CATEGORY  \\\n",
       "0  2009      1   14           14     3        1               4           3   \n",
       "1  2009      1   14           14     3        1               4           3   \n",
       "2  2009      1   14           14     3        1               4           3   \n",
       "3  2009      1   14           14     3        1               4           3   \n",
       "4  2009      1   14           14     3        1               4           3   \n",
       "\n",
       "   U_SUB_CATEGORY  \n",
       "0               5  \n",
       "1               5  \n",
       "2               5  \n",
       "3               5  \n",
       "4               5  \n",
       "\n",
       "[5 rows x 54 columns]"
      ]
     },
     "execution_count": 34,
     "metadata": {},
     "output_type": "execute_result"
    }
   ],
   "source": [
    "# let's have a look at the data \n",
    "data_with_unique_store.head()"
   ]
  },
  {
   "cell_type": "code",
   "execution_count": 35,
   "metadata": {},
   "outputs": [
    {
     "data": {
      "application/vnd.jupyter.widget-view+json": {
       "model_id": "",
       "version_major": 2,
       "version_minor": 0
      },
      "text/plain": [
       "training_model:   0%|          | 0/14 [00:00<?, ?it/s]"
      ]
     },
     "metadata": {},
     "output_type": "display_data"
    }
   ],
   "source": [
    "# train a model with the new features.\n",
    "model_RFR = RandomForestRegressor(max_depth=10, n_estimators=175)\n",
    "new_data = data_with_unique_store.drop(columns=['STORE_NUM', 'UPC'])\n",
    "\n",
    "valid_df = validation_df(new_data, week, no_of_months=2, no_of_validation= 14)\n",
    "\n",
    "rmsle_train, rmsle_valid, data_train = train_model(valid_df, new_data, model_RFR)"
   ]
  },
  {
   "cell_type": "code",
   "execution_count": 36,
   "metadata": {},
   "outputs": [
    {
     "name": "stdout",
     "output_type": "stream",
     "text": [
      "RMSLE on train set:  0.43519694616965443\n",
      "RMSLE on validation set: 0.5508423441998416\n"
     ]
    }
   ],
   "source": [
    "print('RMSLE on train set: ', rmsle_train)\n",
    "print('RMSLE on validation set:', rmsle_valid)"
   ]
  },
  {
   "cell_type": "code",
   "execution_count": 37,
   "metadata": {},
   "outputs": [
    {
     "data": {
      "text/plain": [
       "Index(['BASE_PRICE', 'FEATURE', 'DISPLAY', 'MANUFACTURER_1', 'MANUFACTURER_2',\n",
       "       'MANUFACTURER_3', 'MANUFACTURER_4', 'MANUFACTURER_5', 'MANUFACTURER_6',\n",
       "       'MANUFACTURER_7', 'MANUFACTURER_8', 'MANUFACTURER_9', 'CATEGORY_1',\n",
       "       'CATEGORY_2', 'CATEGORY_3', 'CATEGORY_4', 'SUB_CATEGORY_1',\n",
       "       'SUB_CATEGORY_2', 'SUB_CATEGORY_3', 'SUB_CATEGORY_4', 'SUB_CATEGORY_5',\n",
       "       'SUB_CATEGORY_6', 'SUB_CATEGORY_7', 'PRODUCT_SIZE', 'STORE_ID',\n",
       "       'ADDRESS_STATE_PROV_CODE_1', 'ADDRESS_STATE_PROV_CODE_2',\n",
       "       'ADDRESS_STATE_PROV_CODE_3', 'ADDRESS_STATE_PROV_CODE_4', 'MSA_CODE_1',\n",
       "       'MSA_CODE_2', 'MSA_CODE_3', 'MSA_CODE_4', 'MSA_CODE_5', 'MSA_CODE_6',\n",
       "       'MSA_CODE_7', 'MSA_CODE_8', 'MSA_CODE_9', 'SEG_VALUE_NAME',\n",
       "       'SALES_AREA_SIZE_NUM', 'AVG_WEEKLY_BASKETS', 'year', 'month', 'day',\n",
       "       'day_of_year', 'week', 'quarter', 'U_MANUFACTURER', 'U_CATEGORY',\n",
       "       'U_SUB_CATEGORY'],\n",
       "      dtype='object')"
      ]
     },
     "execution_count": 37,
     "metadata": {},
     "output_type": "execute_result"
    }
   ],
   "source": [
    "data_train.columns"
   ]
  },
  {
   "cell_type": "markdown",
   "metadata": {},
   "source": [
    "---\n",
    "\n",
    "***Here, we can see that there is significant improvement in the model performance. On the validation set RMSLE is now `0.600`***\n",
    "\n",
    "---"
   ]
  },
  {
   "cell_type": "markdown",
   "metadata": {},
   "source": [
    "---\n",
    "---\n",
    "\n",
    "### `GET LAG FEATURES`\n",
    "\n",
    "\n",
    "Now, we will create the lag features, which will be the number of units ordered of the same product from the same store at exactly one year ago.\n",
    "\n",
    "---"
   ]
  },
  {
   "cell_type": "code",
   "execution_count": 39,
   "metadata": {},
   "outputs": [],
   "source": [
    "# define a function that will return calculate the units sold number of a particular product from a particular store.\n",
    "# We need to calculate this for 52 Weeks or 1 Year\n",
    "\n",
    "def get_lag_feature(data, no_of_week=1, return_Series= False):\n",
    "    data_copy = data.copy()\n",
    "    sample_1 = data_copy[['WEEK_END_DATE', 'STORE_NUM', 'UPC', 'UNITS']]\n",
    "    data_copy['NEW_DATE'] = data_copy.WEEK_END_DATE + timedelta(days = no_of_week*7)\n",
    "    data_copy['PAST_DATE'] = data_copy.WEEK_END_DATE\n",
    "    \n",
    "    sample_2 = data_copy[['NEW_DATE','PAST_DATE', 'STORE_NUM', 'UPC', 'UNITS']]\n",
    "    final = sample_1.merge(sample_2, how = 'left', left_on = ['WEEK_END_DATE', 'STORE_NUM', 'UPC'], right_on = ['NEW_DATE', 'STORE_NUM', 'UPC'])\n",
    "    final = final.drop(columns=['NEW_DATE'])\n",
    "    final.fillna(0,inplace = True)\n",
    "    \n",
    "    if return_Series:\n",
    "        return final['UNITS_y']\n",
    "    else: return final"
   ]
  },
  {
   "cell_type": "code",
   "execution_count": 40,
   "metadata": {
    "scrolled": true
   },
   "outputs": [
    {
     "data": {
      "text/html": [
       "<div>\n",
       "<style scoped>\n",
       "    .dataframe tbody tr th:only-of-type {\n",
       "        vertical-align: middle;\n",
       "    }\n",
       "\n",
       "    .dataframe tbody tr th {\n",
       "        vertical-align: top;\n",
       "    }\n",
       "\n",
       "    .dataframe thead th {\n",
       "        text-align: right;\n",
       "    }\n",
       "</style>\n",
       "<table border=\"1\" class=\"dataframe\">\n",
       "  <thead>\n",
       "    <tr style=\"text-align: right;\">\n",
       "      <th></th>\n",
       "      <th>WEEK_END_DATE</th>\n",
       "      <th>STORE_NUM</th>\n",
       "      <th>UPC</th>\n",
       "      <th>UNITS_x</th>\n",
       "      <th>PAST_DATE</th>\n",
       "      <th>UNITS_y</th>\n",
       "    </tr>\n",
       "  </thead>\n",
       "  <tbody>\n",
       "    <tr>\n",
       "      <th>0</th>\n",
       "      <td>2009-01-14</td>\n",
       "      <td>367</td>\n",
       "      <td>1111009477</td>\n",
       "      <td>13</td>\n",
       "      <td>0</td>\n",
       "      <td>0.0</td>\n",
       "    </tr>\n",
       "    <tr>\n",
       "      <th>1</th>\n",
       "      <td>2009-01-14</td>\n",
       "      <td>367</td>\n",
       "      <td>1111009497</td>\n",
       "      <td>20</td>\n",
       "      <td>0</td>\n",
       "      <td>0.0</td>\n",
       "    </tr>\n",
       "    <tr>\n",
       "      <th>2</th>\n",
       "      <td>2009-01-14</td>\n",
       "      <td>367</td>\n",
       "      <td>1111085319</td>\n",
       "      <td>14</td>\n",
       "      <td>0</td>\n",
       "      <td>0.0</td>\n",
       "    </tr>\n",
       "    <tr>\n",
       "      <th>3</th>\n",
       "      <td>2009-01-14</td>\n",
       "      <td>367</td>\n",
       "      <td>1111085345</td>\n",
       "      <td>29</td>\n",
       "      <td>0</td>\n",
       "      <td>0.0</td>\n",
       "    </tr>\n",
       "    <tr>\n",
       "      <th>4</th>\n",
       "      <td>2009-01-14</td>\n",
       "      <td>367</td>\n",
       "      <td>1111085350</td>\n",
       "      <td>35</td>\n",
       "      <td>0</td>\n",
       "      <td>0.0</td>\n",
       "    </tr>\n",
       "    <tr>\n",
       "      <th>...</th>\n",
       "      <td>...</td>\n",
       "      <td>...</td>\n",
       "      <td>...</td>\n",
       "      <td>...</td>\n",
       "      <td>...</td>\n",
       "      <td>...</td>\n",
       "    </tr>\n",
       "    <tr>\n",
       "      <th>232261</th>\n",
       "      <td>2011-09-28</td>\n",
       "      <td>29159</td>\n",
       "      <td>7192100336</td>\n",
       "      <td>32</td>\n",
       "      <td>2011-08-03 00:00:00</td>\n",
       "      <td>16.0</td>\n",
       "    </tr>\n",
       "    <tr>\n",
       "      <th>232262</th>\n",
       "      <td>2011-09-28</td>\n",
       "      <td>29159</td>\n",
       "      <td>7192100337</td>\n",
       "      <td>31</td>\n",
       "      <td>2011-08-03 00:00:00</td>\n",
       "      <td>10.0</td>\n",
       "    </tr>\n",
       "    <tr>\n",
       "      <th>232263</th>\n",
       "      <td>2011-09-28</td>\n",
       "      <td>29159</td>\n",
       "      <td>7192100339</td>\n",
       "      <td>23</td>\n",
       "      <td>2011-08-03 00:00:00</td>\n",
       "      <td>13.0</td>\n",
       "    </tr>\n",
       "    <tr>\n",
       "      <th>232264</th>\n",
       "      <td>2011-09-28</td>\n",
       "      <td>29159</td>\n",
       "      <td>7797502248</td>\n",
       "      <td>8</td>\n",
       "      <td>2011-08-03 00:00:00</td>\n",
       "      <td>7.0</td>\n",
       "    </tr>\n",
       "    <tr>\n",
       "      <th>232265</th>\n",
       "      <td>2011-09-28</td>\n",
       "      <td>29159</td>\n",
       "      <td>7797508004</td>\n",
       "      <td>7</td>\n",
       "      <td>2011-08-03 00:00:00</td>\n",
       "      <td>7.0</td>\n",
       "    </tr>\n",
       "  </tbody>\n",
       "</table>\n",
       "<p>232266 rows × 6 columns</p>\n",
       "</div>"
      ],
      "text/plain": [
       "       WEEK_END_DATE  STORE_NUM         UPC  UNITS_x            PAST_DATE  \\\n",
       "0         2009-01-14        367  1111009477       13                    0   \n",
       "1         2009-01-14        367  1111009497       20                    0   \n",
       "2         2009-01-14        367  1111085319       14                    0   \n",
       "3         2009-01-14        367  1111085345       29                    0   \n",
       "4         2009-01-14        367  1111085350       35                    0   \n",
       "...              ...        ...         ...      ...                  ...   \n",
       "232261    2011-09-28      29159  7192100336       32  2011-08-03 00:00:00   \n",
       "232262    2011-09-28      29159  7192100337       31  2011-08-03 00:00:00   \n",
       "232263    2011-09-28      29159  7192100339       23  2011-08-03 00:00:00   \n",
       "232264    2011-09-28      29159  7797502248        8  2011-08-03 00:00:00   \n",
       "232265    2011-09-28      29159  7797508004        7  2011-08-03 00:00:00   \n",
       "\n",
       "        UNITS_y  \n",
       "0           0.0  \n",
       "1           0.0  \n",
       "2           0.0  \n",
       "3           0.0  \n",
       "4           0.0  \n",
       "...         ...  \n",
       "232261     16.0  \n",
       "232262     10.0  \n",
       "232263     13.0  \n",
       "232264      7.0  \n",
       "232265      7.0  \n",
       "\n",
       "[232266 rows x 6 columns]"
      ]
     },
     "execution_count": 40,
     "metadata": {},
     "output_type": "execute_result"
    }
   ],
   "source": [
    "# Let's verify the function is correct or not.\n",
    "# In the following dataframe, We have UNITS_x as the units sold on the transaction data\n",
    "# In the following dataframe, We have UNITS_y as the units sold on the PAST_DATE\n",
    "\n",
    "get_lag_feature(merged_data, no_of_week = 8)"
   ]
  },
  {
   "cell_type": "code",
   "execution_count": 41,
   "metadata": {},
   "outputs": [
    {
     "data": {
      "text/plain": [
       "232263    23\n",
       "Name: UNITS, dtype: int64"
      ]
     },
     "execution_count": 41,
     "metadata": {},
     "output_type": "execute_result"
    }
   ],
   "source": [
    "# let's see the last third row of the dataframe\n",
    "merged_data.loc[(merged_data.WEEK_END_DATE == '2011-09-28') & (merged_data.STORE_NUM == 29159) & (merged_data.UPC == 7192100339), 'UNITS']"
   ]
  },
  {
   "cell_type": "code",
   "execution_count": 42,
   "metadata": {},
   "outputs": [
    {
     "data": {
      "text/plain": [
       "219173    13\n",
       "Name: UNITS, dtype: int64"
      ]
     },
     "execution_count": 42,
     "metadata": {},
     "output_type": "execute_result"
    }
   ],
   "source": [
    "merged_data.loc[(merged_data.WEEK_END_DATE == '2011-08-03') & (merged_data.STORE_NUM == 29159) & (merged_data.UPC == 7192100339), 'UNITS']"
   ]
  },
  {
   "cell_type": "markdown",
   "metadata": {},
   "source": [
    "---"
   ]
  },
  {
   "cell_type": "code",
   "execution_count": 43,
   "metadata": {},
   "outputs": [],
   "source": [
    "#  create a feature UNITS BEFORE 52_WEEK\n",
    "data_with_unique_store['UNITS_BEFORE_52WEEK'] = get_lag_feature(data_with_unique_store, no_of_week= 52, return_Series= True)"
   ]
  },
  {
   "cell_type": "code",
   "execution_count": 44,
   "metadata": {},
   "outputs": [
    {
     "data": {
      "application/vnd.jupyter.widget-view+json": {
       "model_id": "",
       "version_major": 2,
       "version_minor": 0
      },
      "text/plain": [
       "training_model:   0%|          | 0/14 [00:00<?, ?it/s]"
      ]
     },
     "metadata": {},
     "output_type": "display_data"
    }
   ],
   "source": [
    "# train the model with the new feature\n",
    "\n",
    "model_RFR = RandomForestRegressor(max_depth=10, n_estimators=175)\n",
    "\n",
    "new_data = data_with_unique_store.drop(columns= ['STORE_NUM', 'UPC'])\n",
    "valid_df = validation_df(new_data, week, no_of_months=2, no_of_validation= 14)\n",
    "\n",
    "rmsle_train, rmsle_valid, data_train = train_model(valid_df, new_data, model_RFR)"
   ]
  },
  {
   "cell_type": "code",
   "execution_count": 45,
   "metadata": {},
   "outputs": [
    {
     "name": "stdout",
     "output_type": "stream",
     "text": [
      "RMSLE on train set:  0.41160548505610206\n",
      "RMSLE on validation set: 0.5701300242817964\n"
     ]
    }
   ],
   "source": [
    "# mean RMSLE on train and validation set\n",
    "print('RMSLE on train set: ', rmsle_train)\n",
    "print('RMSLE on validation set:', rmsle_valid)"
   ]
  },
  {
   "cell_type": "code",
   "execution_count": 46,
   "metadata": {},
   "outputs": [
    {
     "data": {
      "text/plain": [
       "Index(['BASE_PRICE', 'FEATURE', 'DISPLAY', 'MANUFACTURER_1', 'MANUFACTURER_2',\n",
       "       'MANUFACTURER_3', 'MANUFACTURER_4', 'MANUFACTURER_5', 'MANUFACTURER_6',\n",
       "       'MANUFACTURER_7', 'MANUFACTURER_8', 'MANUFACTURER_9', 'CATEGORY_1',\n",
       "       'CATEGORY_2', 'CATEGORY_3', 'CATEGORY_4', 'SUB_CATEGORY_1',\n",
       "       'SUB_CATEGORY_2', 'SUB_CATEGORY_3', 'SUB_CATEGORY_4', 'SUB_CATEGORY_5',\n",
       "       'SUB_CATEGORY_6', 'SUB_CATEGORY_7', 'PRODUCT_SIZE', 'STORE_ID',\n",
       "       'ADDRESS_STATE_PROV_CODE_1', 'ADDRESS_STATE_PROV_CODE_2',\n",
       "       'ADDRESS_STATE_PROV_CODE_3', 'ADDRESS_STATE_PROV_CODE_4', 'MSA_CODE_1',\n",
       "       'MSA_CODE_2', 'MSA_CODE_3', 'MSA_CODE_4', 'MSA_CODE_5', 'MSA_CODE_6',\n",
       "       'MSA_CODE_7', 'MSA_CODE_8', 'MSA_CODE_9', 'SEG_VALUE_NAME',\n",
       "       'SALES_AREA_SIZE_NUM', 'AVG_WEEKLY_BASKETS', 'year', 'month', 'day',\n",
       "       'day_of_year', 'week', 'quarter', 'U_MANUFACTURER', 'U_CATEGORY',\n",
       "       'U_SUB_CATEGORY', 'UNITS_BEFORE_52WEEK'],\n",
       "      dtype='object')"
      ]
     },
     "execution_count": 46,
     "metadata": {},
     "output_type": "execute_result"
    }
   ],
   "source": [
    "# columns on the updated data.\n",
    "data_train.columns"
   ]
  },
  {
   "cell_type": "markdown",
   "metadata": {},
   "source": [
    "---\n",
    "\n",
    "***We can see a slight improvement in the RMSLE on the validaiton set. It is `0.585` now***\n",
    "\n",
    "---"
   ]
  },
  {
   "cell_type": "markdown",
   "metadata": {},
   "source": [
    "---\n",
    "\n",
    "### `DIFFERENCE IN PRICE FROM LAST WEEK`\n",
    "\n",
    "This will be our new feature. Whether the increase/decrease in price from the last week makes any difference to the model or not. \n",
    "\n",
    "\n",
    "---"
   ]
  },
  {
   "cell_type": "code",
   "execution_count": 47,
   "metadata": {},
   "outputs": [],
   "source": [
    "# get the price difference\n",
    "data_with_unique_store['price_difference'] = data_with_unique_store['BASE_PRICE'] - data_with_unique_store.groupby(['STORE_NUM', 'UPC'])['BASE_PRICE'].shift(1)"
   ]
  },
  {
   "cell_type": "code",
   "execution_count": 48,
   "metadata": {},
   "outputs": [
    {
     "data": {
      "text/html": [
       "<div>\n",
       "<style scoped>\n",
       "    .dataframe tbody tr th:only-of-type {\n",
       "        vertical-align: middle;\n",
       "    }\n",
       "\n",
       "    .dataframe tbody tr th {\n",
       "        vertical-align: top;\n",
       "    }\n",
       "\n",
       "    .dataframe thead th {\n",
       "        text-align: right;\n",
       "    }\n",
       "</style>\n",
       "<table border=\"1\" class=\"dataframe\">\n",
       "  <thead>\n",
       "    <tr style=\"text-align: right;\">\n",
       "      <th></th>\n",
       "      <th>STORE_NUM</th>\n",
       "      <th>UPC</th>\n",
       "      <th>BASE_PRICE</th>\n",
       "      <th>price_difference</th>\n",
       "      <th>UNITS</th>\n",
       "    </tr>\n",
       "  </thead>\n",
       "  <tbody>\n",
       "    <tr>\n",
       "      <th>0</th>\n",
       "      <td>367</td>\n",
       "      <td>1111009477</td>\n",
       "      <td>1.57</td>\n",
       "      <td>NaN</td>\n",
       "      <td>13</td>\n",
       "    </tr>\n",
       "    <tr>\n",
       "      <th>1640</th>\n",
       "      <td>367</td>\n",
       "      <td>1111009477</td>\n",
       "      <td>1.57</td>\n",
       "      <td>0.00</td>\n",
       "      <td>24</td>\n",
       "    </tr>\n",
       "    <tr>\n",
       "      <th>3276</th>\n",
       "      <td>367</td>\n",
       "      <td>1111009477</td>\n",
       "      <td>1.36</td>\n",
       "      <td>-0.21</td>\n",
       "      <td>7</td>\n",
       "    </tr>\n",
       "    <tr>\n",
       "      <th>4912</th>\n",
       "      <td>367</td>\n",
       "      <td>1111009477</td>\n",
       "      <td>1.38</td>\n",
       "      <td>0.02</td>\n",
       "      <td>12</td>\n",
       "    </tr>\n",
       "    <tr>\n",
       "      <th>6552</th>\n",
       "      <td>367</td>\n",
       "      <td>1111009477</td>\n",
       "      <td>1.50</td>\n",
       "      <td>0.12</td>\n",
       "      <td>16</td>\n",
       "    </tr>\n",
       "    <tr>\n",
       "      <th>8179</th>\n",
       "      <td>367</td>\n",
       "      <td>1111009477</td>\n",
       "      <td>1.49</td>\n",
       "      <td>-0.01</td>\n",
       "      <td>21</td>\n",
       "    </tr>\n",
       "    <tr>\n",
       "      <th>9814</th>\n",
       "      <td>367</td>\n",
       "      <td>1111009477</td>\n",
       "      <td>1.49</td>\n",
       "      <td>0.00</td>\n",
       "      <td>11</td>\n",
       "    </tr>\n",
       "    <tr>\n",
       "      <th>11427</th>\n",
       "      <td>367</td>\n",
       "      <td>1111009477</td>\n",
       "      <td>1.49</td>\n",
       "      <td>0.00</td>\n",
       "      <td>10</td>\n",
       "    </tr>\n",
       "    <tr>\n",
       "      <th>13040</th>\n",
       "      <td>367</td>\n",
       "      <td>1111009477</td>\n",
       "      <td>1.39</td>\n",
       "      <td>-0.10</td>\n",
       "      <td>13</td>\n",
       "    </tr>\n",
       "    <tr>\n",
       "      <th>14677</th>\n",
       "      <td>367</td>\n",
       "      <td>1111009477</td>\n",
       "      <td>1.48</td>\n",
       "      <td>0.09</td>\n",
       "      <td>13</td>\n",
       "    </tr>\n",
       "  </tbody>\n",
       "</table>\n",
       "</div>"
      ],
      "text/plain": [
       "       STORE_NUM         UPC  BASE_PRICE  price_difference  UNITS\n",
       "0            367  1111009477        1.57               NaN     13\n",
       "1640         367  1111009477        1.57              0.00     24\n",
       "3276         367  1111009477        1.36             -0.21      7\n",
       "4912         367  1111009477        1.38              0.02     12\n",
       "6552         367  1111009477        1.50              0.12     16\n",
       "8179         367  1111009477        1.49             -0.01     21\n",
       "9814         367  1111009477        1.49              0.00     11\n",
       "11427        367  1111009477        1.49              0.00     10\n",
       "13040        367  1111009477        1.39             -0.10     13\n",
       "14677        367  1111009477        1.48              0.09     13"
      ]
     },
     "execution_count": 48,
     "metadata": {},
     "output_type": "execute_result"
    }
   ],
   "source": [
    "# let's verify we have calculated the right price difference or not\n",
    "data_with_unique_store.loc[(data_with_unique_store.STORE_NUM == 367) & (data_with_unique_store.UPC == 1111009477),['STORE_NUM', 'UPC', 'BASE_PRICE', 'price_difference','UNITS']].head(10)"
   ]
  },
  {
   "cell_type": "code",
   "execution_count": 49,
   "metadata": {},
   "outputs": [],
   "source": [
    "# fill the null values in the price difference with 0\n",
    "data_with_unique_store.price_difference.fillna(0,inplace=True)"
   ]
  },
  {
   "cell_type": "code",
   "execution_count": 50,
   "metadata": {},
   "outputs": [
    {
     "data": {
      "application/vnd.jupyter.widget-view+json": {
       "model_id": "",
       "version_major": 2,
       "version_minor": 0
      },
      "text/plain": [
       "training_model:   0%|          | 0/14 [00:00<?, ?it/s]"
      ]
     },
     "metadata": {},
     "output_type": "display_data"
    }
   ],
   "source": [
    "model_RFR = RandomForestRegressor(max_depth=10, n_estimators=175)\n",
    "\n",
    "new_data = data_with_unique_store.drop(columns=['STORE_NUM', 'UPC'])\n",
    "\n",
    "valid_df = validation_df(new_data, week, no_of_months= 2, no_of_validation= 14)\n",
    "\n",
    "rmsle_train, rmsle_valid, data_train = train_model(valid_df, new_data, model_RFR)"
   ]
  },
  {
   "cell_type": "code",
   "execution_count": 50,
   "metadata": {},
   "outputs": [
    {
     "name": "stdout",
     "output_type": "stream",
     "text": [
      "RMSLE on train set:  0.42472860631631226\n",
      "RMSLE on validation set: 0.583687603561944\n"
     ]
    }
   ],
   "source": [
    "print('RMSLE on train set: ', rmsle_train)\n",
    "print('RMSLE on validation set:', rmsle_valid)"
   ]
  },
  {
   "cell_type": "code",
   "execution_count": 51,
   "metadata": {},
   "outputs": [
    {
     "data": {
      "text/plain": [
       "Index(['BASE_PRICE', 'FEATURE', 'DISPLAY', 'MANUFACTURER_1', 'MANUFACTURER_2',\n",
       "       'MANUFACTURER_3', 'MANUFACTURER_4', 'MANUFACTURER_5', 'MANUFACTURER_6',\n",
       "       'MANUFACTURER_7', 'MANUFACTURER_8', 'MANUFACTURER_9', 'CATEGORY_1',\n",
       "       'CATEGORY_2', 'CATEGORY_3', 'CATEGORY_4', 'SUB_CATEGORY_1',\n",
       "       'SUB_CATEGORY_2', 'SUB_CATEGORY_3', 'SUB_CATEGORY_4', 'SUB_CATEGORY_5',\n",
       "       'SUB_CATEGORY_6', 'SUB_CATEGORY_7', 'PRODUCT_SIZE', 'STORE_ID',\n",
       "       'ADDRESS_STATE_PROV_CODE_1', 'ADDRESS_STATE_PROV_CODE_2',\n",
       "       'ADDRESS_STATE_PROV_CODE_3', 'ADDRESS_STATE_PROV_CODE_4', 'MSA_CODE_1',\n",
       "       'MSA_CODE_2', 'MSA_CODE_3', 'MSA_CODE_4', 'MSA_CODE_5', 'MSA_CODE_6',\n",
       "       'MSA_CODE_7', 'MSA_CODE_8', 'MSA_CODE_9', 'SEG_VALUE_NAME',\n",
       "       'SALES_AREA_SIZE_NUM', 'AVG_WEEKLY_BASKETS', 'year', 'month', 'day',\n",
       "       'day_of_year', 'week', 'quarter', 'U_MANUFACTURER', 'U_CATEGORY',\n",
       "       'U_SUB_CATEGORY', 'UNITS_BEFORE_52WEEK', 'price_difference'],\n",
       "      dtype='object')"
      ]
     },
     "execution_count": 51,
     "metadata": {},
     "output_type": "execute_result"
    }
   ],
   "source": [
    "data_train.columns"
   ]
  },
  {
   "cell_type": "markdown",
   "metadata": {},
   "source": [
    "---\n",
    "\n",
    "The performance of the model has not changed. It is same as before."
   ]
  },
  {
   "cell_type": "markdown",
   "metadata": {},
   "source": [
    "----\n",
    "---\n",
    "\n",
    "### `AVERAGE BEFORE 2 MONTH`\n",
    "\n",
    "- As we have one week gap between the training period and the validation set so for each store and product combination we will calculate the average units sold in 2 months before 1 week.\n",
    "- In simple terms, the average number of units sold from 7 days to 63 days ago\n",
    "- Let's see is this feature useful to us or not.\n",
    "\n",
    "---"
   ]
  },
  {
   "cell_type": "code",
   "execution_count": 52,
   "metadata": {},
   "outputs": [],
   "source": [
    "# make 2 columns one with 63 days difference from the week end date and another with 7 days difference\n",
    "data_with_unique_store['2_MONTH_BEFORE'] = data_with_unique_store.WEEK_END_DATE - timedelta(days=63)\n",
    "data_with_unique_store['1_WEEK_BEFORE'] = data_with_unique_store.WEEK_END_DATE - timedelta(days=7)"
   ]
  },
  {
   "cell_type": "code",
   "execution_count": 53,
   "metadata": {},
   "outputs": [
    {
     "data": {
      "text/html": [
       "<div>\n",
       "<style scoped>\n",
       "    .dataframe tbody tr th:only-of-type {\n",
       "        vertical-align: middle;\n",
       "    }\n",
       "\n",
       "    .dataframe tbody tr th {\n",
       "        vertical-align: top;\n",
       "    }\n",
       "\n",
       "    .dataframe thead th {\n",
       "        text-align: right;\n",
       "    }\n",
       "</style>\n",
       "<table border=\"1\" class=\"dataframe\">\n",
       "  <thead>\n",
       "    <tr style=\"text-align: right;\">\n",
       "      <th></th>\n",
       "      <th>WEEK_END_DATE</th>\n",
       "      <th>2_MONTH_BEFORE</th>\n",
       "      <th>1_WEEK_BEFORE</th>\n",
       "    </tr>\n",
       "  </thead>\n",
       "  <tbody>\n",
       "    <tr>\n",
       "      <th>232261</th>\n",
       "      <td>2011-09-28</td>\n",
       "      <td>2011-07-27</td>\n",
       "      <td>2011-09-21</td>\n",
       "    </tr>\n",
       "    <tr>\n",
       "      <th>232262</th>\n",
       "      <td>2011-09-28</td>\n",
       "      <td>2011-07-27</td>\n",
       "      <td>2011-09-21</td>\n",
       "    </tr>\n",
       "    <tr>\n",
       "      <th>232263</th>\n",
       "      <td>2011-09-28</td>\n",
       "      <td>2011-07-27</td>\n",
       "      <td>2011-09-21</td>\n",
       "    </tr>\n",
       "    <tr>\n",
       "      <th>232264</th>\n",
       "      <td>2011-09-28</td>\n",
       "      <td>2011-07-27</td>\n",
       "      <td>2011-09-21</td>\n",
       "    </tr>\n",
       "    <tr>\n",
       "      <th>232265</th>\n",
       "      <td>2011-09-28</td>\n",
       "      <td>2011-07-27</td>\n",
       "      <td>2011-09-21</td>\n",
       "    </tr>\n",
       "  </tbody>\n",
       "</table>\n",
       "</div>"
      ],
      "text/plain": [
       "       WEEK_END_DATE 2_MONTH_BEFORE 1_WEEK_BEFORE\n",
       "232261    2011-09-28     2011-07-27    2011-09-21\n",
       "232262    2011-09-28     2011-07-27    2011-09-21\n",
       "232263    2011-09-28     2011-07-27    2011-09-21\n",
       "232264    2011-09-28     2011-07-27    2011-09-21\n",
       "232265    2011-09-28     2011-07-27    2011-09-21"
      ]
     },
     "execution_count": 53,
     "metadata": {},
     "output_type": "execute_result"
    }
   ],
   "source": [
    "data_with_unique_store[['WEEK_END_DATE', '2_MONTH_BEFORE', '1_WEEK_BEFORE']].tail()"
   ]
  },
  {
   "cell_type": "code",
   "execution_count": 54,
   "metadata": {},
   "outputs": [],
   "source": [
    "from tqdm._tqdm_notebook import tqdm_notebook\n",
    "tqdm_notebook.pandas()\n",
    "# calculate the average units in the period\n",
    "def get_average_units(x):\n",
    "    data_2month = data_with_unique_store[(data_with_unique_store.WEEK_END_DATE <= x['1_WEEK_BEFORE']) & (data_with_unique_store['WEEK_END_DATE'] >= x['2_MONTH_BEFORE']) & (data_with_unique_store['STORE_NUM'] == x['STORE_NUM']) & (data_with_unique_store['UPC'] == x['UPC']) ]\n",
    "    return data_2month.UNITS.mean() "
   ]
  },
  {
   "cell_type": "code",
   "execution_count": 55,
   "metadata": {},
   "outputs": [
    {
     "data": {
      "application/vnd.jupyter.widget-view+json": {
       "model_id": "75dc4675060d41cb9a772a5a8d47b90b",
       "version_major": 2,
       "version_minor": 0
      },
      "text/plain": [
       "  0%|          | 0/232266 [00:00<?, ?it/s]"
      ]
     },
     "metadata": {},
     "output_type": "display_data"
    }
   ],
   "source": [
    "data_with_unique_store['AVERAGE_UNITS_IN_2_MONTH'] = data_with_unique_store.progress_apply(get_average_units,axis=1)"
   ]
  },
  {
   "cell_type": "code",
   "execution_count": 56,
   "metadata": {},
   "outputs": [],
   "source": [
    "# fill the null values with 0\n",
    "data_with_unique_store.AVERAGE_UNITS_IN_2_MONTH.fillna(0,inplace=True)"
   ]
  },
  {
   "cell_type": "code",
   "execution_count": 57,
   "metadata": {},
   "outputs": [],
   "source": [
    "# drop the date columns that we have created, as they are of no use now.\n",
    "new_data = data_with_unique_store.drop(columns=['2_MONTH_BEFORE','1_WEEK_BEFORE', 'STORE_NUM', 'UPC'])"
   ]
  },
  {
   "cell_type": "code",
   "execution_count": 58,
   "metadata": {},
   "outputs": [
    {
     "data": {
      "application/vnd.jupyter.widget-view+json": {
       "model_id": "",
       "version_major": 2,
       "version_minor": 0
      },
      "text/plain": [
       "training_model:   0%|          | 0/14 [00:00<?, ?it/s]"
      ]
     },
     "metadata": {},
     "output_type": "display_data"
    }
   ],
   "source": [
    "model_RFR = RandomForestRegressor(max_depth=10, n_estimators=175)\n",
    "\n",
    "valid_df = validation_df(new_data, week, no_of_months=2, no_of_validation= 14)\n",
    "\n",
    "rmsle_train, rmsle_valid, data_train = train_model(valid_df,new_data, model_RFR)"
   ]
  },
  {
   "cell_type": "code",
   "execution_count": 59,
   "metadata": {},
   "outputs": [
    {
     "name": "stdout",
     "output_type": "stream",
     "text": [
      "RMSLE on train set:  0.3447241847232837\n",
      "RMSLE on validation set: 0.4626060340839219\n"
     ]
    }
   ],
   "source": [
    "print('RMSLE on train set: ', rmsle_train)\n",
    "print('RMSLE on validation set:', rmsle_valid)"
   ]
  },
  {
   "cell_type": "code",
   "execution_count": 60,
   "metadata": {},
   "outputs": [
    {
     "data": {
      "text/plain": [
       "Index(['BASE_PRICE', 'FEATURE', 'DISPLAY', 'MANUFACTURER_1', 'MANUFACTURER_2',\n",
       "       'MANUFACTURER_3', 'MANUFACTURER_4', 'MANUFACTURER_5', 'MANUFACTURER_6',\n",
       "       'MANUFACTURER_7', 'MANUFACTURER_8', 'MANUFACTURER_9', 'CATEGORY_1',\n",
       "       'CATEGORY_2', 'CATEGORY_3', 'CATEGORY_4', 'SUB_CATEGORY_1',\n",
       "       'SUB_CATEGORY_2', 'SUB_CATEGORY_3', 'SUB_CATEGORY_4', 'SUB_CATEGORY_5',\n",
       "       'SUB_CATEGORY_6', 'SUB_CATEGORY_7', 'PRODUCT_SIZE', 'STORE_ID',\n",
       "       'ADDRESS_STATE_PROV_CODE_1', 'ADDRESS_STATE_PROV_CODE_2',\n",
       "       'ADDRESS_STATE_PROV_CODE_3', 'ADDRESS_STATE_PROV_CODE_4', 'MSA_CODE_1',\n",
       "       'MSA_CODE_2', 'MSA_CODE_3', 'MSA_CODE_4', 'MSA_CODE_5', 'MSA_CODE_6',\n",
       "       'MSA_CODE_7', 'MSA_CODE_8', 'MSA_CODE_9', 'SEG_VALUE_NAME',\n",
       "       'SALES_AREA_SIZE_NUM', 'AVG_WEEKLY_BASKETS', 'year', 'month', 'day',\n",
       "       'day_of_year', 'week', 'quarter', 'U_MANUFACTURER', 'U_CATEGORY',\n",
       "       'U_SUB_CATEGORY', 'UNITS_BEFORE_52WEEK', 'price_difference',\n",
       "       'AVERAGE_UNITS_IN_2_MONTH'],\n",
       "      dtype='object')"
      ]
     },
     "execution_count": 60,
     "metadata": {},
     "output_type": "execute_result"
    }
   ],
   "source": [
    "data_train.columns"
   ]
  },
  {
   "cell_type": "markdown",
   "metadata": {},
   "source": [
    "---\n",
    "\n",
    "- The last feature that we added has made significant improvement in the RMSLE score on the validation data.\n",
    "- The RMSLE is now `0.4677`"
   ]
  },
  {
   "cell_type": "code",
   "execution_count": 61,
   "metadata": {},
   "outputs": [],
   "source": [
    "data_with_unique_store.to_csv('final_data.csv',index=False)"
   ]
  },
  {
   "cell_type": "markdown",
   "metadata": {},
   "source": [
    "---\n",
    "\n",
    "- ***`Try out some more features that you can think of.`*** \n",
    "- ***`Let us know in the Discussions whether they have improved the score or not.`***\n",
    "\n",
    "---"
   ]
  },
  {
   "cell_type": "code",
   "execution_count": null,
   "metadata": {},
   "outputs": [],
   "source": []
  }
 ],
 "metadata": {
  "kernelspec": {
   "display_name": "Python 3 (ipykernel)",
   "language": "python",
   "name": "python3"
  },
  "language_info": {
   "codemirror_mode": {
    "name": "ipython",
    "version": 3
   },
   "file_extension": ".py",
   "mimetype": "text/x-python",
   "name": "python",
   "nbconvert_exporter": "python",
   "pygments_lexer": "ipython3",
   "version": "3.11.1"
  }
 },
 "nbformat": 4,
 "nbformat_minor": 2
}
